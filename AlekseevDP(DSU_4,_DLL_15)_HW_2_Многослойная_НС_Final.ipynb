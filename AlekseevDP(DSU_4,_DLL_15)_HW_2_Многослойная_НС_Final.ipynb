{
  "nbformat": 4,
  "nbformat_minor": 0,
  "metadata": {
    "colab": {
      "provenance": [],
      "collapsed_sections": []
    },
    "kernelspec": {
      "name": "python3",
      "display_name": "Python 3"
    },
    "language_info": {
      "name": "python"
    },
    "widgets": {
      "application/vnd.jupyter.widget-state+json": {
        "68cfe662037d4a4eb7b4f1b5d526e630": {
          "model_module": "@jupyter-widgets/controls",
          "model_name": "HBoxModel",
          "model_module_version": "1.5.0",
          "state": {
            "_dom_classes": [],
            "_model_module": "@jupyter-widgets/controls",
            "_model_module_version": "1.5.0",
            "_model_name": "HBoxModel",
            "_view_count": null,
            "_view_module": "@jupyter-widgets/controls",
            "_view_module_version": "1.5.0",
            "_view_name": "HBoxView",
            "box_style": "",
            "children": [
              "IPY_MODEL_e2557a7c484c49b1ad5b31a4f954e579",
              "IPY_MODEL_c7ee552083b64ee894247f6e75ca5404",
              "IPY_MODEL_c7458b1f796f4f748222ca84d9cc8452"
            ],
            "layout": "IPY_MODEL_65453b63ce9b465daabbb830912c43e9"
          }
        },
        "e2557a7c484c49b1ad5b31a4f954e579": {
          "model_module": "@jupyter-widgets/controls",
          "model_name": "HTMLModel",
          "model_module_version": "1.5.0",
          "state": {
            "_dom_classes": [],
            "_model_module": "@jupyter-widgets/controls",
            "_model_module_version": "1.5.0",
            "_model_name": "HTMLModel",
            "_view_count": null,
            "_view_module": "@jupyter-widgets/controls",
            "_view_module_version": "1.5.0",
            "_view_name": "HTMLView",
            "description": "",
            "description_tooltip": null,
            "layout": "IPY_MODEL_db8d4c2c4f6f4f23bf86640d8f459f6e",
            "placeholder": "​",
            "style": "IPY_MODEL_ff22e6cff848438e9f7c17855d93edc6",
            "value": "100%"
          }
        },
        "c7ee552083b64ee894247f6e75ca5404": {
          "model_module": "@jupyter-widgets/controls",
          "model_name": "FloatProgressModel",
          "model_module_version": "1.5.0",
          "state": {
            "_dom_classes": [],
            "_model_module": "@jupyter-widgets/controls",
            "_model_module_version": "1.5.0",
            "_model_name": "FloatProgressModel",
            "_view_count": null,
            "_view_module": "@jupyter-widgets/controls",
            "_view_module_version": "1.5.0",
            "_view_name": "ProgressView",
            "bar_style": "success",
            "description": "",
            "description_tooltip": null,
            "layout": "IPY_MODEL_29abd233f7ab4294b398470fb11c9c66",
            "max": 26421880,
            "min": 0,
            "orientation": "horizontal",
            "style": "IPY_MODEL_57cc00c1cd494ece9340d0dc3b230d63",
            "value": 26421880
          }
        },
        "c7458b1f796f4f748222ca84d9cc8452": {
          "model_module": "@jupyter-widgets/controls",
          "model_name": "HTMLModel",
          "model_module_version": "1.5.0",
          "state": {
            "_dom_classes": [],
            "_model_module": "@jupyter-widgets/controls",
            "_model_module_version": "1.5.0",
            "_model_name": "HTMLModel",
            "_view_count": null,
            "_view_module": "@jupyter-widgets/controls",
            "_view_module_version": "1.5.0",
            "_view_name": "HTMLView",
            "description": "",
            "description_tooltip": null,
            "layout": "IPY_MODEL_11183366d97c4e96bba6885ae559b9c1",
            "placeholder": "​",
            "style": "IPY_MODEL_b7a9a20399da4869bf79edb2b48707da",
            "value": " 26421880/26421880 [00:01&lt;00:00, 24539572.78it/s]"
          }
        },
        "65453b63ce9b465daabbb830912c43e9": {
          "model_module": "@jupyter-widgets/base",
          "model_name": "LayoutModel",
          "model_module_version": "1.2.0",
          "state": {
            "_model_module": "@jupyter-widgets/base",
            "_model_module_version": "1.2.0",
            "_model_name": "LayoutModel",
            "_view_count": null,
            "_view_module": "@jupyter-widgets/base",
            "_view_module_version": "1.2.0",
            "_view_name": "LayoutView",
            "align_content": null,
            "align_items": null,
            "align_self": null,
            "border": null,
            "bottom": null,
            "display": null,
            "flex": null,
            "flex_flow": null,
            "grid_area": null,
            "grid_auto_columns": null,
            "grid_auto_flow": null,
            "grid_auto_rows": null,
            "grid_column": null,
            "grid_gap": null,
            "grid_row": null,
            "grid_template_areas": null,
            "grid_template_columns": null,
            "grid_template_rows": null,
            "height": null,
            "justify_content": null,
            "justify_items": null,
            "left": null,
            "margin": null,
            "max_height": null,
            "max_width": null,
            "min_height": null,
            "min_width": null,
            "object_fit": null,
            "object_position": null,
            "order": null,
            "overflow": null,
            "overflow_x": null,
            "overflow_y": null,
            "padding": null,
            "right": null,
            "top": null,
            "visibility": null,
            "width": null
          }
        },
        "db8d4c2c4f6f4f23bf86640d8f459f6e": {
          "model_module": "@jupyter-widgets/base",
          "model_name": "LayoutModel",
          "model_module_version": "1.2.0",
          "state": {
            "_model_module": "@jupyter-widgets/base",
            "_model_module_version": "1.2.0",
            "_model_name": "LayoutModel",
            "_view_count": null,
            "_view_module": "@jupyter-widgets/base",
            "_view_module_version": "1.2.0",
            "_view_name": "LayoutView",
            "align_content": null,
            "align_items": null,
            "align_self": null,
            "border": null,
            "bottom": null,
            "display": null,
            "flex": null,
            "flex_flow": null,
            "grid_area": null,
            "grid_auto_columns": null,
            "grid_auto_flow": null,
            "grid_auto_rows": null,
            "grid_column": null,
            "grid_gap": null,
            "grid_row": null,
            "grid_template_areas": null,
            "grid_template_columns": null,
            "grid_template_rows": null,
            "height": null,
            "justify_content": null,
            "justify_items": null,
            "left": null,
            "margin": null,
            "max_height": null,
            "max_width": null,
            "min_height": null,
            "min_width": null,
            "object_fit": null,
            "object_position": null,
            "order": null,
            "overflow": null,
            "overflow_x": null,
            "overflow_y": null,
            "padding": null,
            "right": null,
            "top": null,
            "visibility": null,
            "width": null
          }
        },
        "ff22e6cff848438e9f7c17855d93edc6": {
          "model_module": "@jupyter-widgets/controls",
          "model_name": "DescriptionStyleModel",
          "model_module_version": "1.5.0",
          "state": {
            "_model_module": "@jupyter-widgets/controls",
            "_model_module_version": "1.5.0",
            "_model_name": "DescriptionStyleModel",
            "_view_count": null,
            "_view_module": "@jupyter-widgets/base",
            "_view_module_version": "1.2.0",
            "_view_name": "StyleView",
            "description_width": ""
          }
        },
        "29abd233f7ab4294b398470fb11c9c66": {
          "model_module": "@jupyter-widgets/base",
          "model_name": "LayoutModel",
          "model_module_version": "1.2.0",
          "state": {
            "_model_module": "@jupyter-widgets/base",
            "_model_module_version": "1.2.0",
            "_model_name": "LayoutModel",
            "_view_count": null,
            "_view_module": "@jupyter-widgets/base",
            "_view_module_version": "1.2.0",
            "_view_name": "LayoutView",
            "align_content": null,
            "align_items": null,
            "align_self": null,
            "border": null,
            "bottom": null,
            "display": null,
            "flex": null,
            "flex_flow": null,
            "grid_area": null,
            "grid_auto_columns": null,
            "grid_auto_flow": null,
            "grid_auto_rows": null,
            "grid_column": null,
            "grid_gap": null,
            "grid_row": null,
            "grid_template_areas": null,
            "grid_template_columns": null,
            "grid_template_rows": null,
            "height": null,
            "justify_content": null,
            "justify_items": null,
            "left": null,
            "margin": null,
            "max_height": null,
            "max_width": null,
            "min_height": null,
            "min_width": null,
            "object_fit": null,
            "object_position": null,
            "order": null,
            "overflow": null,
            "overflow_x": null,
            "overflow_y": null,
            "padding": null,
            "right": null,
            "top": null,
            "visibility": null,
            "width": null
          }
        },
        "57cc00c1cd494ece9340d0dc3b230d63": {
          "model_module": "@jupyter-widgets/controls",
          "model_name": "ProgressStyleModel",
          "model_module_version": "1.5.0",
          "state": {
            "_model_module": "@jupyter-widgets/controls",
            "_model_module_version": "1.5.0",
            "_model_name": "ProgressStyleModel",
            "_view_count": null,
            "_view_module": "@jupyter-widgets/base",
            "_view_module_version": "1.2.0",
            "_view_name": "StyleView",
            "bar_color": null,
            "description_width": ""
          }
        },
        "11183366d97c4e96bba6885ae559b9c1": {
          "model_module": "@jupyter-widgets/base",
          "model_name": "LayoutModel",
          "model_module_version": "1.2.0",
          "state": {
            "_model_module": "@jupyter-widgets/base",
            "_model_module_version": "1.2.0",
            "_model_name": "LayoutModel",
            "_view_count": null,
            "_view_module": "@jupyter-widgets/base",
            "_view_module_version": "1.2.0",
            "_view_name": "LayoutView",
            "align_content": null,
            "align_items": null,
            "align_self": null,
            "border": null,
            "bottom": null,
            "display": null,
            "flex": null,
            "flex_flow": null,
            "grid_area": null,
            "grid_auto_columns": null,
            "grid_auto_flow": null,
            "grid_auto_rows": null,
            "grid_column": null,
            "grid_gap": null,
            "grid_row": null,
            "grid_template_areas": null,
            "grid_template_columns": null,
            "grid_template_rows": null,
            "height": null,
            "justify_content": null,
            "justify_items": null,
            "left": null,
            "margin": null,
            "max_height": null,
            "max_width": null,
            "min_height": null,
            "min_width": null,
            "object_fit": null,
            "object_position": null,
            "order": null,
            "overflow": null,
            "overflow_x": null,
            "overflow_y": null,
            "padding": null,
            "right": null,
            "top": null,
            "visibility": null,
            "width": null
          }
        },
        "b7a9a20399da4869bf79edb2b48707da": {
          "model_module": "@jupyter-widgets/controls",
          "model_name": "DescriptionStyleModel",
          "model_module_version": "1.5.0",
          "state": {
            "_model_module": "@jupyter-widgets/controls",
            "_model_module_version": "1.5.0",
            "_model_name": "DescriptionStyleModel",
            "_view_count": null,
            "_view_module": "@jupyter-widgets/base",
            "_view_module_version": "1.2.0",
            "_view_name": "StyleView",
            "description_width": ""
          }
        },
        "a73aedce1a3948a381e31164e5776eb5": {
          "model_module": "@jupyter-widgets/controls",
          "model_name": "HBoxModel",
          "model_module_version": "1.5.0",
          "state": {
            "_dom_classes": [],
            "_model_module": "@jupyter-widgets/controls",
            "_model_module_version": "1.5.0",
            "_model_name": "HBoxModel",
            "_view_count": null,
            "_view_module": "@jupyter-widgets/controls",
            "_view_module_version": "1.5.0",
            "_view_name": "HBoxView",
            "box_style": "",
            "children": [
              "IPY_MODEL_dd84834d4f894e7086b7a393a2ae444d",
              "IPY_MODEL_38c99b40131d4f308b7b90ad2f13a7c3",
              "IPY_MODEL_49d2ac87c2954ddd819af1ffe3e3a1d0"
            ],
            "layout": "IPY_MODEL_230b48505211492cad35d3744015fb71"
          }
        },
        "dd84834d4f894e7086b7a393a2ae444d": {
          "model_module": "@jupyter-widgets/controls",
          "model_name": "HTMLModel",
          "model_module_version": "1.5.0",
          "state": {
            "_dom_classes": [],
            "_model_module": "@jupyter-widgets/controls",
            "_model_module_version": "1.5.0",
            "_model_name": "HTMLModel",
            "_view_count": null,
            "_view_module": "@jupyter-widgets/controls",
            "_view_module_version": "1.5.0",
            "_view_name": "HTMLView",
            "description": "",
            "description_tooltip": null,
            "layout": "IPY_MODEL_ba0536f8405042d8b0847dfb04acfd81",
            "placeholder": "​",
            "style": "IPY_MODEL_cb4728b052ae4f77bcf87930736d7e9c",
            "value": "100%"
          }
        },
        "38c99b40131d4f308b7b90ad2f13a7c3": {
          "model_module": "@jupyter-widgets/controls",
          "model_name": "FloatProgressModel",
          "model_module_version": "1.5.0",
          "state": {
            "_dom_classes": [],
            "_model_module": "@jupyter-widgets/controls",
            "_model_module_version": "1.5.0",
            "_model_name": "FloatProgressModel",
            "_view_count": null,
            "_view_module": "@jupyter-widgets/controls",
            "_view_module_version": "1.5.0",
            "_view_name": "ProgressView",
            "bar_style": "success",
            "description": "",
            "description_tooltip": null,
            "layout": "IPY_MODEL_3c591bbb8ff24fd7975926ec2a159222",
            "max": 29515,
            "min": 0,
            "orientation": "horizontal",
            "style": "IPY_MODEL_f737259a0f40411a9443d235ec623aef",
            "value": 29515
          }
        },
        "49d2ac87c2954ddd819af1ffe3e3a1d0": {
          "model_module": "@jupyter-widgets/controls",
          "model_name": "HTMLModel",
          "model_module_version": "1.5.0",
          "state": {
            "_dom_classes": [],
            "_model_module": "@jupyter-widgets/controls",
            "_model_module_version": "1.5.0",
            "_model_name": "HTMLModel",
            "_view_count": null,
            "_view_module": "@jupyter-widgets/controls",
            "_view_module_version": "1.5.0",
            "_view_name": "HTMLView",
            "description": "",
            "description_tooltip": null,
            "layout": "IPY_MODEL_6eba7d25d35e4060a6d1226b2d5112aa",
            "placeholder": "​",
            "style": "IPY_MODEL_f39e00e7e04d461992515a78a47c9887",
            "value": " 29515/29515 [00:00&lt;00:00, 256297.74it/s]"
          }
        },
        "230b48505211492cad35d3744015fb71": {
          "model_module": "@jupyter-widgets/base",
          "model_name": "LayoutModel",
          "model_module_version": "1.2.0",
          "state": {
            "_model_module": "@jupyter-widgets/base",
            "_model_module_version": "1.2.0",
            "_model_name": "LayoutModel",
            "_view_count": null,
            "_view_module": "@jupyter-widgets/base",
            "_view_module_version": "1.2.0",
            "_view_name": "LayoutView",
            "align_content": null,
            "align_items": null,
            "align_self": null,
            "border": null,
            "bottom": null,
            "display": null,
            "flex": null,
            "flex_flow": null,
            "grid_area": null,
            "grid_auto_columns": null,
            "grid_auto_flow": null,
            "grid_auto_rows": null,
            "grid_column": null,
            "grid_gap": null,
            "grid_row": null,
            "grid_template_areas": null,
            "grid_template_columns": null,
            "grid_template_rows": null,
            "height": null,
            "justify_content": null,
            "justify_items": null,
            "left": null,
            "margin": null,
            "max_height": null,
            "max_width": null,
            "min_height": null,
            "min_width": null,
            "object_fit": null,
            "object_position": null,
            "order": null,
            "overflow": null,
            "overflow_x": null,
            "overflow_y": null,
            "padding": null,
            "right": null,
            "top": null,
            "visibility": null,
            "width": null
          }
        },
        "ba0536f8405042d8b0847dfb04acfd81": {
          "model_module": "@jupyter-widgets/base",
          "model_name": "LayoutModel",
          "model_module_version": "1.2.0",
          "state": {
            "_model_module": "@jupyter-widgets/base",
            "_model_module_version": "1.2.0",
            "_model_name": "LayoutModel",
            "_view_count": null,
            "_view_module": "@jupyter-widgets/base",
            "_view_module_version": "1.2.0",
            "_view_name": "LayoutView",
            "align_content": null,
            "align_items": null,
            "align_self": null,
            "border": null,
            "bottom": null,
            "display": null,
            "flex": null,
            "flex_flow": null,
            "grid_area": null,
            "grid_auto_columns": null,
            "grid_auto_flow": null,
            "grid_auto_rows": null,
            "grid_column": null,
            "grid_gap": null,
            "grid_row": null,
            "grid_template_areas": null,
            "grid_template_columns": null,
            "grid_template_rows": null,
            "height": null,
            "justify_content": null,
            "justify_items": null,
            "left": null,
            "margin": null,
            "max_height": null,
            "max_width": null,
            "min_height": null,
            "min_width": null,
            "object_fit": null,
            "object_position": null,
            "order": null,
            "overflow": null,
            "overflow_x": null,
            "overflow_y": null,
            "padding": null,
            "right": null,
            "top": null,
            "visibility": null,
            "width": null
          }
        },
        "cb4728b052ae4f77bcf87930736d7e9c": {
          "model_module": "@jupyter-widgets/controls",
          "model_name": "DescriptionStyleModel",
          "model_module_version": "1.5.0",
          "state": {
            "_model_module": "@jupyter-widgets/controls",
            "_model_module_version": "1.5.0",
            "_model_name": "DescriptionStyleModel",
            "_view_count": null,
            "_view_module": "@jupyter-widgets/base",
            "_view_module_version": "1.2.0",
            "_view_name": "StyleView",
            "description_width": ""
          }
        },
        "3c591bbb8ff24fd7975926ec2a159222": {
          "model_module": "@jupyter-widgets/base",
          "model_name": "LayoutModel",
          "model_module_version": "1.2.0",
          "state": {
            "_model_module": "@jupyter-widgets/base",
            "_model_module_version": "1.2.0",
            "_model_name": "LayoutModel",
            "_view_count": null,
            "_view_module": "@jupyter-widgets/base",
            "_view_module_version": "1.2.0",
            "_view_name": "LayoutView",
            "align_content": null,
            "align_items": null,
            "align_self": null,
            "border": null,
            "bottom": null,
            "display": null,
            "flex": null,
            "flex_flow": null,
            "grid_area": null,
            "grid_auto_columns": null,
            "grid_auto_flow": null,
            "grid_auto_rows": null,
            "grid_column": null,
            "grid_gap": null,
            "grid_row": null,
            "grid_template_areas": null,
            "grid_template_columns": null,
            "grid_template_rows": null,
            "height": null,
            "justify_content": null,
            "justify_items": null,
            "left": null,
            "margin": null,
            "max_height": null,
            "max_width": null,
            "min_height": null,
            "min_width": null,
            "object_fit": null,
            "object_position": null,
            "order": null,
            "overflow": null,
            "overflow_x": null,
            "overflow_y": null,
            "padding": null,
            "right": null,
            "top": null,
            "visibility": null,
            "width": null
          }
        },
        "f737259a0f40411a9443d235ec623aef": {
          "model_module": "@jupyter-widgets/controls",
          "model_name": "ProgressStyleModel",
          "model_module_version": "1.5.0",
          "state": {
            "_model_module": "@jupyter-widgets/controls",
            "_model_module_version": "1.5.0",
            "_model_name": "ProgressStyleModel",
            "_view_count": null,
            "_view_module": "@jupyter-widgets/base",
            "_view_module_version": "1.2.0",
            "_view_name": "StyleView",
            "bar_color": null,
            "description_width": ""
          }
        },
        "6eba7d25d35e4060a6d1226b2d5112aa": {
          "model_module": "@jupyter-widgets/base",
          "model_name": "LayoutModel",
          "model_module_version": "1.2.0",
          "state": {
            "_model_module": "@jupyter-widgets/base",
            "_model_module_version": "1.2.0",
            "_model_name": "LayoutModel",
            "_view_count": null,
            "_view_module": "@jupyter-widgets/base",
            "_view_module_version": "1.2.0",
            "_view_name": "LayoutView",
            "align_content": null,
            "align_items": null,
            "align_self": null,
            "border": null,
            "bottom": null,
            "display": null,
            "flex": null,
            "flex_flow": null,
            "grid_area": null,
            "grid_auto_columns": null,
            "grid_auto_flow": null,
            "grid_auto_rows": null,
            "grid_column": null,
            "grid_gap": null,
            "grid_row": null,
            "grid_template_areas": null,
            "grid_template_columns": null,
            "grid_template_rows": null,
            "height": null,
            "justify_content": null,
            "justify_items": null,
            "left": null,
            "margin": null,
            "max_height": null,
            "max_width": null,
            "min_height": null,
            "min_width": null,
            "object_fit": null,
            "object_position": null,
            "order": null,
            "overflow": null,
            "overflow_x": null,
            "overflow_y": null,
            "padding": null,
            "right": null,
            "top": null,
            "visibility": null,
            "width": null
          }
        },
        "f39e00e7e04d461992515a78a47c9887": {
          "model_module": "@jupyter-widgets/controls",
          "model_name": "DescriptionStyleModel",
          "model_module_version": "1.5.0",
          "state": {
            "_model_module": "@jupyter-widgets/controls",
            "_model_module_version": "1.5.0",
            "_model_name": "DescriptionStyleModel",
            "_view_count": null,
            "_view_module": "@jupyter-widgets/base",
            "_view_module_version": "1.2.0",
            "_view_name": "StyleView",
            "description_width": ""
          }
        },
        "138972a4d0df475684c7adf8da115aef": {
          "model_module": "@jupyter-widgets/controls",
          "model_name": "HBoxModel",
          "model_module_version": "1.5.0",
          "state": {
            "_dom_classes": [],
            "_model_module": "@jupyter-widgets/controls",
            "_model_module_version": "1.5.0",
            "_model_name": "HBoxModel",
            "_view_count": null,
            "_view_module": "@jupyter-widgets/controls",
            "_view_module_version": "1.5.0",
            "_view_name": "HBoxView",
            "box_style": "",
            "children": [
              "IPY_MODEL_4da234b6c04e4ee582e7e2e702da1dec",
              "IPY_MODEL_26223cd429f946d49ecd3d444e77cad4",
              "IPY_MODEL_f92d01a261b24c55ae705e62fcce91bf"
            ],
            "layout": "IPY_MODEL_1d5988330a014e098d721152f37faaa3"
          }
        },
        "4da234b6c04e4ee582e7e2e702da1dec": {
          "model_module": "@jupyter-widgets/controls",
          "model_name": "HTMLModel",
          "model_module_version": "1.5.0",
          "state": {
            "_dom_classes": [],
            "_model_module": "@jupyter-widgets/controls",
            "_model_module_version": "1.5.0",
            "_model_name": "HTMLModel",
            "_view_count": null,
            "_view_module": "@jupyter-widgets/controls",
            "_view_module_version": "1.5.0",
            "_view_name": "HTMLView",
            "description": "",
            "description_tooltip": null,
            "layout": "IPY_MODEL_376f681a2e2342bda15c67c9279127cd",
            "placeholder": "​",
            "style": "IPY_MODEL_15e92142427a49fc8e254248e44dbe52",
            "value": "100%"
          }
        },
        "26223cd429f946d49ecd3d444e77cad4": {
          "model_module": "@jupyter-widgets/controls",
          "model_name": "FloatProgressModel",
          "model_module_version": "1.5.0",
          "state": {
            "_dom_classes": [],
            "_model_module": "@jupyter-widgets/controls",
            "_model_module_version": "1.5.0",
            "_model_name": "FloatProgressModel",
            "_view_count": null,
            "_view_module": "@jupyter-widgets/controls",
            "_view_module_version": "1.5.0",
            "_view_name": "ProgressView",
            "bar_style": "success",
            "description": "",
            "description_tooltip": null,
            "layout": "IPY_MODEL_1a057a6d86134600a391d3f27b5b117e",
            "max": 4422102,
            "min": 0,
            "orientation": "horizontal",
            "style": "IPY_MODEL_7d366fc93df74451bb08d4463c56ad0f",
            "value": 4422102
          }
        },
        "f92d01a261b24c55ae705e62fcce91bf": {
          "model_module": "@jupyter-widgets/controls",
          "model_name": "HTMLModel",
          "model_module_version": "1.5.0",
          "state": {
            "_dom_classes": [],
            "_model_module": "@jupyter-widgets/controls",
            "_model_module_version": "1.5.0",
            "_model_name": "HTMLModel",
            "_view_count": null,
            "_view_module": "@jupyter-widgets/controls",
            "_view_module_version": "1.5.0",
            "_view_name": "HTMLView",
            "description": "",
            "description_tooltip": null,
            "layout": "IPY_MODEL_42c94f27aacc42fb95e876206e19a3ca",
            "placeholder": "​",
            "style": "IPY_MODEL_91f3f9944b0c46f0a266621931ed5389",
            "value": " 4422102/4422102 [00:00&lt;00:00, 8656794.91it/s]"
          }
        },
        "1d5988330a014e098d721152f37faaa3": {
          "model_module": "@jupyter-widgets/base",
          "model_name": "LayoutModel",
          "model_module_version": "1.2.0",
          "state": {
            "_model_module": "@jupyter-widgets/base",
            "_model_module_version": "1.2.0",
            "_model_name": "LayoutModel",
            "_view_count": null,
            "_view_module": "@jupyter-widgets/base",
            "_view_module_version": "1.2.0",
            "_view_name": "LayoutView",
            "align_content": null,
            "align_items": null,
            "align_self": null,
            "border": null,
            "bottom": null,
            "display": null,
            "flex": null,
            "flex_flow": null,
            "grid_area": null,
            "grid_auto_columns": null,
            "grid_auto_flow": null,
            "grid_auto_rows": null,
            "grid_column": null,
            "grid_gap": null,
            "grid_row": null,
            "grid_template_areas": null,
            "grid_template_columns": null,
            "grid_template_rows": null,
            "height": null,
            "justify_content": null,
            "justify_items": null,
            "left": null,
            "margin": null,
            "max_height": null,
            "max_width": null,
            "min_height": null,
            "min_width": null,
            "object_fit": null,
            "object_position": null,
            "order": null,
            "overflow": null,
            "overflow_x": null,
            "overflow_y": null,
            "padding": null,
            "right": null,
            "top": null,
            "visibility": null,
            "width": null
          }
        },
        "376f681a2e2342bda15c67c9279127cd": {
          "model_module": "@jupyter-widgets/base",
          "model_name": "LayoutModel",
          "model_module_version": "1.2.0",
          "state": {
            "_model_module": "@jupyter-widgets/base",
            "_model_module_version": "1.2.0",
            "_model_name": "LayoutModel",
            "_view_count": null,
            "_view_module": "@jupyter-widgets/base",
            "_view_module_version": "1.2.0",
            "_view_name": "LayoutView",
            "align_content": null,
            "align_items": null,
            "align_self": null,
            "border": null,
            "bottom": null,
            "display": null,
            "flex": null,
            "flex_flow": null,
            "grid_area": null,
            "grid_auto_columns": null,
            "grid_auto_flow": null,
            "grid_auto_rows": null,
            "grid_column": null,
            "grid_gap": null,
            "grid_row": null,
            "grid_template_areas": null,
            "grid_template_columns": null,
            "grid_template_rows": null,
            "height": null,
            "justify_content": null,
            "justify_items": null,
            "left": null,
            "margin": null,
            "max_height": null,
            "max_width": null,
            "min_height": null,
            "min_width": null,
            "object_fit": null,
            "object_position": null,
            "order": null,
            "overflow": null,
            "overflow_x": null,
            "overflow_y": null,
            "padding": null,
            "right": null,
            "top": null,
            "visibility": null,
            "width": null
          }
        },
        "15e92142427a49fc8e254248e44dbe52": {
          "model_module": "@jupyter-widgets/controls",
          "model_name": "DescriptionStyleModel",
          "model_module_version": "1.5.0",
          "state": {
            "_model_module": "@jupyter-widgets/controls",
            "_model_module_version": "1.5.0",
            "_model_name": "DescriptionStyleModel",
            "_view_count": null,
            "_view_module": "@jupyter-widgets/base",
            "_view_module_version": "1.2.0",
            "_view_name": "StyleView",
            "description_width": ""
          }
        },
        "1a057a6d86134600a391d3f27b5b117e": {
          "model_module": "@jupyter-widgets/base",
          "model_name": "LayoutModel",
          "model_module_version": "1.2.0",
          "state": {
            "_model_module": "@jupyter-widgets/base",
            "_model_module_version": "1.2.0",
            "_model_name": "LayoutModel",
            "_view_count": null,
            "_view_module": "@jupyter-widgets/base",
            "_view_module_version": "1.2.0",
            "_view_name": "LayoutView",
            "align_content": null,
            "align_items": null,
            "align_self": null,
            "border": null,
            "bottom": null,
            "display": null,
            "flex": null,
            "flex_flow": null,
            "grid_area": null,
            "grid_auto_columns": null,
            "grid_auto_flow": null,
            "grid_auto_rows": null,
            "grid_column": null,
            "grid_gap": null,
            "grid_row": null,
            "grid_template_areas": null,
            "grid_template_columns": null,
            "grid_template_rows": null,
            "height": null,
            "justify_content": null,
            "justify_items": null,
            "left": null,
            "margin": null,
            "max_height": null,
            "max_width": null,
            "min_height": null,
            "min_width": null,
            "object_fit": null,
            "object_position": null,
            "order": null,
            "overflow": null,
            "overflow_x": null,
            "overflow_y": null,
            "padding": null,
            "right": null,
            "top": null,
            "visibility": null,
            "width": null
          }
        },
        "7d366fc93df74451bb08d4463c56ad0f": {
          "model_module": "@jupyter-widgets/controls",
          "model_name": "ProgressStyleModel",
          "model_module_version": "1.5.0",
          "state": {
            "_model_module": "@jupyter-widgets/controls",
            "_model_module_version": "1.5.0",
            "_model_name": "ProgressStyleModel",
            "_view_count": null,
            "_view_module": "@jupyter-widgets/base",
            "_view_module_version": "1.2.0",
            "_view_name": "StyleView",
            "bar_color": null,
            "description_width": ""
          }
        },
        "42c94f27aacc42fb95e876206e19a3ca": {
          "model_module": "@jupyter-widgets/base",
          "model_name": "LayoutModel",
          "model_module_version": "1.2.0",
          "state": {
            "_model_module": "@jupyter-widgets/base",
            "_model_module_version": "1.2.0",
            "_model_name": "LayoutModel",
            "_view_count": null,
            "_view_module": "@jupyter-widgets/base",
            "_view_module_version": "1.2.0",
            "_view_name": "LayoutView",
            "align_content": null,
            "align_items": null,
            "align_self": null,
            "border": null,
            "bottom": null,
            "display": null,
            "flex": null,
            "flex_flow": null,
            "grid_area": null,
            "grid_auto_columns": null,
            "grid_auto_flow": null,
            "grid_auto_rows": null,
            "grid_column": null,
            "grid_gap": null,
            "grid_row": null,
            "grid_template_areas": null,
            "grid_template_columns": null,
            "grid_template_rows": null,
            "height": null,
            "justify_content": null,
            "justify_items": null,
            "left": null,
            "margin": null,
            "max_height": null,
            "max_width": null,
            "min_height": null,
            "min_width": null,
            "object_fit": null,
            "object_position": null,
            "order": null,
            "overflow": null,
            "overflow_x": null,
            "overflow_y": null,
            "padding": null,
            "right": null,
            "top": null,
            "visibility": null,
            "width": null
          }
        },
        "91f3f9944b0c46f0a266621931ed5389": {
          "model_module": "@jupyter-widgets/controls",
          "model_name": "DescriptionStyleModel",
          "model_module_version": "1.5.0",
          "state": {
            "_model_module": "@jupyter-widgets/controls",
            "_model_module_version": "1.5.0",
            "_model_name": "DescriptionStyleModel",
            "_view_count": null,
            "_view_module": "@jupyter-widgets/base",
            "_view_module_version": "1.2.0",
            "_view_name": "StyleView",
            "description_width": ""
          }
        },
        "b77267542eea483bb2c1b1a6db844789": {
          "model_module": "@jupyter-widgets/controls",
          "model_name": "HBoxModel",
          "model_module_version": "1.5.0",
          "state": {
            "_dom_classes": [],
            "_model_module": "@jupyter-widgets/controls",
            "_model_module_version": "1.5.0",
            "_model_name": "HBoxModel",
            "_view_count": null,
            "_view_module": "@jupyter-widgets/controls",
            "_view_module_version": "1.5.0",
            "_view_name": "HBoxView",
            "box_style": "",
            "children": [
              "IPY_MODEL_d892e01522a84d46b91bb17ba2f8a1d2",
              "IPY_MODEL_f6c665cc20ae43998c4a251b7d3df45b",
              "IPY_MODEL_4a7c4f6379b447d0812bcc1cc61424de"
            ],
            "layout": "IPY_MODEL_332a008aa3044fee8c040af3658060fc"
          }
        },
        "d892e01522a84d46b91bb17ba2f8a1d2": {
          "model_module": "@jupyter-widgets/controls",
          "model_name": "HTMLModel",
          "model_module_version": "1.5.0",
          "state": {
            "_dom_classes": [],
            "_model_module": "@jupyter-widgets/controls",
            "_model_module_version": "1.5.0",
            "_model_name": "HTMLModel",
            "_view_count": null,
            "_view_module": "@jupyter-widgets/controls",
            "_view_module_version": "1.5.0",
            "_view_name": "HTMLView",
            "description": "",
            "description_tooltip": null,
            "layout": "IPY_MODEL_79db52df5ba24d5b9d129f013dd90ab2",
            "placeholder": "​",
            "style": "IPY_MODEL_72bf50bf3594412b9741911c57b0fcc6",
            "value": "100%"
          }
        },
        "f6c665cc20ae43998c4a251b7d3df45b": {
          "model_module": "@jupyter-widgets/controls",
          "model_name": "FloatProgressModel",
          "model_module_version": "1.5.0",
          "state": {
            "_dom_classes": [],
            "_model_module": "@jupyter-widgets/controls",
            "_model_module_version": "1.5.0",
            "_model_name": "FloatProgressModel",
            "_view_count": null,
            "_view_module": "@jupyter-widgets/controls",
            "_view_module_version": "1.5.0",
            "_view_name": "ProgressView",
            "bar_style": "success",
            "description": "",
            "description_tooltip": null,
            "layout": "IPY_MODEL_a2a4d05ab0834523a0fa30ba655614d6",
            "max": 5148,
            "min": 0,
            "orientation": "horizontal",
            "style": "IPY_MODEL_ac957d65275d4c68b5bcbe1f0d86e19a",
            "value": 5148
          }
        },
        "4a7c4f6379b447d0812bcc1cc61424de": {
          "model_module": "@jupyter-widgets/controls",
          "model_name": "HTMLModel",
          "model_module_version": "1.5.0",
          "state": {
            "_dom_classes": [],
            "_model_module": "@jupyter-widgets/controls",
            "_model_module_version": "1.5.0",
            "_model_name": "HTMLModel",
            "_view_count": null,
            "_view_module": "@jupyter-widgets/controls",
            "_view_module_version": "1.5.0",
            "_view_name": "HTMLView",
            "description": "",
            "description_tooltip": null,
            "layout": "IPY_MODEL_059c5c1ceeca4aec91db9d7c95cea7a7",
            "placeholder": "​",
            "style": "IPY_MODEL_0f9d2db714254fb5a70e6534419afdf0",
            "value": " 5148/5148 [00:00&lt;00:00, 65231.69it/s]"
          }
        },
        "332a008aa3044fee8c040af3658060fc": {
          "model_module": "@jupyter-widgets/base",
          "model_name": "LayoutModel",
          "model_module_version": "1.2.0",
          "state": {
            "_model_module": "@jupyter-widgets/base",
            "_model_module_version": "1.2.0",
            "_model_name": "LayoutModel",
            "_view_count": null,
            "_view_module": "@jupyter-widgets/base",
            "_view_module_version": "1.2.0",
            "_view_name": "LayoutView",
            "align_content": null,
            "align_items": null,
            "align_self": null,
            "border": null,
            "bottom": null,
            "display": null,
            "flex": null,
            "flex_flow": null,
            "grid_area": null,
            "grid_auto_columns": null,
            "grid_auto_flow": null,
            "grid_auto_rows": null,
            "grid_column": null,
            "grid_gap": null,
            "grid_row": null,
            "grid_template_areas": null,
            "grid_template_columns": null,
            "grid_template_rows": null,
            "height": null,
            "justify_content": null,
            "justify_items": null,
            "left": null,
            "margin": null,
            "max_height": null,
            "max_width": null,
            "min_height": null,
            "min_width": null,
            "object_fit": null,
            "object_position": null,
            "order": null,
            "overflow": null,
            "overflow_x": null,
            "overflow_y": null,
            "padding": null,
            "right": null,
            "top": null,
            "visibility": null,
            "width": null
          }
        },
        "79db52df5ba24d5b9d129f013dd90ab2": {
          "model_module": "@jupyter-widgets/base",
          "model_name": "LayoutModel",
          "model_module_version": "1.2.0",
          "state": {
            "_model_module": "@jupyter-widgets/base",
            "_model_module_version": "1.2.0",
            "_model_name": "LayoutModel",
            "_view_count": null,
            "_view_module": "@jupyter-widgets/base",
            "_view_module_version": "1.2.0",
            "_view_name": "LayoutView",
            "align_content": null,
            "align_items": null,
            "align_self": null,
            "border": null,
            "bottom": null,
            "display": null,
            "flex": null,
            "flex_flow": null,
            "grid_area": null,
            "grid_auto_columns": null,
            "grid_auto_flow": null,
            "grid_auto_rows": null,
            "grid_column": null,
            "grid_gap": null,
            "grid_row": null,
            "grid_template_areas": null,
            "grid_template_columns": null,
            "grid_template_rows": null,
            "height": null,
            "justify_content": null,
            "justify_items": null,
            "left": null,
            "margin": null,
            "max_height": null,
            "max_width": null,
            "min_height": null,
            "min_width": null,
            "object_fit": null,
            "object_position": null,
            "order": null,
            "overflow": null,
            "overflow_x": null,
            "overflow_y": null,
            "padding": null,
            "right": null,
            "top": null,
            "visibility": null,
            "width": null
          }
        },
        "72bf50bf3594412b9741911c57b0fcc6": {
          "model_module": "@jupyter-widgets/controls",
          "model_name": "DescriptionStyleModel",
          "model_module_version": "1.5.0",
          "state": {
            "_model_module": "@jupyter-widgets/controls",
            "_model_module_version": "1.5.0",
            "_model_name": "DescriptionStyleModel",
            "_view_count": null,
            "_view_module": "@jupyter-widgets/base",
            "_view_module_version": "1.2.0",
            "_view_name": "StyleView",
            "description_width": ""
          }
        },
        "a2a4d05ab0834523a0fa30ba655614d6": {
          "model_module": "@jupyter-widgets/base",
          "model_name": "LayoutModel",
          "model_module_version": "1.2.0",
          "state": {
            "_model_module": "@jupyter-widgets/base",
            "_model_module_version": "1.2.0",
            "_model_name": "LayoutModel",
            "_view_count": null,
            "_view_module": "@jupyter-widgets/base",
            "_view_module_version": "1.2.0",
            "_view_name": "LayoutView",
            "align_content": null,
            "align_items": null,
            "align_self": null,
            "border": null,
            "bottom": null,
            "display": null,
            "flex": null,
            "flex_flow": null,
            "grid_area": null,
            "grid_auto_columns": null,
            "grid_auto_flow": null,
            "grid_auto_rows": null,
            "grid_column": null,
            "grid_gap": null,
            "grid_row": null,
            "grid_template_areas": null,
            "grid_template_columns": null,
            "grid_template_rows": null,
            "height": null,
            "justify_content": null,
            "justify_items": null,
            "left": null,
            "margin": null,
            "max_height": null,
            "max_width": null,
            "min_height": null,
            "min_width": null,
            "object_fit": null,
            "object_position": null,
            "order": null,
            "overflow": null,
            "overflow_x": null,
            "overflow_y": null,
            "padding": null,
            "right": null,
            "top": null,
            "visibility": null,
            "width": null
          }
        },
        "ac957d65275d4c68b5bcbe1f0d86e19a": {
          "model_module": "@jupyter-widgets/controls",
          "model_name": "ProgressStyleModel",
          "model_module_version": "1.5.0",
          "state": {
            "_model_module": "@jupyter-widgets/controls",
            "_model_module_version": "1.5.0",
            "_model_name": "ProgressStyleModel",
            "_view_count": null,
            "_view_module": "@jupyter-widgets/base",
            "_view_module_version": "1.2.0",
            "_view_name": "StyleView",
            "bar_color": null,
            "description_width": ""
          }
        },
        "059c5c1ceeca4aec91db9d7c95cea7a7": {
          "model_module": "@jupyter-widgets/base",
          "model_name": "LayoutModel",
          "model_module_version": "1.2.0",
          "state": {
            "_model_module": "@jupyter-widgets/base",
            "_model_module_version": "1.2.0",
            "_model_name": "LayoutModel",
            "_view_count": null,
            "_view_module": "@jupyter-widgets/base",
            "_view_module_version": "1.2.0",
            "_view_name": "LayoutView",
            "align_content": null,
            "align_items": null,
            "align_self": null,
            "border": null,
            "bottom": null,
            "display": null,
            "flex": null,
            "flex_flow": null,
            "grid_area": null,
            "grid_auto_columns": null,
            "grid_auto_flow": null,
            "grid_auto_rows": null,
            "grid_column": null,
            "grid_gap": null,
            "grid_row": null,
            "grid_template_areas": null,
            "grid_template_columns": null,
            "grid_template_rows": null,
            "height": null,
            "justify_content": null,
            "justify_items": null,
            "left": null,
            "margin": null,
            "max_height": null,
            "max_width": null,
            "min_height": null,
            "min_width": null,
            "object_fit": null,
            "object_position": null,
            "order": null,
            "overflow": null,
            "overflow_x": null,
            "overflow_y": null,
            "padding": null,
            "right": null,
            "top": null,
            "visibility": null,
            "width": null
          }
        },
        "0f9d2db714254fb5a70e6534419afdf0": {
          "model_module": "@jupyter-widgets/controls",
          "model_name": "DescriptionStyleModel",
          "model_module_version": "1.5.0",
          "state": {
            "_model_module": "@jupyter-widgets/controls",
            "_model_module_version": "1.5.0",
            "_model_name": "DescriptionStyleModel",
            "_view_count": null,
            "_view_module": "@jupyter-widgets/base",
            "_view_module_version": "1.2.0",
            "_view_name": "StyleView",
            "description_width": ""
          }
        }
      }
    }
  },
  "cells": [
    {
      "cell_type": "markdown",
      "source": [
        "## AlekseevDP(DSU-4, DLL-15)_HW#2_Многослойная НС\n",
        "\n",
        "Задание: Постройте модель для классификации FashionMNIST. Попробуйте получить качество на тестовой выборке не ниже 88%"
      ],
      "metadata": {
        "id": "jSeJAI8-59h1"
      }
    },
    {
      "cell_type": "code",
      "execution_count": null,
      "metadata": {
        "id": "UYb_3OBE58V1"
      },
      "outputs": [],
      "source": [
        "import matplotlib.pyplot as plt\n",
        "%matplotlib inline\n",
        "import torch\n",
        "import numpy as np"
      ]
    },
    {
      "cell_type": "code",
      "source": [
        "import torchvision as tv\n",
        "import time"
      ],
      "metadata": {
        "id": "R-iNLU2b99Me"
      },
      "execution_count": null,
      "outputs": []
    },
    {
      "cell_type": "code",
      "source": [
        "# зададим размер батча\n",
        "BATCH_SIZE=256"
      ],
      "metadata": {
        "id": "EZ899x4J99J0"
      },
      "execution_count": null,
      "outputs": []
    },
    {
      "cell_type": "code",
      "source": [
        "train_dataset = tv.datasets.FashionMNIST('.', train=True, transform=tv.transforms.ToTensor(), download=True)\n",
        "test_dataset = tv.datasets.FashionMNIST('.', train=False, transform=tv.transforms.ToTensor(), download=True)\n",
        "train = torch.utils.data.DataLoader(train_dataset, batch_size=BATCH_SIZE)\n",
        "test = torch.utils.data.DataLoader(test_dataset, batch_size=BATCH_SIZE)"
      ],
      "metadata": {
        "colab": {
          "base_uri": "https://localhost:8080/",
          "height": 423,
          "referenced_widgets": [
            "68cfe662037d4a4eb7b4f1b5d526e630",
            "e2557a7c484c49b1ad5b31a4f954e579",
            "c7ee552083b64ee894247f6e75ca5404",
            "c7458b1f796f4f748222ca84d9cc8452",
            "65453b63ce9b465daabbb830912c43e9",
            "db8d4c2c4f6f4f23bf86640d8f459f6e",
            "ff22e6cff848438e9f7c17855d93edc6",
            "29abd233f7ab4294b398470fb11c9c66",
            "57cc00c1cd494ece9340d0dc3b230d63",
            "11183366d97c4e96bba6885ae559b9c1",
            "b7a9a20399da4869bf79edb2b48707da",
            "a73aedce1a3948a381e31164e5776eb5",
            "dd84834d4f894e7086b7a393a2ae444d",
            "38c99b40131d4f308b7b90ad2f13a7c3",
            "49d2ac87c2954ddd819af1ffe3e3a1d0",
            "230b48505211492cad35d3744015fb71",
            "ba0536f8405042d8b0847dfb04acfd81",
            "cb4728b052ae4f77bcf87930736d7e9c",
            "3c591bbb8ff24fd7975926ec2a159222",
            "f737259a0f40411a9443d235ec623aef",
            "6eba7d25d35e4060a6d1226b2d5112aa",
            "f39e00e7e04d461992515a78a47c9887",
            "138972a4d0df475684c7adf8da115aef",
            "4da234b6c04e4ee582e7e2e702da1dec",
            "26223cd429f946d49ecd3d444e77cad4",
            "f92d01a261b24c55ae705e62fcce91bf",
            "1d5988330a014e098d721152f37faaa3",
            "376f681a2e2342bda15c67c9279127cd",
            "15e92142427a49fc8e254248e44dbe52",
            "1a057a6d86134600a391d3f27b5b117e",
            "7d366fc93df74451bb08d4463c56ad0f",
            "42c94f27aacc42fb95e876206e19a3ca",
            "91f3f9944b0c46f0a266621931ed5389",
            "b77267542eea483bb2c1b1a6db844789",
            "d892e01522a84d46b91bb17ba2f8a1d2",
            "f6c665cc20ae43998c4a251b7d3df45b",
            "4a7c4f6379b447d0812bcc1cc61424de",
            "332a008aa3044fee8c040af3658060fc",
            "79db52df5ba24d5b9d129f013dd90ab2",
            "72bf50bf3594412b9741911c57b0fcc6",
            "a2a4d05ab0834523a0fa30ba655614d6",
            "ac957d65275d4c68b5bcbe1f0d86e19a",
            "059c5c1ceeca4aec91db9d7c95cea7a7",
            "0f9d2db714254fb5a70e6534419afdf0"
          ]
        },
        "id": "o6gO7AJN99G1",
        "outputId": "d1e42b9a-e294-49c4-de20-5abf4faab118"
      },
      "execution_count": null,
      "outputs": [
        {
          "output_type": "stream",
          "name": "stdout",
          "text": [
            "Downloading http://fashion-mnist.s3-website.eu-central-1.amazonaws.com/train-images-idx3-ubyte.gz\n",
            "Downloading http://fashion-mnist.s3-website.eu-central-1.amazonaws.com/train-images-idx3-ubyte.gz to ./FashionMNIST/raw/train-images-idx3-ubyte.gz\n"
          ]
        },
        {
          "output_type": "display_data",
          "data": {
            "text/plain": [
              "  0%|          | 0/26421880 [00:00<?, ?it/s]"
            ],
            "application/vnd.jupyter.widget-view+json": {
              "version_major": 2,
              "version_minor": 0,
              "model_id": "68cfe662037d4a4eb7b4f1b5d526e630"
            }
          },
          "metadata": {}
        },
        {
          "output_type": "stream",
          "name": "stdout",
          "text": [
            "Extracting ./FashionMNIST/raw/train-images-idx3-ubyte.gz to ./FashionMNIST/raw\n",
            "\n",
            "Downloading http://fashion-mnist.s3-website.eu-central-1.amazonaws.com/train-labels-idx1-ubyte.gz\n",
            "Downloading http://fashion-mnist.s3-website.eu-central-1.amazonaws.com/train-labels-idx1-ubyte.gz to ./FashionMNIST/raw/train-labels-idx1-ubyte.gz\n"
          ]
        },
        {
          "output_type": "display_data",
          "data": {
            "text/plain": [
              "  0%|          | 0/29515 [00:00<?, ?it/s]"
            ],
            "application/vnd.jupyter.widget-view+json": {
              "version_major": 2,
              "version_minor": 0,
              "model_id": "a73aedce1a3948a381e31164e5776eb5"
            }
          },
          "metadata": {}
        },
        {
          "output_type": "stream",
          "name": "stdout",
          "text": [
            "Extracting ./FashionMNIST/raw/train-labels-idx1-ubyte.gz to ./FashionMNIST/raw\n",
            "\n",
            "Downloading http://fashion-mnist.s3-website.eu-central-1.amazonaws.com/t10k-images-idx3-ubyte.gz\n",
            "Downloading http://fashion-mnist.s3-website.eu-central-1.amazonaws.com/t10k-images-idx3-ubyte.gz to ./FashionMNIST/raw/t10k-images-idx3-ubyte.gz\n"
          ]
        },
        {
          "output_type": "display_data",
          "data": {
            "text/plain": [
              "  0%|          | 0/4422102 [00:00<?, ?it/s]"
            ],
            "application/vnd.jupyter.widget-view+json": {
              "version_major": 2,
              "version_minor": 0,
              "model_id": "138972a4d0df475684c7adf8da115aef"
            }
          },
          "metadata": {}
        },
        {
          "output_type": "stream",
          "name": "stdout",
          "text": [
            "Extracting ./FashionMNIST/raw/t10k-images-idx3-ubyte.gz to ./FashionMNIST/raw\n",
            "\n",
            "Downloading http://fashion-mnist.s3-website.eu-central-1.amazonaws.com/t10k-labels-idx1-ubyte.gz\n",
            "Downloading http://fashion-mnist.s3-website.eu-central-1.amazonaws.com/t10k-labels-idx1-ubyte.gz to ./FashionMNIST/raw/t10k-labels-idx1-ubyte.gz\n"
          ]
        },
        {
          "output_type": "display_data",
          "data": {
            "text/plain": [
              "  0%|          | 0/5148 [00:00<?, ?it/s]"
            ],
            "application/vnd.jupyter.widget-view+json": {
              "version_major": 2,
              "version_minor": 0,
              "model_id": "b77267542eea483bb2c1b1a6db844789"
            }
          },
          "metadata": {}
        },
        {
          "output_type": "stream",
          "name": "stdout",
          "text": [
            "Extracting ./FashionMNIST/raw/t10k-labels-idx1-ubyte.gz to ./FashionMNIST/raw\n",
            "\n"
          ]
        }
      ]
    },
    {
      "cell_type": "code",
      "source": [
        "plt.imshow(train_dataset[100][0].numpy().reshape(28,28), cmap='gray')"
      ],
      "metadata": {
        "colab": {
          "base_uri": "https://localhost:8080/",
          "height": 282
        },
        "id": "hvuakPW-_gH-",
        "outputId": "b016e15d-6113-47ae-ee9e-90c1b308f566"
      },
      "execution_count": null,
      "outputs": [
        {
          "output_type": "execute_result",
          "data": {
            "text/plain": [
              "<matplotlib.image.AxesImage at 0x7fe48b110290>"
            ]
          },
          "metadata": {},
          "execution_count": 26
        },
        {
          "output_type": "display_data",
          "data": {
            "text/plain": [
              "<Figure size 432x288 with 1 Axes>"
            ],
            "image/png": "[encoded data removed]"
          },
          "metadata": {
            "needs_background": "light"
          }
        }
      ]
    },
    {
      "cell_type": "code",
      "source": [
        "train_dataset[100][0].shape"
      ],
      "metadata": {
        "colab": {
          "base_uri": "https://localhost:8080/"
        },
        "id": "ObVkKgbO_f-F",
        "outputId": "a1fa43d6-a8b3-4b47-94b5-93469e101955"
      },
      "execution_count": null,
      "outputs": [
        {
          "output_type": "execute_result",
          "data": {
            "text/plain": [
              "torch.Size([1, 28, 28])"
            ]
          },
          "metadata": {},
          "execution_count": 27
        }
      ]
    },
    {
      "cell_type": "code",
      "source": [
        "# запланируем базовый вариант (№1) структуры НС \n",
        "torch.nn.Sequential(\n",
        "    torch.nn.Flatten(),\n",
        "    torch.nn.Linear(784, 256),\n",
        "    torch.nn.ReLU(),\n",
        "    torch.nn.Linear(256, 10)\n",
        ")"
      ],
      "metadata": {
        "colab": {
          "base_uri": "https://localhost:8080/"
        },
        "id": "szxQzQWN-K_l",
        "outputId": "f9f3d082-2f60-4959-8338-f9744964d616"
      },
      "execution_count": 57,
      "outputs": [
        {
          "output_type": "execute_result",
          "data": {
            "text/plain": [
              "Sequential(\n",
              "  (0): Flatten(start_dim=1, end_dim=-1)\n",
              "  (1): Linear(in_features=784, out_features=256, bias=True)\n",
              "  (2): ReLU()\n",
              "  (3): Linear(in_features=256, out_features=10, bias=True)\n",
              ")"
            ]
          },
          "metadata": {},
          "execution_count": 57
        }
      ]
    },
    {
      "cell_type": "code",
      "source": [
        "# создадим НС в базовом варианте (№1) \n",
        "model = torch.nn.Sequential(\n",
        "    torch.nn.Flatten(),\n",
        "    torch.nn.Linear(784, 256),\n",
        "    torch.nn.ReLU(),\n",
        "    torch.nn.Linear(256, 10)\n",
        ")"
      ],
      "metadata": {
        "id": "7k7k3n3m-K8f"
      },
      "execution_count": 64,
      "outputs": []
    },
    {
      "cell_type": "code",
      "source": [
        "loss = torch.nn.CrossEntropyLoss() #зададим кросс-энтропию в качестве функции потерь для многоклассовой (10 классов) классификации.\n",
        "trainer = torch.optim.SGD(model.parameters(), lr=.01) #возьмем в качестве метода минимизации функции потерь \"обычный\" стохастический градиентный спуск. Learning rate=0.01\n",
        "num_epochs = 30"
      ],
      "metadata": {
        "id": "v2m9Yh_iDDI7"
      },
      "execution_count": 67,
      "outputs": []
    },
    {
      "cell_type": "code",
      "source": [
        "# зададим функцию для обучения модели\n",
        "def train_model():\n",
        "  for ep in range(num_epochs):\n",
        "    train_iters, train_passed  = 0, 0\n",
        "    train_loss, train_acc = 0., 0.\n",
        "    start=time.time()\n",
        "    \n",
        "    model.train()\n",
        "    for X, y in train:\n",
        "        trainer.zero_grad()\n",
        "        y_pred = model(X)\n",
        "        l = loss(y_pred, y)\n",
        "        l.backward()\n",
        "        trainer.step()\n",
        "        train_loss += l.item()\n",
        "        train_acc += (y_pred.argmax(dim=1) == y).sum().item()\n",
        "        train_iters += 1\n",
        "        train_passed += len(X)\n",
        "    \n",
        "    test_iters, test_passed  = 0, 0\n",
        "    test_loss, test_acc = 0., 0.\n",
        "    model.eval()\n",
        "    for X, y in test:\n",
        "        y_pred = model(X)\n",
        "        l = loss(y_pred, y)\n",
        "        test_loss += l.item()\n",
        "        test_acc += (y_pred.argmax(dim=1) == y).sum().item()\n",
        "        test_iters += 1\n",
        "        test_passed += len(X)\n",
        "        \n",
        "    print(\"ep: {}, taked: {:.3f}, train_loss: {}, train_acc: {}, test_loss: {}, test_acc: {}\".format(\n",
        "        ep, time.time() - start, train_loss / train_iters, train_acc / train_passed,\n",
        "        test_loss / test_iters, test_acc / test_passed)\n",
        "    )"
      ],
      "metadata": {
        "id": "eP2NXDF8DGWD"
      },
      "execution_count": 68,
      "outputs": []
    },
    {
      "cell_type": "code",
      "source": [
        "train_model()"
      ],
      "metadata": {
        "colab": {
          "base_uri": "https://localhost:8080/"
        },
        "id": "9ke_4eBZPNQe",
        "outputId": "7654a853-04e8-4be4-b3a1-5ef4c21db4af"
      },
      "execution_count": 69,
      "outputs": [
        {
          "output_type": "stream",
          "name": "stdout",
          "text": [
            "ep: 0, taked: 7.796, train_loss: 1.752645964825407, train_acc: 0.54775, test_loss: 1.2905839830636978, test_acc: 0.6521\n",
            "ep: 1, taked: 7.759, train_loss: 1.0740860911125834, train_acc: 0.6727333333333333, test_loss: 0.945449261367321, test_acc: 0.6727\n",
            "ep: 2, taked: 7.770, train_loss: 0.8628791007589787, train_acc: 0.7031166666666666, test_loss: 0.8187864676117897, test_acc: 0.7068\n",
            "ep: 3, taked: 7.597, train_loss: 0.7689452062261866, train_acc: 0.7380333333333333, test_loss: 0.7483235716819763, test_acc: 0.7383\n",
            "ep: 4, taked: 7.487, train_loss: 0.7103876271146409, train_acc: 0.7601333333333333, test_loss: 0.6996238902211189, test_acc: 0.7554\n",
            "ep: 5, taked: 7.495, train_loss: 0.6677202331258896, train_acc: 0.7769833333333334, test_loss: 0.6629913449287415, test_acc: 0.7719\n",
            "ep: 6, taked: 7.606, train_loss: 0.6346857172377566, train_acc: 0.7897833333333333, test_loss: 0.634459949284792, test_acc: 0.7821\n",
            "ep: 7, taked: 7.575, train_loss: 0.6083981766345653, train_acc: 0.79895, test_loss: 0.6117666035890579, test_acc: 0.7887\n",
            "ep: 8, taked: 7.514, train_loss: 0.587079904814984, train_acc: 0.8049666666666667, test_loss: 0.5933652430772781, test_acc: 0.7938\n",
            "ep: 9, taked: 7.537, train_loss: 0.5695227464462849, train_acc: 0.8104166666666667, test_loss: 0.5782390497624874, test_acc: 0.7998\n",
            "ep: 10, taked: 7.626, train_loss: 0.5548441765156198, train_acc: 0.8147, test_loss: 0.5655974291265011, test_acc: 0.8042\n",
            "ep: 11, taked: 7.645, train_loss: 0.5423749614269175, train_acc: 0.8184, test_loss: 0.5548427559435367, test_acc: 0.809\n",
            "ep: 12, taked: 7.664, train_loss: 0.5316188321468678, train_acc: 0.82175, test_loss: 0.5455701820552349, test_acc: 0.8115\n",
            "ep: 13, taked: 7.707, train_loss: 0.5222220025164016, train_acc: 0.82415, test_loss: 0.5374775610864162, test_acc: 0.8142\n",
            "ep: 14, taked: 7.566, train_loss: 0.5139369253148424, train_acc: 0.8259666666666666, test_loss: 0.5303508132696152, test_acc: 0.8157\n",
            "ep: 15, taked: 7.476, train_loss: 0.5065604114786108, train_acc: 0.8278333333333333, test_loss: 0.524005302041769, test_acc: 0.818\n",
            "ep: 16, taked: 7.521, train_loss: 0.49993562622273224, train_acc: 0.8293666666666667, test_loss: 0.518311758339405, test_acc: 0.8201\n",
            "ep: 17, taked: 7.780, train_loss: 0.49393828942420637, train_acc: 0.8311, test_loss: 0.5131681233644485, test_acc: 0.8202\n",
            "ep: 18, taked: 7.797, train_loss: 0.4884711632069121, train_acc: 0.83285, test_loss: 0.5084851555526256, test_acc: 0.8203\n",
            "ep: 19, taked: 7.708, train_loss: 0.4834554616441118, train_acc: 0.83455, test_loss: 0.5041900977492333, test_acc: 0.8217\n",
            "ep: 20, taked: 7.479, train_loss: 0.4788274091608981, train_acc: 0.8362666666666667, test_loss: 0.5002278231084347, test_acc: 0.8235\n",
            "ep: 21, taked: 7.692, train_loss: 0.47452388798936884, train_acc: 0.8375666666666667, test_loss: 0.49654716700315477, test_acc: 0.8241\n",
            "ep: 22, taked: 7.648, train_loss: 0.4705064721564029, train_acc: 0.8389833333333333, test_loss: 0.49314449205994604, test_acc: 0.8263\n",
            "ep: 23, taked: 7.711, train_loss: 0.46676047330207016, train_acc: 0.8403666666666667, test_loss: 0.48997534811496735, test_acc: 0.8276\n",
            "ep: 24, taked: 7.505, train_loss: 0.4632559345123616, train_acc: 0.8413333333333334, test_loss: 0.48701051250100136, test_acc: 0.8285\n",
            "ep: 25, taked: 7.532, train_loss: 0.4599536600265097, train_acc: 0.8425333333333334, test_loss: 0.4842160686850548, test_acc: 0.8297\n",
            "ep: 26, taked: 7.438, train_loss: 0.45683267027773755, train_acc: 0.84365, test_loss: 0.48157287687063216, test_acc: 0.8309\n",
            "ep: 27, taked: 7.469, train_loss: 0.45386811786509573, train_acc: 0.8444833333333334, test_loss: 0.47907782569527624, test_acc: 0.8317\n",
            "ep: 28, taked: 7.451, train_loss: 0.45105103241636396, train_acc: 0.8453666666666667, test_loss: 0.4766957275569439, test_acc: 0.8319\n",
            "ep: 29, taked: 7.450, train_loss: 0.44836422027425565, train_acc: 0.8461666666666666, test_loss: 0.47443499937653544, test_acc: 0.8333\n"
          ]
        }
      ]
    },
    {
      "cell_type": "markdown",
      "source": [
        "## Требуемой точности в 88% на тестовой выборке (test_acc) достичь в \"базовом\" варианте не удалось. Попробуем применить оптимизатор Adam  и снизить LR до 0.001"
      ],
      "metadata": {
        "id": "scyg-1ZfLBRh"
      }
    },
    {
      "cell_type": "code",
      "source": [
        "# Пересоздадим НС в базовом варианте (№1), т.к. иначе обучение продолжается с той же точки (инициализации весов не происходит).\n",
        "# [Можно было бы написать функцию для обнуления весов модели, но в данном случае проще переинициализировать.]\n",
        "model = torch.nn.Sequential(\n",
        "    torch.nn.Flatten(),\n",
        "    torch.nn.Linear(784, 256),\n",
        "    torch.nn.ReLU(),\n",
        "    torch.nn.Linear(256, 10)\n",
        ")"
      ],
      "metadata": {
        "id": "Jq38XzWkQhYw"
      },
      "execution_count": 72,
      "outputs": []
    },
    {
      "cell_type": "code",
      "source": [
        "loss = torch.nn.CrossEntropyLoss()\n",
        "trainer = torch.optim.Adam(model.parameters(), lr=.001)\n",
        "num_epochs = 30"
      ],
      "metadata": {
        "id": "vm_IqbUBDGTM"
      },
      "execution_count": 73,
      "outputs": []
    },
    {
      "cell_type": "code",
      "source": [
        "train_model()"
      ],
      "metadata": {
        "colab": {
          "base_uri": "https://localhost:8080/"
        },
        "id": "sIyWS4TVM2pJ",
        "outputId": "d8efff36-4e49-4bcd-df70-a247c3f009ce"
      },
      "execution_count": 74,
      "outputs": [
        {
          "output_type": "stream",
          "name": "stdout",
          "text": [
            "ep: 0, taked: 8.057, train_loss: 0.620880563715671, train_acc: 0.7899, test_loss: 0.4964365243911743, test_acc: 0.823\n",
            "ep: 1, taked: 7.930, train_loss: 0.4316356393885105, train_acc: 0.8492666666666666, test_loss: 0.44634807035326957, test_acc: 0.8408\n",
            "ep: 2, taked: 8.006, train_loss: 0.3872985488556801, train_acc: 0.8627, test_loss: 0.4149063862860203, test_acc: 0.8524\n",
            "ep: 3, taked: 8.055, train_loss: 0.35883048677698093, train_acc: 0.8722, test_loss: 0.394533009827137, test_acc: 0.8599\n",
            "ep: 4, taked: 8.069, train_loss: 0.33749005255546977, train_acc: 0.8787, test_loss: 0.38043092414736746, test_acc: 0.8637\n",
            "ep: 5, taked: 7.896, train_loss: 0.3198519176625191, train_acc: 0.8846, test_loss: 0.3697623640298843, test_acc: 0.87\n",
            "ep: 6, taked: 8.785, train_loss: 0.3048764572498646, train_acc: 0.8900666666666667, test_loss: 0.36148560866713525, test_acc: 0.8732\n",
            "ep: 7, taked: 7.987, train_loss: 0.29207001074831535, train_acc: 0.8938666666666667, test_loss: 0.35451693199574946, test_acc: 0.8737\n",
            "ep: 8, taked: 7.943, train_loss: 0.28091140421147043, train_acc: 0.8984, test_loss: 0.3532103832811117, test_acc: 0.8731\n",
            "ep: 9, taked: 8.111, train_loss: 0.27057875756253585, train_acc: 0.9019666666666667, test_loss: 0.3498933590948582, test_acc: 0.8722\n",
            "ep: 10, taked: 7.955, train_loss: 0.26178317792872163, train_acc: 0.9055666666666666, test_loss: 0.34818767607212064, test_acc: 0.8736\n",
            "ep: 11, taked: 7.956, train_loss: 0.2529514976638429, train_acc: 0.90865, test_loss: 0.34231426902115347, test_acc: 0.8753\n",
            "ep: 12, taked: 7.917, train_loss: 0.24461165831444112, train_acc: 0.9116833333333333, test_loss: 0.34242901504039763, test_acc: 0.8774\n",
            "ep: 13, taked: 7.955, train_loss: 0.2368094872286979, train_acc: 0.9142833333333333, test_loss: 0.3399866670370102, test_acc: 0.8786\n",
            "ep: 14, taked: 8.149, train_loss: 0.23017536655385443, train_acc: 0.9165833333333333, test_loss: 0.3415776252746582, test_acc: 0.8782\n",
            "ep: 15, taked: 8.069, train_loss: 0.22410026065846708, train_acc: 0.9182666666666667, test_loss: 0.3418414980173111, test_acc: 0.8788\n",
            "ep: 16, taked: 8.010, train_loss: 0.21747113199944193, train_acc: 0.9213333333333333, test_loss: 0.34095886051654817, test_acc: 0.8791\n",
            "ep: 17, taked: 8.146, train_loss: 0.21157005200994775, train_acc: 0.9237333333333333, test_loss: 0.34362135343253614, test_acc: 0.88\n",
            "ep: 18, taked: 8.134, train_loss: 0.206391785690125, train_acc: 0.92565, test_loss: 0.3430538419634104, test_acc: 0.8794\n",
            "ep: 19, taked: 8.024, train_loss: 0.20090473126223746, train_acc: 0.9272166666666667, test_loss: 0.344345773011446, test_acc: 0.8801\n",
            "ep: 20, taked: 8.072, train_loss: 0.19630010942829415, train_acc: 0.9288833333333333, test_loss: 0.35091720074415206, test_acc: 0.8786\n",
            "ep: 21, taked: 8.202, train_loss: 0.19122738210444754, train_acc: 0.93075, test_loss: 0.3461067762225866, test_acc: 0.8808\n",
            "ep: 22, taked: 8.155, train_loss: 0.18620676550459356, train_acc: 0.9330333333333334, test_loss: 0.3493353195488453, test_acc: 0.8804\n",
            "ep: 23, taked: 7.915, train_loss: 0.18175456232212958, train_acc: 0.9345333333333333, test_loss: 0.3493712913244963, test_acc: 0.8812\n",
            "ep: 24, taked: 8.095, train_loss: 0.1768283094497437, train_acc: 0.9363, test_loss: 0.3535588443279266, test_acc: 0.8817\n",
            "ep: 25, taked: 8.046, train_loss: 0.17281608451554115, train_acc: 0.9378333333333333, test_loss: 0.3558263126760721, test_acc: 0.8794\n",
            "ep: 26, taked: 8.167, train_loss: 0.1685053638321288, train_acc: 0.9392833333333334, test_loss: 0.3539794094860554, test_acc: 0.8806\n",
            "ep: 27, taked: 8.315, train_loss: 0.16409312229841314, train_acc: 0.9412166666666667, test_loss: 0.3582388985902071, test_acc: 0.8816\n",
            "ep: 28, taked: 8.198, train_loss: 0.16031240862100682, train_acc: 0.9429333333333333, test_loss: 0.3523481819778681, test_acc: 0.8847\n",
            "ep: 29, taked: 8.374, train_loss: 0.15651013572165307, train_acc: 0.9441833333333334, test_loss: 0.3571075666695833, test_acc: 0.8832\n"
          ]
        }
      ]
    },
    {
      "cell_type": "markdown",
      "source": [
        "## Мы видим, что на 18-ой эпохе качество предсказаний на тестовой выборке увеличилось до требуемых 88%, но дальше качество не улучшается (крутится в районе 88%). Попробуем изменить структуру НС."
      ],
      "metadata": {
        "id": "Zb8ultFKSEaX"
      }
    },
    {
      "cell_type": "code",
      "source": [
        "# добавим дроп-аут 30% перед выходным слоем (вариант модели №2)\n",
        "model = torch.nn.Sequential(\n",
        "    torch.nn.Flatten(),\n",
        "    torch.nn.Linear(784, 256),\n",
        "    torch.nn.ReLU(),\n",
        "    torch.nn.Dropout(p=0.30), # p – probability of an element to be zeroed. Default: 0.5\n",
        "    torch.nn.Linear(256, 10)\n",
        ")\n"
      ],
      "metadata": {
        "id": "0coAUUkFDGQr"
      },
      "execution_count": 75,
      "outputs": []
    },
    {
      "cell_type": "code",
      "source": [
        "loss = torch.nn.CrossEntropyLoss()\n",
        "trainer = torch.optim.Adam(model.parameters(), lr=.001)\n",
        "num_epochs = 30"
      ],
      "metadata": {
        "id": "EZFZeCQCTbw2"
      },
      "execution_count": 76,
      "outputs": []
    },
    {
      "cell_type": "code",
      "source": [
        "train_model()"
      ],
      "metadata": {
        "colab": {
          "base_uri": "https://localhost:8080/"
        },
        "id": "giZp1CORTbsU",
        "outputId": "510f0c49-eb7c-4051-d9c7-de4eb4dd83d2"
      },
      "execution_count": 77,
      "outputs": [
        {
          "output_type": "stream",
          "name": "stdout",
          "text": [
            "ep: 0, taked: 8.225, train_loss: 0.6577089709170321, train_acc: 0.7764666666666666, test_loss: 0.4864081807434559, test_acc: 0.8257\n",
            "ep: 1, taked: 8.066, train_loss: 0.4461202990501485, train_acc: 0.84345, test_loss: 0.42418151944875715, test_acc: 0.8463\n",
            "ep: 2, taked: 8.222, train_loss: 0.39918171256146534, train_acc: 0.85815, test_loss: 0.3926271840929985, test_acc: 0.8603\n",
            "ep: 3, taked: 8.218, train_loss: 0.36986105010864584, train_acc: 0.8680833333333333, test_loss: 0.37477212138473986, test_acc: 0.8655\n",
            "ep: 4, taked: 8.338, train_loss: 0.3519387852638326, train_acc: 0.8738833333333333, test_loss: 0.3620991263538599, test_acc: 0.8679\n",
            "ep: 5, taked: 8.416, train_loss: 0.337193363587907, train_acc: 0.8781333333333333, test_loss: 0.3550729539245367, test_acc: 0.869\n",
            "ep: 6, taked: 9.613, train_loss: 0.3242391306669154, train_acc: 0.8817, test_loss: 0.3445650853216648, test_acc: 0.8746\n",
            "ep: 7, taked: 8.377, train_loss: 0.31530496218103043, train_acc: 0.885, test_loss: 0.3372234642505646, test_acc: 0.8767\n",
            "ep: 8, taked: 8.260, train_loss: 0.30542385191359417, train_acc: 0.8886833333333334, test_loss: 0.33395304568111894, test_acc: 0.8794\n",
            "ep: 9, taked: 8.172, train_loss: 0.29528429971096365, train_acc: 0.8908, test_loss: 0.32884398438036444, test_acc: 0.8788\n",
            "ep: 10, taked: 8.094, train_loss: 0.2881591609183778, train_acc: 0.8946166666666666, test_loss: 0.3272925890982151, test_acc: 0.8814\n",
            "ep: 11, taked: 8.209, train_loss: 0.2837366725536103, train_acc: 0.8959166666666667, test_loss: 0.3213890381157398, test_acc: 0.8821\n",
            "ep: 12, taked: 8.204, train_loss: 0.27561402891544584, train_acc: 0.8993, test_loss: 0.3227162577211857, test_acc: 0.884\n",
            "ep: 13, taked: 8.185, train_loss: 0.2707163229267648, train_acc: 0.8995666666666666, test_loss: 0.3190221983939409, test_acc: 0.8826\n",
            "ep: 14, taked: 8.187, train_loss: 0.2654620590996235, train_acc: 0.9014833333333333, test_loss: 0.31563949920237067, test_acc: 0.8847\n",
            "ep: 15, taked: 8.103, train_loss: 0.26228928699138315, train_acc: 0.9031833333333333, test_loss: 0.31580752059817313, test_acc: 0.8861\n",
            "ep: 16, taked: 8.137, train_loss: 0.2547662081870627, train_acc: 0.9062333333333333, test_loss: 0.31807770784944295, test_acc: 0.8845\n",
            "ep: 17, taked: 8.244, train_loss: 0.2503841014618569, train_acc: 0.9072, test_loss: 0.3146398026496172, test_acc: 0.8867\n",
            "ep: 18, taked: 8.204, train_loss: 0.2436586046472509, train_acc: 0.9101, test_loss: 0.3143907845020294, test_acc: 0.8861\n",
            "ep: 19, taked: 8.139, train_loss: 0.24128065274116842, train_acc: 0.9116333333333333, test_loss: 0.3131992433220148, test_acc: 0.8859\n",
            "ep: 20, taked: 8.219, train_loss: 0.23940836019972536, train_acc: 0.9109666666666667, test_loss: 0.3102769201621413, test_acc: 0.8887\n",
            "ep: 21, taked: 8.137, train_loss: 0.2355778250288456, train_acc: 0.9133166666666667, test_loss: 0.3122556062415242, test_acc: 0.8903\n",
            "ep: 22, taked: 8.119, train_loss: 0.22996773637355641, train_acc: 0.91445, test_loss: 0.3220806220546365, test_acc: 0.8854\n",
            "ep: 23, taked: 8.102, train_loss: 0.22648934823401431, train_acc: 0.91645, test_loss: 0.31866142265498637, test_acc: 0.8877\n",
            "ep: 24, taked: 7.975, train_loss: 0.22413299654392485, train_acc: 0.9176166666666666, test_loss: 0.3168821714818478, test_acc: 0.8882\n",
            "ep: 25, taked: 8.149, train_loss: 0.2214516428556848, train_acc: 0.91715, test_loss: 0.31208080910146235, test_acc: 0.8895\n",
            "ep: 26, taked: 8.135, train_loss: 0.21746410689455398, train_acc: 0.9188333333333333, test_loss: 0.3157650036737323, test_acc: 0.8879\n",
            "ep: 27, taked: 8.306, train_loss: 0.2144430161790645, train_acc: 0.91985, test_loss: 0.32030690256506206, test_acc: 0.886\n",
            "ep: 28, taked: 8.155, train_loss: 0.21148589843131127, train_acc: 0.9205666666666666, test_loss: 0.31553849652409555, test_acc: 0.8918\n",
            "ep: 29, taked: 8.192, train_loss: 0.20744293718896015, train_acc: 0.9227833333333333, test_loss: 0.3115335565060377, test_acc: 0.8923\n"
          ]
        }
      ]
    },
    {
      "cell_type": "markdown",
      "source": [
        "## Применение дроп-аута позволило достичь заданной точности в 88% почти вдвое быстрее, чем без дроп-аута (за 11 эпох против 18-и). Далее качество предсказаний увеличилось до 89%. Попробуем ещё улучшить качество, добавив батч-нормализацию."
      ],
      "metadata": {
        "id": "F0z5P6BVUoW9"
      }
    },
    {
      "cell_type": "code",
      "source": [
        "# вариант модели №3\n",
        "model = torch.nn.Sequential(\n",
        "    torch.nn.Flatten(),\n",
        "    torch.nn.Linear(784, 256),\n",
        "    torch.nn.BatchNorm1d(256),\n",
        "    torch.nn.ReLU(),\n",
        "    torch.nn.Dropout(p=0.30), # p – probability of an element to be zeroed. Default: 0.5\n",
        "    torch.nn.Linear(256, 10)\n",
        ")"
      ],
      "metadata": {
        "id": "0iRzse7CVRTF"
      },
      "execution_count": 78,
      "outputs": []
    },
    {
      "cell_type": "code",
      "source": [
        "loss = torch.nn.CrossEntropyLoss()\n",
        "trainer = torch.optim.Adam(model.parameters(), lr=.001)\n",
        "num_epochs = 30"
      ],
      "metadata": {
        "id": "hBaBOQJyV73a"
      },
      "execution_count": 79,
      "outputs": []
    },
    {
      "cell_type": "code",
      "source": [
        "train_model()"
      ],
      "metadata": {
        "colab": {
          "base_uri": "https://localhost:8080/"
        },
        "id": "ttqgbNLMV-j3",
        "outputId": "79901033-289f-4f08-ac7c-f15fc3571e58"
      },
      "execution_count": 80,
      "outputs": [
        {
          "output_type": "stream",
          "name": "stdout",
          "text": [
            "ep: 0, taked: 8.574, train_loss: 0.5133187608515962, train_acc: 0.8223666666666667, test_loss: 0.4291722189635038, test_acc: 0.8436\n",
            "ep: 1, taked: 8.354, train_loss: 0.37972885408300033, train_acc: 0.8637333333333334, test_loss: 0.4011194985359907, test_acc: 0.8534\n",
            "ep: 2, taked: 8.454, train_loss: 0.3438854343713598, train_acc: 0.8765666666666667, test_loss: 0.3637930929660797, test_acc: 0.8671\n",
            "ep: 3, taked: 8.815, train_loss: 0.3215250435661762, train_acc: 0.8832166666666666, test_loss: 0.3555392399430275, test_acc: 0.8707\n",
            "ep: 4, taked: 8.211, train_loss: 0.3051422244690834, train_acc: 0.8898, test_loss: 0.3467036306858063, test_acc: 0.8737\n",
            "ep: 5, taked: 8.618, train_loss: 0.29033359415987703, train_acc: 0.89435, test_loss: 0.3475345138460398, test_acc: 0.8731\n",
            "ep: 6, taked: 8.599, train_loss: 0.27720449224431465, train_acc: 0.8986333333333333, test_loss: 0.3299267265945673, test_acc: 0.8801\n",
            "ep: 7, taked: 8.374, train_loss: 0.265864700649647, train_acc: 0.9022333333333333, test_loss: 0.3306338176131248, test_acc: 0.8788\n",
            "ep: 8, taked: 8.183, train_loss: 0.25887737591215904, train_acc: 0.90505, test_loss: 0.34474757239222525, test_acc: 0.8734\n",
            "ep: 9, taked: 8.434, train_loss: 0.24990804087608418, train_acc: 0.9091, test_loss: 0.34033672865480186, test_acc: 0.8745\n",
            "ep: 10, taked: 8.405, train_loss: 0.24136927375134, train_acc: 0.91265, test_loss: 0.3312522811815143, test_acc: 0.8809\n",
            "ep: 11, taked: 8.377, train_loss: 0.23430891430124323, train_acc: 0.9148833333333334, test_loss: 0.3336923295632005, test_acc: 0.8793\n",
            "ep: 12, taked: 8.571, train_loss: 0.2260049156686093, train_acc: 0.91785, test_loss: 0.3238975368440151, test_acc: 0.8857\n",
            "ep: 13, taked: 8.641, train_loss: 0.21986900384121752, train_acc: 0.9199833333333334, test_loss: 0.3212819775566459, test_acc: 0.8871\n",
            "ep: 14, taked: 8.457, train_loss: 0.21388651145265458, train_acc: 0.921, test_loss: 0.32527579739689827, test_acc: 0.8871\n",
            "ep: 15, taked: 8.400, train_loss: 0.20872883346486598, train_acc: 0.9230333333333334, test_loss: 0.3252854296937585, test_acc: 0.8857\n",
            "ep: 16, taked: 8.424, train_loss: 0.20428480803966523, train_acc: 0.92655, test_loss: 0.32586792297661304, test_acc: 0.8877\n",
            "ep: 17, taked: 8.306, train_loss: 0.1986286627485397, train_acc: 0.92805, test_loss: 0.3318164302036166, test_acc: 0.8841\n",
            "ep: 18, taked: 8.106, train_loss: 0.193254358147053, train_acc: 0.9291, test_loss: 0.33940608240664005, test_acc: 0.8845\n",
            "ep: 19, taked: 8.253, train_loss: 0.18993827738660446, train_acc: 0.9311, test_loss: 0.3225225731730461, test_acc: 0.8911\n",
            "ep: 20, taked: 8.311, train_loss: 0.18246704181458087, train_acc: 0.9340666666666667, test_loss: 0.3264958828687668, test_acc: 0.8881\n",
            "ep: 21, taked: 8.207, train_loss: 0.17850416359749247, train_acc: 0.9355166666666667, test_loss: 0.3245819974690676, test_acc: 0.8896\n",
            "ep: 22, taked: 8.621, train_loss: 0.17520606514621287, train_acc: 0.9353833333333333, test_loss: 0.3246701605618, test_acc: 0.8911\n",
            "ep: 23, taked: 8.357, train_loss: 0.17189408962396865, train_acc: 0.9369333333333333, test_loss: 0.330482330545783, test_acc: 0.89\n",
            "ep: 24, taked: 8.994, train_loss: 0.16784074306488037, train_acc: 0.9388666666666666, test_loss: 0.3257996814325452, test_acc: 0.8932\n",
            "ep: 25, taked: 8.375, train_loss: 0.16443895615161733, train_acc: 0.9404, test_loss: 0.3381994659081101, test_acc: 0.8861\n",
            "ep: 26, taked: 8.516, train_loss: 0.15909422008281057, train_acc: 0.94165, test_loss: 0.33739406801760197, test_acc: 0.8914\n",
            "ep: 27, taked: 8.522, train_loss: 0.15465123666093705, train_acc: 0.9435333333333333, test_loss: 0.3429953696206212, test_acc: 0.8902\n",
            "ep: 28, taked: 8.541, train_loss: 0.15420560941417166, train_acc: 0.944, test_loss: 0.34998055547475815, test_acc: 0.8887\n",
            "ep: 29, taked: 8.365, train_loss: 0.14916403731133077, train_acc: 0.9459333333333333, test_loss: 0.3706940134987235, test_acc: 0.8855\n"
          ]
        }
      ]
    },
    {
      "cell_type": "markdown",
      "source": [
        "## Применение батч-нормализации в данном варианте не привело к увеличению качества предсказаний. Вариант №2 был в данном случае оптимальным, т.е. для увеличения скорости обучения и повышения качества было достаточно дроп-аута. \n",
        "\n",
        "## Следует также отметить, что для дальнейшего увеличения качества предсказаний требуются новые эксперименты со структурой НС, причём в качестве метода может быть имеет смысл всё-таки применять SGD (или альтернативу) вместо Adam. Причина - в рассмотренных вариантах на Adam наблюдается значительное переобучение модели (ошибка test_loss в 1.5 - 2 раза выше, чем train_loss). При этом на SGD расхождение трейн- и тест-лосса было незначительным (train_loss: 0.448; test_loss: 0.474)."
      ],
      "metadata": {
        "id": "YXsLH6WuXZtF"
      }
    }
  ]
}