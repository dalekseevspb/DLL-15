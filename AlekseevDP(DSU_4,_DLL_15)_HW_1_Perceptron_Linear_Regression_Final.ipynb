{
  "nbformat": 4,
  "nbformat_minor": 0,
  "metadata": {
    "colab": {
      "provenance": [],
      "collapsed_sections": []
    },
    "kernelspec": {
      "name": "python3",
      "display_name": "Python 3"
    },
    "language_info": {
      "name": "python"
    }
  },
  "cells": [
    {
      "cell_type": "markdown",
      "source": [
        "## AlekseevDP(DSU-4, DLL-15)_HW#1_Perceptron_Linear Regression.\n",
        "Задание: Реализовать обучение линейной регрессии для задачи boston house prices (https://www.kaggle.com/datasets/vikrishnan/boston-house-prices) с использованием PyTorch."
      ],
      "metadata": {
        "id": "1XnytXgvSwhM"
      }
    },
    {
      "cell_type": "markdown",
      "source": [
        " Boston house prices, columns description:\n",
        "\n",
        "- CRIM per capita crime rate by town \n",
        "- ZN proportion of residential land zoned for lots over 25,000 sq.ft. \n",
        "- INDUS proportion of non-retail business acres per town \n",
        "- CHAS Charles River dummy variable (= 1 if tract bounds river; 0 otherwise) \n",
        "- NOX nitric oxides concentration (parts per 10 million) \n",
        "- RM average number of rooms per dwelling \n",
        "- AGE proportion of owner-occupied units built prior to 1940 \n",
        "- DIS weighted distances to five Boston employment centres \n",
        "- RAD index of accessibility to radial highways \n",
        "- TAX full-value property-tax rate per $10,000\n",
        "\n",
        "- PTRATIO pupil-teacher ratio by town \n",
        "- B 1000(Bk - 0.63)^2 where Bk is the proportion of blacks by town \n",
        "- LSTAT % lower status of the population \n",
        "- MEDV Median value of owner-occupied homes in $1000's"
      ],
      "metadata": {
        "id": "3Ly4DZPMSxxy"
      }
    },
    {
      "cell_type": "code",
      "execution_count": null,
      "metadata": {
        "id": "VMjlYkxZSuni"
      },
      "outputs": [],
      "source": [
        "import pandas as pd\n",
        "import numpy as np\n",
        "import seaborn as sns\n",
        "from sklearn import metrics\n",
        "import matplotlib.pyplot as plt\n",
        "import warnings\n",
        "%matplotlib inline\n",
        "warnings.filterwarnings('ignore')"
      ]
    },
    {
      "cell_type": "code",
      "source": [
        "column_names = ['CRIM', 'ZN', 'INDUS', 'CHAS', 'NOX', 'RM', 'AGE', 'DIS', 'RAD', 'TAX', 'PTRATIO', 'B', 'LSTAT', 'MEDV']"
      ],
      "metadata": {
        "id": "Pbpig2bwFZTs"
      },
      "execution_count": null,
      "outputs": []
    },
    {
      "cell_type": "code",
      "source": [
        "df = pd.read_csv('housing.csv', header=None, delimiter=r\"\\s+\", names=column_names)"
      ],
      "metadata": {
        "id": "sLPoFKCtFZKU"
      },
      "execution_count": null,
      "outputs": []
    },
    {
      "cell_type": "code",
      "source": [
        "df.head()"
      ],
      "metadata": {
        "colab": {
          "base_uri": "https://localhost:8080/",
          "height": 206
        },
        "id": "qkzd-ipzFZCN",
        "outputId": "d0f19f0e-c1eb-43bc-c6aa-d8ea1b3cd98c"
      },
      "execution_count": null,
      "outputs": [
        {
          "output_type": "execute_result",
          "data": {
            "text/plain": [
              "      CRIM    ZN  INDUS  CHAS    NOX     RM   AGE     DIS  RAD    TAX  \\\n",
              "0  0.00632  18.0   2.31     0  0.538  6.575  65.2  4.0900    1  296.0   \n",
              "1  0.02731   0.0   7.07     0  0.469  6.421  78.9  4.9671    2  242.0   \n",
              "2  0.02729   0.0   7.07     0  0.469  7.185  61.1  4.9671    2  242.0   \n",
              "3  0.03237   0.0   2.18     0  0.458  6.998  45.8  6.0622    3  222.0   \n",
              "4  0.06905   0.0   2.18     0  0.458  7.147  54.2  6.0622    3  222.0   \n",
              "\n",
              "   PTRATIO       B  LSTAT  MEDV  \n",
              "0     15.3  396.90   4.98  24.0  \n",
              "1     17.8  396.90   9.14  21.6  \n",
              "2     17.8  392.83   4.03  34.7  \n",
              "3     18.7  394.63   2.94  33.4  \n",
              "4     18.7  396.90   5.33  36.2  "
            ],
            "text/html": [
              "\n",
              "  <div id=\"df-af909134-e061-401e-92f5-b048befd40e6\">\n",
              "    <div class=\"colab-df-container\">\n",
              "      <div>\n",
              "<style scoped>\n",
              "    .dataframe tbody tr th:only-of-type {\n",
              "        vertical-align: middle;\n",
              "    }\n",
              "\n",
              "    .dataframe tbody tr th {\n",
              "        vertical-align: top;\n",
              "    }\n",
              "\n",
              "    .dataframe thead th {\n",
              "        text-align: right;\n",
              "    }\n",
              "</style>\n",
              "<table border=\"1\" class=\"dataframe\">\n",
              "  <thead>\n",
              "    <tr style=\"text-align: right;\">\n",
              "      <th></th>\n",
              "      <th>CRIM</th>\n",
              "      <th>ZN</th>\n",
              "      <th>INDUS</th>\n",
              "      <th>CHAS</th>\n",
              "      <th>NOX</th>\n",
              "      <th>RM</th>\n",
              "      <th>AGE</th>\n",
              "      <th>DIS</th>\n",
              "      <th>RAD</th>\n",
              "      <th>TAX</th>\n",
              "      <th>PTRATIO</th>\n",
              "      <th>B</th>\n",
              "      <th>LSTAT</th>\n",
              "      <th>MEDV</th>\n",
              "    </tr>\n",
              "  </thead>\n",
              "  <tbody>\n",
              "    <tr>\n",
              "      <th>0</th>\n",
              "      <td>0.00632</td>\n",
              "      <td>18.0</td>\n",
              "      <td>2.31</td>\n",
              "      <td>0</td>\n",
              "      <td>0.538</td>\n",
              "      <td>6.575</td>\n",
              "      <td>65.2</td>\n",
              "      <td>4.0900</td>\n",
              "      <td>1</td>\n",
              "      <td>296.0</td>\n",
              "      <td>15.3</td>\n",
              "      <td>396.90</td>\n",
              "      <td>4.98</td>\n",
              "      <td>24.0</td>\n",
              "    </tr>\n",
              "    <tr>\n",
              "      <th>1</th>\n",
              "      <td>0.02731</td>\n",
              "      <td>0.0</td>\n",
              "      <td>7.07</td>\n",
              "      <td>0</td>\n",
              "      <td>0.469</td>\n",
              "      <td>6.421</td>\n",
              "      <td>78.9</td>\n",
              "      <td>4.9671</td>\n",
              "      <td>2</td>\n",
              "      <td>242.0</td>\n",
              "      <td>17.8</td>\n",
              "      <td>396.90</td>\n",
              "      <td>9.14</td>\n",
              "      <td>21.6</td>\n",
              "    </tr>\n",
              "    <tr>\n",
              "      <th>2</th>\n",
              "      <td>0.02729</td>\n",
              "      <td>0.0</td>\n",
              "      <td>7.07</td>\n",
              "      <td>0</td>\n",
              "      <td>0.469</td>\n",
              "      <td>7.185</td>\n",
              "      <td>61.1</td>\n",
              "      <td>4.9671</td>\n",
              "      <td>2</td>\n",
              "      <td>242.0</td>\n",
              "      <td>17.8</td>\n",
              "      <td>392.83</td>\n",
              "      <td>4.03</td>\n",
              "      <td>34.7</td>\n",
              "    </tr>\n",
              "    <tr>\n",
              "      <th>3</th>\n",
              "      <td>0.03237</td>\n",
              "      <td>0.0</td>\n",
              "      <td>2.18</td>\n",
              "      <td>0</td>\n",
              "      <td>0.458</td>\n",
              "      <td>6.998</td>\n",
              "      <td>45.8</td>\n",
              "      <td>6.0622</td>\n",
              "      <td>3</td>\n",
              "      <td>222.0</td>\n",
              "      <td>18.7</td>\n",
              "      <td>394.63</td>\n",
              "      <td>2.94</td>\n",
              "      <td>33.4</td>\n",
              "    </tr>\n",
              "    <tr>\n",
              "      <th>4</th>\n",
              "      <td>0.06905</td>\n",
              "      <td>0.0</td>\n",
              "      <td>2.18</td>\n",
              "      <td>0</td>\n",
              "      <td>0.458</td>\n",
              "      <td>7.147</td>\n",
              "      <td>54.2</td>\n",
              "      <td>6.0622</td>\n",
              "      <td>3</td>\n",
              "      <td>222.0</td>\n",
              "      <td>18.7</td>\n",
              "      <td>396.90</td>\n",
              "      <td>5.33</td>\n",
              "      <td>36.2</td>\n",
              "    </tr>\n",
              "  </tbody>\n",
              "</table>\n",
              "</div>\n",
              "      <button class=\"colab-df-convert\" onclick=\"convertToInteractive('df-af909134-e061-401e-92f5-b048befd40e6')\"\n",
              "              title=\"Convert this dataframe to an interactive table.\"\n",
              "              style=\"display:none;\">\n",
              "        \n",
              "  <svg xmlns=\"http://www.w3.org/2000/svg\" height=\"24px\"viewBox=\"0 0 24 24\"\n",
              "       width=\"24px\">\n",
              "    <path d=\"M0 0h24v24H0V0z\" fill=\"none\"/>\n",
              "    <path d=\"M18.56 5.44l.94 2.06.94-2.06 2.06-.94-2.06-.94-.94-2.06-.94 2.06-2.06.94zm-11 1L8.5 8.5l.94-2.06 2.06-.94-2.06-.94L8.5 2.5l-.94 2.06-2.06.94zm10 10l.94 2.06.94-2.06 2.06-.94-2.06-.94-.94-2.06-.94 2.06-2.06.94z\"/><path d=\"M17.41 7.96l-1.37-1.37c-.4-.4-.92-.59-1.43-.59-.52 0-1.04.2-1.43.59L10.3 9.45l-7.72 7.72c-.78.78-.78 2.05 0 2.83L4 21.41c.39.39.9.59 1.41.59.51 0 1.02-.2 1.41-.59l7.78-7.78 2.81-2.81c.8-.78.8-2.07 0-2.86zM5.41 20L4 18.59l7.72-7.72 1.47 1.35L5.41 20z\"/>\n",
              "  </svg>\n",
              "      </button>\n",
              "      \n",
              "  <style>\n",
              "    .colab-df-container {\n",
              "      display:flex;\n",
              "      flex-wrap:wrap;\n",
              "      gap: 12px;\n",
              "    }\n",
              "\n",
              "    .colab-df-convert {\n",
              "      background-color: #E8F0FE;\n",
              "      border: none;\n",
              "      border-radius: 50%;\n",
              "      cursor: pointer;\n",
              "      display: none;\n",
              "      fill: #1967D2;\n",
              "      height: 32px;\n",
              "      padding: 0 0 0 0;\n",
              "      width: 32px;\n",
              "    }\n",
              "\n",
              "    .colab-df-convert:hover {\n",
              "      background-color: #E2EBFA;\n",
              "      box-shadow: 0px 1px 2px rgba(60, 64, 67, 0.3), 0px 1px 3px 1px rgba(60, 64, 67, 0.15);\n",
              "      fill: #174EA6;\n",
              "    }\n",
              "\n",
              "    [theme=dark] .colab-df-convert {\n",
              "      background-color: #3B4455;\n",
              "      fill: #D2E3FC;\n",
              "    }\n",
              "\n",
              "    [theme=dark] .colab-df-convert:hover {\n",
              "      background-color: #434B5C;\n",
              "      box-shadow: 0px 1px 3px 1px rgba(0, 0, 0, 0.15);\n",
              "      filter: drop-shadow(0px 1px 2px rgba(0, 0, 0, 0.3));\n",
              "      fill: #FFFFFF;\n",
              "    }\n",
              "  </style>\n",
              "\n",
              "      <script>\n",
              "        const buttonEl =\n",
              "          document.querySelector('#df-af909134-e061-401e-92f5-b048befd40e6 button.colab-df-convert');\n",
              "        buttonEl.style.display =\n",
              "          google.colab.kernel.accessAllowed ? 'block' : 'none';\n",
              "\n",
              "        async function convertToInteractive(key) {\n",
              "          const element = document.querySelector('#df-af909134-e061-401e-92f5-b048befd40e6');\n",
              "          const dataTable =\n",
              "            await google.colab.kernel.invokeFunction('convertToInteractive',\n",
              "                                                     [key], {});\n",
              "          if (!dataTable) return;\n",
              "\n",
              "          const docLinkHtml = 'Like what you see? Visit the ' +\n",
              "            '<a target=\"_blank\" href=https://colab.research.google.com/notebooks/data_table.ipynb>data table notebook</a>'\n",
              "            + ' to learn more about interactive tables.';\n",
              "          element.innerHTML = '';\n",
              "          dataTable['output_type'] = 'display_data';\n",
              "          await google.colab.output.renderOutput(dataTable, element);\n",
              "          const docLink = document.createElement('div');\n",
              "          docLink.innerHTML = docLinkHtml;\n",
              "          element.appendChild(docLink);\n",
              "        }\n",
              "      </script>\n",
              "    </div>\n",
              "  </div>\n",
              "  "
            ]
          },
          "metadata": {},
          "execution_count": 4
        }
      ]
    },
    {
      "cell_type": "code",
      "source": [
        "df.info()"
      ],
      "metadata": {
        "colab": {
          "base_uri": "https://localhost:8080/"
        },
        "id": "4QmNSLQ_GJiM",
        "outputId": "ce85930c-ef74-4820-8b27-b6c8191eb18a"
      },
      "execution_count": null,
      "outputs": [
        {
          "output_type": "stream",
          "name": "stdout",
          "text": [
            "<class 'pandas.core.frame.DataFrame'>\n",
            "RangeIndex: 506 entries, 0 to 505\n",
            "Data columns (total 14 columns):\n",
            " #   Column   Non-Null Count  Dtype  \n",
            "---  ------   --------------  -----  \n",
            " 0   CRIM     506 non-null    float64\n",
            " 1   ZN       506 non-null    float64\n",
            " 2   INDUS    506 non-null    float64\n",
            " 3   CHAS     506 non-null    int64  \n",
            " 4   NOX      506 non-null    float64\n",
            " 5   RM       506 non-null    float64\n",
            " 6   AGE      506 non-null    float64\n",
            " 7   DIS      506 non-null    float64\n",
            " 8   RAD      506 non-null    int64  \n",
            " 9   TAX      506 non-null    float64\n",
            " 10  PTRATIO  506 non-null    float64\n",
            " 11  B        506 non-null    float64\n",
            " 12  LSTAT    506 non-null    float64\n",
            " 13  MEDV     506 non-null    float64\n",
            "dtypes: float64(12), int64(2)\n",
            "memory usage: 55.5 KB\n"
          ]
        }
      ]
    },
    {
      "cell_type": "code",
      "source": [
        "corr = df.corr()\n",
        "plt.figure(figsize=(20,10))\n",
        "sns.heatmap(corr, annot=True)"
      ],
      "metadata": {
        "colab": {
          "base_uri": "https://localhost:8080/",
          "height": 613
        },
        "id": "8UkjhvgGGRMd",
        "outputId": "b917fd87-9218-42c7-ba43-292c286ee0cd"
      },
      "execution_count": 10,
      "outputs": [
        {
          "output_type": "execute_result",
          "data": {
            "text/plain": [
              "<matplotlib.axes._subplots.AxesSubplot at 0x7f637cc9da50>"
            ]
          },
          "metadata": {},
          "execution_count": 10
        },
        {
          "output_type": "display_data",
          "data": {
            "text/plain": [
              "<Figure size 1440x720 with 2 Axes>"
            ],
            "image/png": "[encoded data removed]"
          },
          "metadata": {
            "needs_background": "light"
          }
        }
      ]
    },
    {
      "cell_type": "markdown",
      "source": [
        "## Мы можем видеть, что ряд входящих признаков сильно коррелируют с целевой переменной (стоимость недвижимости - 'MEDV'), как прямо пропорционально (+), так и обратно пропорционально (-). ***Примечание: Для упрощения модели регрессии сперва были оставлены только признаки с корреляцией более 0.5 по модулю ('RM', 'PTRATIO', 'LSTAT'), но качество предсказаний получилось невысоким. Поэтому в итоге решил оставить все входящие признаки."
      ],
      "metadata": {
        "id": "M-aEI-d6L9QF"
      }
    },
    {
      "cell_type": "code",
      "source": [
        "# features =  ['RM', 'PTRATIO', 'LSTAT']\n",
        "features = ['CRIM', 'ZN', 'INDUS', 'CHAS', 'NOX', 'RM', 'AGE', 'DIS', 'RAD', 'TAX', 'PTRATIO', 'B', 'LSTAT']"
      ],
      "metadata": {
        "id": "2IFmFcoqGRJn"
      },
      "execution_count": 128,
      "outputs": []
    },
    {
      "cell_type": "code",
      "source": [
        "# входящие признаки\n",
        "X = df.loc[:, features]"
      ],
      "metadata": {
        "id": "OZI4bnSHGJfJ"
      },
      "execution_count": 129,
      "outputs": []
    },
    {
      "cell_type": "code",
      "source": [
        "X.head()"
      ],
      "metadata": {
        "colab": {
          "base_uri": "https://localhost:8080/",
          "height": 206
        },
        "id": "Dc9XKRkKNf9o",
        "outputId": "ab58a9a3-ba51-401b-fa19-5b4eadd95b2a"
      },
      "execution_count": 130,
      "outputs": [
        {
          "output_type": "execute_result",
          "data": {
            "text/plain": [
              "      CRIM    ZN  INDUS  CHAS    NOX     RM   AGE     DIS  RAD    TAX  \\\n",
              "0  0.00632  18.0   2.31     0  0.538  6.575  65.2  4.0900    1  296.0   \n",
              "1  0.02731   0.0   7.07     0  0.469  6.421  78.9  4.9671    2  242.0   \n",
              "2  0.02729   0.0   7.07     0  0.469  7.185  61.1  4.9671    2  242.0   \n",
              "3  0.03237   0.0   2.18     0  0.458  6.998  45.8  6.0622    3  222.0   \n",
              "4  0.06905   0.0   2.18     0  0.458  7.147  54.2  6.0622    3  222.0   \n",
              "\n",
              "   PTRATIO       B  LSTAT  \n",
              "0     15.3  396.90   4.98  \n",
              "1     17.8  396.90   9.14  \n",
              "2     17.8  392.83   4.03  \n",
              "3     18.7  394.63   2.94  \n",
              "4     18.7  396.90   5.33  "
            ],
            "text/html": [
              "\n",
              "  <div id=\"df-42566ab2-a875-49ec-8f65-21b870a037e9\">\n",
              "    <div class=\"colab-df-container\">\n",
              "      <div>\n",
              "<style scoped>\n",
              "    .dataframe tbody tr th:only-of-type {\n",
              "        vertical-align: middle;\n",
              "    }\n",
              "\n",
              "    .dataframe tbody tr th {\n",
              "        vertical-align: top;\n",
              "    }\n",
              "\n",
              "    .dataframe thead th {\n",
              "        text-align: right;\n",
              "    }\n",
              "</style>\n",
              "<table border=\"1\" class=\"dataframe\">\n",
              "  <thead>\n",
              "    <tr style=\"text-align: right;\">\n",
              "      <th></th>\n",
              "      <th>CRIM</th>\n",
              "      <th>ZN</th>\n",
              "      <th>INDUS</th>\n",
              "      <th>CHAS</th>\n",
              "      <th>NOX</th>\n",
              "      <th>RM</th>\n",
              "      <th>AGE</th>\n",
              "      <th>DIS</th>\n",
              "      <th>RAD</th>\n",
              "      <th>TAX</th>\n",
              "      <th>PTRATIO</th>\n",
              "      <th>B</th>\n",
              "      <th>LSTAT</th>\n",
              "    </tr>\n",
              "  </thead>\n",
              "  <tbody>\n",
              "    <tr>\n",
              "      <th>0</th>\n",
              "      <td>0.00632</td>\n",
              "      <td>18.0</td>\n",
              "      <td>2.31</td>\n",
              "      <td>0</td>\n",
              "      <td>0.538</td>\n",
              "      <td>6.575</td>\n",
              "      <td>65.2</td>\n",
              "      <td>4.0900</td>\n",
              "      <td>1</td>\n",
              "      <td>296.0</td>\n",
              "      <td>15.3</td>\n",
              "      <td>396.90</td>\n",
              "      <td>4.98</td>\n",
              "    </tr>\n",
              "    <tr>\n",
              "      <th>1</th>\n",
              "      <td>0.02731</td>\n",
              "      <td>0.0</td>\n",
              "      <td>7.07</td>\n",
              "      <td>0</td>\n",
              "      <td>0.469</td>\n",
              "      <td>6.421</td>\n",
              "      <td>78.9</td>\n",
              "      <td>4.9671</td>\n",
              "      <td>2</td>\n",
              "      <td>242.0</td>\n",
              "      <td>17.8</td>\n",
              "      <td>396.90</td>\n",
              "      <td>9.14</td>\n",
              "    </tr>\n",
              "    <tr>\n",
              "      <th>2</th>\n",
              "      <td>0.02729</td>\n",
              "      <td>0.0</td>\n",
              "      <td>7.07</td>\n",
              "      <td>0</td>\n",
              "      <td>0.469</td>\n",
              "      <td>7.185</td>\n",
              "      <td>61.1</td>\n",
              "      <td>4.9671</td>\n",
              "      <td>2</td>\n",
              "      <td>242.0</td>\n",
              "      <td>17.8</td>\n",
              "      <td>392.83</td>\n",
              "      <td>4.03</td>\n",
              "    </tr>\n",
              "    <tr>\n",
              "      <th>3</th>\n",
              "      <td>0.03237</td>\n",
              "      <td>0.0</td>\n",
              "      <td>2.18</td>\n",
              "      <td>0</td>\n",
              "      <td>0.458</td>\n",
              "      <td>6.998</td>\n",
              "      <td>45.8</td>\n",
              "      <td>6.0622</td>\n",
              "      <td>3</td>\n",
              "      <td>222.0</td>\n",
              "      <td>18.7</td>\n",
              "      <td>394.63</td>\n",
              "      <td>2.94</td>\n",
              "    </tr>\n",
              "    <tr>\n",
              "      <th>4</th>\n",
              "      <td>0.06905</td>\n",
              "      <td>0.0</td>\n",
              "      <td>2.18</td>\n",
              "      <td>0</td>\n",
              "      <td>0.458</td>\n",
              "      <td>7.147</td>\n",
              "      <td>54.2</td>\n",
              "      <td>6.0622</td>\n",
              "      <td>3</td>\n",
              "      <td>222.0</td>\n",
              "      <td>18.7</td>\n",
              "      <td>396.90</td>\n",
              "      <td>5.33</td>\n",
              "    </tr>\n",
              "  </tbody>\n",
              "</table>\n",
              "</div>\n",
              "      <button class=\"colab-df-convert\" onclick=\"convertToInteractive('df-42566ab2-a875-49ec-8f65-21b870a037e9')\"\n",
              "              title=\"Convert this dataframe to an interactive table.\"\n",
              "              style=\"display:none;\">\n",
              "        \n",
              "  <svg xmlns=\"http://www.w3.org/2000/svg\" height=\"24px\"viewBox=\"0 0 24 24\"\n",
              "       width=\"24px\">\n",
              "    <path d=\"M0 0h24v24H0V0z\" fill=\"none\"/>\n",
              "    <path d=\"M18.56 5.44l.94 2.06.94-2.06 2.06-.94-2.06-.94-.94-2.06-.94 2.06-2.06.94zm-11 1L8.5 8.5l.94-2.06 2.06-.94-2.06-.94L8.5 2.5l-.94 2.06-2.06.94zm10 10l.94 2.06.94-2.06 2.06-.94-2.06-.94-.94-2.06-.94 2.06-2.06.94z\"/><path d=\"M17.41 7.96l-1.37-1.37c-.4-.4-.92-.59-1.43-.59-.52 0-1.04.2-1.43.59L10.3 9.45l-7.72 7.72c-.78.78-.78 2.05 0 2.83L4 21.41c.39.39.9.59 1.41.59.51 0 1.02-.2 1.41-.59l7.78-7.78 2.81-2.81c.8-.78.8-2.07 0-2.86zM5.41 20L4 18.59l7.72-7.72 1.47 1.35L5.41 20z\"/>\n",
              "  </svg>\n",
              "      </button>\n",
              "      \n",
              "  <style>\n",
              "    .colab-df-container {\n",
              "      display:flex;\n",
              "      flex-wrap:wrap;\n",
              "      gap: 12px;\n",
              "    }\n",
              "\n",
              "    .colab-df-convert {\n",
              "      background-color: #E8F0FE;\n",
              "      border: none;\n",
              "      border-radius: 50%;\n",
              "      cursor: pointer;\n",
              "      display: none;\n",
              "      fill: #1967D2;\n",
              "      height: 32px;\n",
              "      padding: 0 0 0 0;\n",
              "      width: 32px;\n",
              "    }\n",
              "\n",
              "    .colab-df-convert:hover {\n",
              "      background-color: #E2EBFA;\n",
              "      box-shadow: 0px 1px 2px rgba(60, 64, 67, 0.3), 0px 1px 3px 1px rgba(60, 64, 67, 0.15);\n",
              "      fill: #174EA6;\n",
              "    }\n",
              "\n",
              "    [theme=dark] .colab-df-convert {\n",
              "      background-color: #3B4455;\n",
              "      fill: #D2E3FC;\n",
              "    }\n",
              "\n",
              "    [theme=dark] .colab-df-convert:hover {\n",
              "      background-color: #434B5C;\n",
              "      box-shadow: 0px 1px 3px 1px rgba(0, 0, 0, 0.15);\n",
              "      filter: drop-shadow(0px 1px 2px rgba(0, 0, 0, 0.3));\n",
              "      fill: #FFFFFF;\n",
              "    }\n",
              "  </style>\n",
              "\n",
              "      <script>\n",
              "        const buttonEl =\n",
              "          document.querySelector('#df-42566ab2-a875-49ec-8f65-21b870a037e9 button.colab-df-convert');\n",
              "        buttonEl.style.display =\n",
              "          google.colab.kernel.accessAllowed ? 'block' : 'none';\n",
              "\n",
              "        async function convertToInteractive(key) {\n",
              "          const element = document.querySelector('#df-42566ab2-a875-49ec-8f65-21b870a037e9');\n",
              "          const dataTable =\n",
              "            await google.colab.kernel.invokeFunction('convertToInteractive',\n",
              "                                                     [key], {});\n",
              "          if (!dataTable) return;\n",
              "\n",
              "          const docLinkHtml = 'Like what you see? Visit the ' +\n",
              "            '<a target=\"_blank\" href=https://colab.research.google.com/notebooks/data_table.ipynb>data table notebook</a>'\n",
              "            + ' to learn more about interactive tables.';\n",
              "          element.innerHTML = '';\n",
              "          dataTable['output_type'] = 'display_data';\n",
              "          await google.colab.output.renderOutput(dataTable, element);\n",
              "          const docLink = document.createElement('div');\n",
              "          docLink.innerHTML = docLinkHtml;\n",
              "          element.appendChild(docLink);\n",
              "        }\n",
              "      </script>\n",
              "    </div>\n",
              "  </div>\n",
              "  "
            ]
          },
          "metadata": {},
          "execution_count": 130
        }
      ]
    },
    {
      "cell_type": "code",
      "source": [
        "# целевая переменная\n",
        "Y = df['MEDV']"
      ],
      "metadata": {
        "id": "uyKM0ZkkGJcJ"
      },
      "execution_count": 131,
      "outputs": []
    },
    {
      "cell_type": "code",
      "source": [
        "Y.head()"
      ],
      "metadata": {
        "colab": {
          "base_uri": "https://localhost:8080/"
        },
        "id": "vKRVH4KENvl9",
        "outputId": "6976dc5c-142c-4f35-e99d-703dd4f2d811"
      },
      "execution_count": 132,
      "outputs": [
        {
          "output_type": "execute_result",
          "data": {
            "text/plain": [
              "0    24.0\n",
              "1    21.6\n",
              "2    34.7\n",
              "3    33.4\n",
              "4    36.2\n",
              "Name: MEDV, dtype: float64"
            ]
          },
          "metadata": {},
          "execution_count": 132
        }
      ]
    },
    {
      "cell_type": "code",
      "source": [
        "# отнормируем входящие признаки StandardScaler'ом\n",
        "from sklearn.preprocessing import StandardScaler"
      ],
      "metadata": {
        "id": "Qu8Yqo1tPI3A"
      },
      "execution_count": 24,
      "outputs": []
    },
    {
      "cell_type": "code",
      "source": [
        "scaler = StandardScaler()"
      ],
      "metadata": {
        "id": "d79u8NxHN0Ns"
      },
      "execution_count": 133,
      "outputs": []
    },
    {
      "cell_type": "code",
      "source": [
        "X_scaled = scaler.fit_transform(X)\n",
        "X_scaled"
      ],
      "metadata": {
        "colab": {
          "base_uri": "https://localhost:8080/"
        },
        "id": "gfRcnXKnN0JT",
        "outputId": "bc7bfaa1-78c8-42de-9f06-c83d99702187"
      },
      "execution_count": 134,
      "outputs": [
        {
          "output_type": "execute_result",
          "data": {
            "text/plain": [
              "array([[-0.41978194,  0.28482986, -1.2879095 , ..., -1.45900038,\n",
              "         0.44105193, -1.0755623 ],\n",
              "       [-0.41733926, -0.48772236, -0.59338101, ..., -0.30309415,\n",
              "         0.44105193, -0.49243937],\n",
              "       [-0.41734159, -0.48772236, -0.59338101, ..., -0.30309415,\n",
              "         0.39642699, -1.2087274 ],\n",
              "       ...,\n",
              "       [-0.41344658, -0.48772236,  0.11573841, ...,  1.17646583,\n",
              "         0.44105193, -0.98304761],\n",
              "       [-0.40776407, -0.48772236,  0.11573841, ...,  1.17646583,\n",
              "         0.4032249 , -0.86530163],\n",
              "       [-0.41500016, -0.48772236,  0.11573841, ...,  1.17646583,\n",
              "         0.44105193, -0.66905833]])"
            ]
          },
          "metadata": {},
          "execution_count": 134
        }
      ]
    },
    {
      "cell_type": "code",
      "source": [
        "# преобразуем целевую переменную также в массив NumPy (для входящих признаков это не требуется, т.к. скейлер выдал уже \"правильный\" массив numpy)\n",
        "Y.to_numpy()"
      ],
      "metadata": {
        "colab": {
          "base_uri": "https://localhost:8080/"
        },
        "id": "g1Zzt425V2Lh",
        "outputId": "80c2d83c-d88a-4e63-ee05-6f3bf3efa741"
      },
      "execution_count": 135,
      "outputs": [
        {
          "output_type": "execute_result",
          "data": {
            "text/plain": [
              "array([24. , 21.6, 34.7, 33.4, 36.2, 28.7, 22.9, 27.1, 16.5, 18.9, 15. ,\n",
              "       18.9, 21.7, 20.4, 18.2, 19.9, 23.1, 17.5, 20.2, 18.2, 13.6, 19.6,\n",
              "       15.2, 14.5, 15.6, 13.9, 16.6, 14.8, 18.4, 21. , 12.7, 14.5, 13.2,\n",
              "       13.1, 13.5, 18.9, 20. , 21. , 24.7, 30.8, 34.9, 26.6, 25.3, 24.7,\n",
              "       21.2, 19.3, 20. , 16.6, 14.4, 19.4, 19.7, 20.5, 25. , 23.4, 18.9,\n",
              "       35.4, 24.7, 31.6, 23.3, 19.6, 18.7, 16. , 22.2, 25. , 33. , 23.5,\n",
              "       19.4, 22. , 17.4, 20.9, 24.2, 21.7, 22.8, 23.4, 24.1, 21.4, 20. ,\n",
              "       20.8, 21.2, 20.3, 28. , 23.9, 24.8, 22.9, 23.9, 26.6, 22.5, 22.2,\n",
              "       23.6, 28.7, 22.6, 22. , 22.9, 25. , 20.6, 28.4, 21.4, 38.7, 43.8,\n",
              "       33.2, 27.5, 26.5, 18.6, 19.3, 20.1, 19.5, 19.5, 20.4, 19.8, 19.4,\n",
              "       21.7, 22.8, 18.8, 18.7, 18.5, 18.3, 21.2, 19.2, 20.4, 19.3, 22. ,\n",
              "       20.3, 20.5, 17.3, 18.8, 21.4, 15.7, 16.2, 18. , 14.3, 19.2, 19.6,\n",
              "       23. , 18.4, 15.6, 18.1, 17.4, 17.1, 13.3, 17.8, 14. , 14.4, 13.4,\n",
              "       15.6, 11.8, 13.8, 15.6, 14.6, 17.8, 15.4, 21.5, 19.6, 15.3, 19.4,\n",
              "       17. , 15.6, 13.1, 41.3, 24.3, 23.3, 27. , 50. , 50. , 50. , 22.7,\n",
              "       25. , 50. , 23.8, 23.8, 22.3, 17.4, 19.1, 23.1, 23.6, 22.6, 29.4,\n",
              "       23.2, 24.6, 29.9, 37.2, 39.8, 36.2, 37.9, 32.5, 26.4, 29.6, 50. ,\n",
              "       32. , 29.8, 34.9, 37. , 30.5, 36.4, 31.1, 29.1, 50. , 33.3, 30.3,\n",
              "       34.6, 34.9, 32.9, 24.1, 42.3, 48.5, 50. , 22.6, 24.4, 22.5, 24.4,\n",
              "       20. , 21.7, 19.3, 22.4, 28.1, 23.7, 25. , 23.3, 28.7, 21.5, 23. ,\n",
              "       26.7, 21.7, 27.5, 30.1, 44.8, 50. , 37.6, 31.6, 46.7, 31.5, 24.3,\n",
              "       31.7, 41.7, 48.3, 29. , 24. , 25.1, 31.5, 23.7, 23.3, 22. , 20.1,\n",
              "       22.2, 23.7, 17.6, 18.5, 24.3, 20.5, 24.5, 26.2, 24.4, 24.8, 29.6,\n",
              "       42.8, 21.9, 20.9, 44. , 50. , 36. , 30.1, 33.8, 43.1, 48.8, 31. ,\n",
              "       36.5, 22.8, 30.7, 50. , 43.5, 20.7, 21.1, 25.2, 24.4, 35.2, 32.4,\n",
              "       32. , 33.2, 33.1, 29.1, 35.1, 45.4, 35.4, 46. , 50. , 32.2, 22. ,\n",
              "       20.1, 23.2, 22.3, 24.8, 28.5, 37.3, 27.9, 23.9, 21.7, 28.6, 27.1,\n",
              "       20.3, 22.5, 29. , 24.8, 22. , 26.4, 33.1, 36.1, 28.4, 33.4, 28.2,\n",
              "       22.8, 20.3, 16.1, 22.1, 19.4, 21.6, 23.8, 16.2, 17.8, 19.8, 23.1,\n",
              "       21. , 23.8, 23.1, 20.4, 18.5, 25. , 24.6, 23. , 22.2, 19.3, 22.6,\n",
              "       19.8, 17.1, 19.4, 22.2, 20.7, 21.1, 19.5, 18.5, 20.6, 19. , 18.7,\n",
              "       32.7, 16.5, 23.9, 31.2, 17.5, 17.2, 23.1, 24.5, 26.6, 22.9, 24.1,\n",
              "       18.6, 30.1, 18.2, 20.6, 17.8, 21.7, 22.7, 22.6, 25. , 19.9, 20.8,\n",
              "       16.8, 21.9, 27.5, 21.9, 23.1, 50. , 50. , 50. , 50. , 50. , 13.8,\n",
              "       13.8, 15. , 13.9, 13.3, 13.1, 10.2, 10.4, 10.9, 11.3, 12.3,  8.8,\n",
              "        7.2, 10.5,  7.4, 10.2, 11.5, 15.1, 23.2,  9.7, 13.8, 12.7, 13.1,\n",
              "       12.5,  8.5,  5. ,  6.3,  5.6,  7.2, 12.1,  8.3,  8.5,  5. , 11.9,\n",
              "       27.9, 17.2, 27.5, 15. , 17.2, 17.9, 16.3,  7. ,  7.2,  7.5, 10.4,\n",
              "        8.8,  8.4, 16.7, 14.2, 20.8, 13.4, 11.7,  8.3, 10.2, 10.9, 11. ,\n",
              "        9.5, 14.5, 14.1, 16.1, 14.3, 11.7, 13.4,  9.6,  8.7,  8.4, 12.8,\n",
              "       10.5, 17.1, 18.4, 15.4, 10.8, 11.8, 14.9, 12.6, 14.1, 13. , 13.4,\n",
              "       15.2, 16.1, 17.8, 14.9, 14.1, 12.7, 13.5, 14.9, 20. , 16.4, 17.7,\n",
              "       19.5, 20.2, 21.4, 19.9, 19. , 19.1, 19.1, 20.1, 19.9, 19.6, 23.2,\n",
              "       29.8, 13.8, 13.3, 16.7, 12. , 14.6, 21.4, 23. , 23.7, 25. , 21.8,\n",
              "       20.6, 21.2, 19.1, 20.6, 15.2,  7. ,  8.1, 13.6, 20.1, 21.8, 24.5,\n",
              "       23.1, 19.7, 18.3, 21.2, 17.5, 16.8, 22.4, 20.6, 23.9, 22. , 11.9])"
            ]
          },
          "metadata": {},
          "execution_count": 135
        }
      ]
    },
    {
      "cell_type": "code",
      "source": [
        "# разобьем данные на трейн- и тест-выборку\n",
        "from sklearn.model_selection import train_test_split"
      ],
      "metadata": {
        "id": "XIVTsh6yPuFL"
      },
      "execution_count": 136,
      "outputs": []
    },
    {
      "cell_type": "code",
      "source": [
        "X_train, X_test, Y_train, Y_test = train_test_split(X_scaled, Y, test_size=0.3, random_state=21)"
      ],
      "metadata": {
        "id": "mrB-YH4tQOHF"
      },
      "execution_count": 137,
      "outputs": []
    },
    {
      "cell_type": "code",
      "source": [
        "# посмотрим на размерности выборок\n",
        "print(X_train.shape)\n",
        "print(X_test.shape)\n",
        "print(Y_train.shape)\n",
        "print(Y_test.shape)"
      ],
      "metadata": {
        "colab": {
          "base_uri": "https://localhost:8080/"
        },
        "id": "9ZzMehz1Xg3S",
        "outputId": "7c073602-3a78-4de0-ab59-922d692ce971"
      },
      "execution_count": 138,
      "outputs": [
        {
          "output_type": "stream",
          "name": "stdout",
          "text": [
            "(354, 13)\n",
            "(152, 13)\n",
            "(354,)\n",
            "(152,)\n"
          ]
        }
      ]
    },
    {
      "cell_type": "markdown",
      "source": [
        "## Теперь всё готово к построению модели лин.регрессии. Загрузим PyTorch"
      ],
      "metadata": {
        "id": "N1S9O982TigT"
      }
    },
    {
      "cell_type": "code",
      "source": [
        "import torch\n",
        "print(torch.__version__)"
      ],
      "metadata": {
        "colab": {
          "base_uri": "https://localhost:8080/"
        },
        "id": "96dQyq9nQW9q",
        "outputId": "396afc48-313f-4567-dd54-d2d46e1af425"
      },
      "execution_count": 47,
      "outputs": [
        {
          "output_type": "stream",
          "name": "stdout",
          "text": [
            "1.12.1+cu113\n"
          ]
        }
      ]
    },
    {
      "cell_type": "code",
      "source": [
        "# Преобразуем данные из массивов Numpy в тензоры Torch [для \"Y_test\" пришлось сделать ещё раз \"to_numpy\", иначе выдавал ошибку]\n",
        "X_train = torch.tensor(X_train, dtype=torch.float)\n",
        "X_test = torch.tensor(X_test, dtype=torch.float)\n",
        "Y_train = torch.tensor(Y_train, dtype=torch.float).view(-1, 1)\n",
        "Y_test = torch.tensor(Y_test.to_numpy(), dtype=torch.float).view(-1, 1)"
      ],
      "metadata": {
        "id": "E2FjQQUVVig7"
      },
      "execution_count": 139,
      "outputs": []
    },
    {
      "cell_type": "code",
      "source": [
        "# количество входящих признаков\n",
        "X_train.shape[1]"
      ],
      "metadata": {
        "colab": {
          "base_uri": "https://localhost:8080/"
        },
        "id": "NCQli1DLd2vY",
        "outputId": "f49acd28-9061-4e34-b158-2bb65eb01569"
      },
      "execution_count": 140,
      "outputs": [
        {
          "output_type": "execute_result",
          "data": {
            "text/plain": [
              "13"
            ]
          },
          "metadata": {},
          "execution_count": 140
        }
      ]
    },
    {
      "cell_type": "code",
      "source": [
        "# определим нейронную сеть с одним нейроном, этого будет достаточно для построения лин.регрессии\n",
        "w_num = X_train.shape[1] # 13 входов\n",
        "net = torch.nn.Sequential(\n",
        "    torch.nn.Linear(w_num, 1) # 1 выход \n",
        ")\n",
        "\n",
        "torch.nn.init.normal_(net[0].weight, mean=0, std=0.1)\n",
        "torch.nn.init.constant_(net[0].bias, val=0)"
      ],
      "metadata": {
        "colab": {
          "base_uri": "https://localhost:8080/"
        },
        "id": "Re8spl5Wcxk-",
        "outputId": "4da7e271-9ed2-46c6-93ae-36ae9b1e247f"
      },
      "execution_count": 141,
      "outputs": [
        {
          "output_type": "execute_result",
          "data": {
            "text/plain": [
              "Parameter containing:\n",
              "tensor([0.], requires_grad=True)"
            ]
          },
          "metadata": {},
          "execution_count": 141
        }
      ]
    },
    {
      "cell_type": "code",
      "source": [
        "#  создадим обучающие наборы данных\n",
        "datasets = torch.utils.data.TensorDataset(X_train, Y_train)"
      ],
      "metadata": {
        "id": "u7E4NwDkeaYQ"
      },
      "execution_count": 147,
      "outputs": []
    },
    {
      "cell_type": "code",
      "source": [
        "# теперь создадим загрузчик данных, который вернет итератор для пошагового (\"побатчевого\") обучения модели\n",
        "train_iter = torch.utils.data.DataLoader(datasets, batch_size=5, shuffle=True)"
      ],
      "metadata": {
        "id": "LGqX6H7zfFpv"
      },
      "execution_count": 159,
      "outputs": []
    },
    {
      "cell_type": "code",
      "source": [
        "# в качестве минимизируемой функции потерь возьмем функцию расчета среднеквадратичной ошибки (Mean Squared Error)\n",
        "loss = torch.nn.MSELoss()"
      ],
      "metadata": {
        "id": "mgeuArKOfzPs"
      },
      "execution_count": 149,
      "outputs": []
    },
    {
      "cell_type": "code",
      "source": [
        "# в качестве метода оптимизации возьмем стохастический градиентный спуск,\n",
        "# Learning Rate = 0.05\n",
        "optimizer = torch.optim.SGD(net.parameters(), lr=0.05)"
      ],
      "metadata": {
        "id": "tybKJV7NgMZC"
      },
      "execution_count": 150,
      "outputs": []
    },
    {
      "cell_type": "code",
      "source": [
        "# обучим модель на 1000 эпохах. Если ошибка снизится ниже уровня 0.5, то остановим обучение\n",
        "num_epochs = 1000\n",
        "for epoch in range(num_epochs):\n",
        "    for x, y in train_iter:\n",
        "        output = net(x)\n",
        "        l = loss(output, y)\n",
        "        optimizer.zero_grad()\n",
        "        l.backward()\n",
        "        optimizer.step()\n",
        "    print(\"epoch {} loss: {:.4f}\".format(epoch + 1, l.item()))\n",
        "\n",
        "    if l.item() < 0.5:\n",
        "        break"
      ],
      "metadata": {
        "colab": {
          "base_uri": "https://localhost:8080/"
        },
        "id": "JLBKxiVxe4M2",
        "outputId": "cb89e060-575d-46b2-d0ff-e6b13162017e"
      },
      "execution_count": 160,
      "outputs": [
        {
          "output_type": "stream",
          "name": "stdout",
          "text": [
            "epoch 1 loss: 26.8912\n",
            "epoch 2 loss: 29.0196\n",
            "epoch 3 loss: 3.5982\n",
            "epoch 4 loss: 18.6414\n",
            "epoch 5 loss: 23.2696\n",
            "epoch 6 loss: 19.5012\n",
            "epoch 7 loss: 6.2867\n",
            "epoch 8 loss: 14.9574\n",
            "epoch 9 loss: 28.0326\n",
            "epoch 10 loss: 89.0053\n",
            "epoch 11 loss: 44.9069\n",
            "epoch 12 loss: 15.4772\n",
            "epoch 13 loss: 0.9424\n",
            "epoch 14 loss: 15.5790\n",
            "epoch 15 loss: 53.0416\n",
            "epoch 16 loss: 11.3162\n",
            "epoch 17 loss: 15.7270\n",
            "epoch 18 loss: 3.4986\n",
            "epoch 19 loss: 5.1574\n",
            "epoch 20 loss: 34.4688\n",
            "epoch 21 loss: 5.4836\n",
            "epoch 22 loss: 9.4659\n",
            "epoch 23 loss: 41.8382\n",
            "epoch 24 loss: 9.2666\n",
            "epoch 25 loss: 37.1646\n",
            "epoch 26 loss: 2.7756\n",
            "epoch 27 loss: 68.8813\n",
            "epoch 28 loss: 41.1487\n",
            "epoch 29 loss: 14.6892\n",
            "epoch 30 loss: 4.7519\n",
            "epoch 31 loss: 13.6093\n",
            "epoch 32 loss: 10.5952\n",
            "epoch 33 loss: 24.8295\n",
            "epoch 34 loss: 5.3506\n",
            "epoch 35 loss: 9.2662\n",
            "epoch 36 loss: 21.2340\n",
            "epoch 37 loss: 1.6683\n",
            "epoch 38 loss: 49.7750\n",
            "epoch 39 loss: 45.5704\n",
            "epoch 40 loss: 30.5531\n",
            "epoch 41 loss: 21.8532\n",
            "epoch 42 loss: 7.1946\n",
            "epoch 43 loss: 36.3031\n",
            "epoch 44 loss: 45.1576\n",
            "epoch 45 loss: 8.1116\n",
            "epoch 46 loss: 24.2056\n",
            "epoch 47 loss: 39.7856\n",
            "epoch 48 loss: 32.5217\n",
            "epoch 49 loss: 4.7971\n",
            "epoch 50 loss: 27.8036\n",
            "epoch 51 loss: 4.3004\n",
            "epoch 52 loss: 62.7414\n",
            "epoch 53 loss: 21.1242\n",
            "epoch 54 loss: 36.1531\n",
            "epoch 55 loss: 6.1542\n",
            "epoch 56 loss: 105.0263\n",
            "epoch 57 loss: 4.9845\n",
            "epoch 58 loss: 7.2833\n",
            "epoch 59 loss: 19.1263\n",
            "epoch 60 loss: 21.6798\n",
            "epoch 61 loss: 17.6435\n",
            "epoch 62 loss: 49.7273\n",
            "epoch 63 loss: 178.4453\n",
            "epoch 64 loss: 21.7492\n",
            "epoch 65 loss: 15.5304\n",
            "epoch 66 loss: 4.0242\n",
            "epoch 67 loss: 5.2733\n",
            "epoch 68 loss: 34.0231\n",
            "epoch 69 loss: 4.3615\n",
            "epoch 70 loss: 60.4105\n",
            "epoch 71 loss: 25.9835\n",
            "epoch 72 loss: 3.2003\n",
            "epoch 73 loss: 34.0815\n",
            "epoch 74 loss: 65.8859\n",
            "epoch 75 loss: 18.0715\n",
            "epoch 76 loss: 4.8869\n",
            "epoch 77 loss: 9.7807\n",
            "epoch 78 loss: 25.6611\n",
            "epoch 79 loss: 24.3114\n",
            "epoch 80 loss: 24.8363\n",
            "epoch 81 loss: 14.3671\n",
            "epoch 82 loss: 32.5843\n",
            "epoch 83 loss: 4.0705\n",
            "epoch 84 loss: 8.1770\n",
            "epoch 85 loss: 1.7207\n",
            "epoch 86 loss: 17.3102\n",
            "epoch 87 loss: 21.4570\n",
            "epoch 88 loss: 12.2712\n",
            "epoch 89 loss: 6.1072\n",
            "epoch 90 loss: 20.3830\n",
            "epoch 91 loss: 6.3953\n",
            "epoch 92 loss: 18.1027\n",
            "epoch 93 loss: 15.6378\n",
            "epoch 94 loss: 18.5635\n",
            "epoch 95 loss: 35.5197\n",
            "epoch 96 loss: 5.4006\n",
            "epoch 97 loss: 18.0707\n",
            "epoch 98 loss: 13.0404\n",
            "epoch 99 loss: 84.1139\n",
            "epoch 100 loss: 172.4495\n",
            "epoch 101 loss: 19.4106\n",
            "epoch 102 loss: 58.2201\n",
            "epoch 103 loss: 94.1661\n",
            "epoch 104 loss: 18.8812\n",
            "epoch 105 loss: 27.8699\n",
            "epoch 106 loss: 28.1487\n",
            "epoch 107 loss: 22.4801\n",
            "epoch 108 loss: 8.6028\n",
            "epoch 109 loss: 7.8984\n",
            "epoch 110 loss: 0.2614\n"
          ]
        }
      ]
    },
    {
      "cell_type": "markdown",
      "source": [
        "## Проверим теперь качество предсказаний на тестовой выборке."
      ],
      "metadata": {
        "id": "o9k_b0KNiyYK"
      }
    },
    {
      "cell_type": "code",
      "source": [
        "print(loss(net(X_test), Y_test).item())"
      ],
      "metadata": {
        "colab": {
          "base_uri": "https://localhost:8080/"
        },
        "id": "UfCz7GKmVidp",
        "outputId": "d563a55f-3587-4140-b0c6-c07823fd295d"
      },
      "execution_count": 161,
      "outputs": [
        {
          "output_type": "stream",
          "name": "stdout",
          "text": [
            "27.428171157836914\n"
          ]
        }
      ]
    },
    {
      "cell_type": "markdown",
      "source": [
        "## На тестовой выборке значение лосс-функции значительно выше полученного на трейн-. А что с конкретными предсказаниями?"
      ],
      "metadata": {
        "id": "BfvrX_TssR-C"
      }
    },
    {
      "cell_type": "code",
      "source": [
        "for i in range(X_test.shape[0]):\n",
        "  print(\"i = \", i, net(X_test[i]).data, Y_test[i])"
      ],
      "metadata": {
        "colab": {
          "base_uri": "https://localhost:8080/"
        },
        "id": "6KuTia25lSLy",
        "outputId": "386a9a06-648d-473f-8b62-ffd1d7766e36"
      },
      "execution_count": 164,
      "outputs": [
        {
          "output_type": "stream",
          "name": "stdout",
          "text": [
            "i =  0 tensor([18.4944]) tensor([14.1000])\n",
            "i =  1 tensor([15.8399]) tensor([13.4000])\n",
            "i =  2 tensor([25.5971]) tensor([22.1000])\n",
            "i =  3 tensor([39.2371]) tensor([41.7000])\n",
            "i =  4 tensor([32.5865]) tensor([28.5000])\n",
            "i =  5 tensor([12.6248]) tensor([13.6000])\n",
            "i =  6 tensor([22.5670]) tensor([23.1000])\n",
            "i =  7 tensor([31.3777]) tensor([23.])\n",
            "i =  8 tensor([30.4532]) tensor([31.6000])\n",
            "i =  9 tensor([17.8843]) tensor([16.])\n",
            "i =  10 tensor([23.0995]) tensor([18.9000])\n",
            "i =  11 tensor([18.4660]) tensor([8.5000])\n",
            "i =  12 tensor([26.5431]) tensor([23.3000])\n",
            "i =  13 tensor([13.0556]) tensor([7.2000])\n",
            "i =  14 tensor([21.0207]) tensor([18.4000])\n",
            "i =  15 tensor([24.6865]) tensor([25.])\n",
            "i =  16 tensor([19.5346]) tensor([13.4000])\n",
            "i =  17 tensor([28.7440]) tensor([23.6000])\n",
            "i =  18 tensor([4.5669]) tensor([14.4000])\n",
            "i =  19 tensor([16.8349]) tensor([17.8000])\n",
            "i =  20 tensor([20.8558]) tensor([18.7000])\n",
            "i =  21 tensor([22.6369]) tensor([19.4000])\n",
            "i =  22 tensor([22.1643]) tensor([15.2000])\n",
            "i =  23 tensor([3.7521]) tensor([17.9000])\n",
            "i =  24 tensor([18.7694]) tensor([23.1000])\n",
            "i =  25 tensor([35.9700]) tensor([39.8000])\n",
            "i =  26 tensor([23.7361]) tensor([28.1000])\n",
            "i =  27 tensor([28.3382]) tensor([37.])\n",
            "i =  28 tensor([13.4749]) tensor([20.6000])\n",
            "i =  29 tensor([23.9278]) tensor([21.4000])\n",
            "i =  30 tensor([22.9495]) tensor([24.2000])\n",
            "i =  31 tensor([20.8707]) tensor([19.9000])\n",
            "i =  32 tensor([32.2710]) tensor([32.])\n",
            "i =  33 tensor([12.8498]) tensor([13.9000])\n",
            "i =  34 tensor([26.9024]) tensor([36.2000])\n",
            "i =  35 tensor([28.5155]) tensor([32.9000])\n",
            "i =  36 tensor([35.3372]) tensor([46.7000])\n",
            "i =  37 tensor([18.1087]) tensor([21.7000])\n",
            "i =  38 tensor([23.7554]) tensor([16.1000])\n",
            "i =  39 tensor([20.1384]) tensor([14.9000])\n",
            "i =  40 tensor([17.8454]) tensor([22.2000])\n",
            "i =  41 tensor([32.3909]) tensor([41.3000])\n",
            "i =  42 tensor([22.0425]) tensor([22.2000])\n",
            "i =  43 tensor([27.2279]) tensor([50.])\n",
            "i =  44 tensor([20.1873]) tensor([22.2000])\n",
            "i =  45 tensor([22.3600]) tensor([13.8000])\n",
            "i =  46 tensor([26.3395]) tensor([24.1000])\n",
            "i =  47 tensor([22.1731]) tensor([20.1000])\n",
            "i =  48 tensor([27.7416]) tensor([30.5000])\n",
            "i =  49 tensor([22.8681]) tensor([21.2000])\n",
            "i =  50 tensor([32.8424]) tensor([34.9000])\n",
            "i =  51 tensor([15.2553]) tensor([16.2000])\n",
            "i =  52 tensor([39.8327]) tensor([50.])\n",
            "i =  53 tensor([17.8901]) tensor([13.8000])\n",
            "i =  54 tensor([15.5431]) tensor([11.3000])\n",
            "i =  55 tensor([13.4833]) tensor([6.3000])\n",
            "i =  56 tensor([7.9819]) tensor([7.])\n",
            "i =  57 tensor([21.6005]) tensor([21.])\n",
            "i =  58 tensor([19.3889]) tensor([19.3000])\n",
            "i =  59 tensor([24.6747]) tensor([27.1000])\n",
            "i =  60 tensor([19.8745]) tensor([13.])\n",
            "i =  61 tensor([36.8542]) tensor([33.4000])\n",
            "i =  62 tensor([21.6452]) tensor([24.7000])\n",
            "i =  63 tensor([17.3852]) tensor([20.9000])\n",
            "i =  64 tensor([36.3657]) tensor([50.])\n",
            "i =  65 tensor([33.1928]) tensor([33.3000])\n",
            "i =  66 tensor([27.3471]) tensor([22.])\n",
            "i =  67 tensor([16.6199]) tensor([18.9000])\n",
            "i =  68 tensor([20.0222]) tensor([21.])\n",
            "i =  69 tensor([18.3429]) tensor([20.4000])\n",
            "i =  70 tensor([14.3335]) tensor([5.6000])\n",
            "i =  71 tensor([23.9016]) tensor([23.8000])\n",
            "i =  72 tensor([16.2995]) tensor([15.])\n",
            "i =  73 tensor([26.7596]) tensor([22.])\n",
            "i =  74 tensor([25.8874]) tensor([22.8000])\n",
            "i =  75 tensor([21.4816]) tensor([20.5000])\n",
            "i =  76 tensor([35.1524]) tensor([27.5000])\n",
            "i =  77 tensor([22.1958]) tensor([17.7000])\n",
            "i =  78 tensor([22.8043]) tensor([22.7000])\n",
            "i =  79 tensor([13.1328]) tensor([15.4000])\n",
            "i =  80 tensor([19.7636]) tensor([19.3000])\n",
            "i =  81 tensor([16.5366]) tensor([17.1000])\n",
            "i =  82 tensor([24.2774]) tensor([23.7000])\n",
            "i =  83 tensor([16.2373]) tensor([15.2000])\n",
            "i =  84 tensor([15.7882]) tensor([10.4000])\n",
            "i =  85 tensor([21.3736]) tensor([21.7000])\n",
            "i =  86 tensor([35.6339]) tensor([36.5000])\n",
            "i =  87 tensor([22.4048]) tensor([23.9000])\n",
            "i =  88 tensor([16.1127]) tensor([17.4000])\n",
            "i =  89 tensor([22.4278]) tensor([24.8000])\n",
            "i =  90 tensor([20.9887]) tensor([13.9000])\n",
            "i =  91 tensor([11.7637]) tensor([8.7000])\n",
            "i =  92 tensor([41.8319]) tensor([48.8000])\n",
            "i =  93 tensor([14.1811]) tensor([8.3000])\n",
            "i =  94 tensor([31.2130]) tensor([29.9000])\n",
            "i =  95 tensor([11.0919]) tensor([18.2000])\n",
            "i =  96 tensor([15.5785]) tensor([10.9000])\n",
            "i =  97 tensor([21.0585]) tensor([19.1000])\n",
            "i =  98 tensor([18.2833]) tensor([19.1000])\n",
            "i =  99 tensor([26.7934]) tensor([26.4000])\n",
            "i =  100 tensor([14.1765]) tensor([17.6000])\n",
            "i =  101 tensor([23.8388]) tensor([23.1000])\n",
            "i =  102 tensor([15.9975]) tensor([13.4000])\n",
            "i =  103 tensor([24.3350]) tensor([24.8000])\n",
            "i =  104 tensor([29.3090]) tensor([35.4000])\n",
            "i =  105 tensor([20.5338]) tensor([17.2000])\n",
            "i =  106 tensor([18.9940]) tensor([20.])\n",
            "i =  107 tensor([18.5347]) tensor([18.3000])\n",
            "i =  108 tensor([13.3135]) tensor([15.6000])\n",
            "i =  109 tensor([24.6377]) tensor([23.])\n",
            "i =  110 tensor([17.8882]) tensor([22.9000])\n",
            "i =  111 tensor([27.7353]) tensor([24.4000])\n",
            "i =  112 tensor([29.7502]) tensor([30.8000])\n",
            "i =  113 tensor([21.1276]) tensor([12.1000])\n",
            "i =  114 tensor([16.8321]) tensor([16.6000])\n",
            "i =  115 tensor([20.9172]) tensor([17.4000])\n",
            "i =  116 tensor([6.6232]) tensor([14.6000])\n",
            "i =  117 tensor([7.2811]) tensor([8.8000])\n",
            "i =  118 tensor([14.0092]) tensor([14.5000])\n",
            "i =  119 tensor([32.4032]) tensor([33.2000])\n",
            "i =  120 tensor([21.8390]) tensor([11.9000])\n",
            "i =  121 tensor([21.9150]) tensor([26.2000])\n",
            "i =  122 tensor([19.3068]) tensor([19.6000])\n",
            "i =  123 tensor([18.2042]) tensor([20.9000])\n",
            "i =  124 tensor([13.1357]) tensor([16.3000])\n",
            "i =  125 tensor([16.2363]) tensor([17.3000])\n",
            "i =  126 tensor([15.2404]) tensor([20.1000])\n",
            "i =  127 tensor([30.7441]) tensor([27.9000])\n",
            "i =  128 tensor([19.1414]) tensor([18.9000])\n",
            "i =  129 tensor([30.3760]) tensor([50.])\n",
            "i =  130 tensor([24.0284]) tensor([23.3000])\n",
            "i =  131 tensor([37.7351]) tensor([33.2000])\n",
            "i =  132 tensor([38.3051]) tensor([35.2000])\n",
            "i =  133 tensor([14.8056]) tensor([12.7000])\n",
            "i =  134 tensor([21.8524]) tensor([22.8000])\n",
            "i =  135 tensor([20.6155]) tensor([22.6000])\n",
            "i =  136 tensor([30.4699]) tensor([28.7000])\n",
            "i =  137 tensor([19.7493]) tensor([18.])\n",
            "i =  138 tensor([23.2512]) tensor([16.7000])\n",
            "i =  139 tensor([15.7842]) tensor([23.1000])\n",
            "i =  140 tensor([25.6165]) tensor([22.5000])\n",
            "i =  141 tensor([18.0670]) tensor([19.5000])\n",
            "i =  142 tensor([10.1951]) tensor([7.2000])\n",
            "i =  143 tensor([37.2639]) tensor([50.])\n",
            "i =  144 tensor([40.0494]) tensor([44.8000])\n",
            "i =  145 tensor([32.7140]) tensor([37.2000])\n",
            "i =  146 tensor([16.2934]) tensor([19.])\n",
            "i =  147 tensor([41.9416]) tensor([46.])\n",
            "i =  148 tensor([14.9855]) tensor([16.6000])\n",
            "i =  149 tensor([28.0927]) tensor([24.6000])\n",
            "i =  150 tensor([14.6553]) tensor([14.])\n",
            "i =  151 tensor([14.1215]) tensor([15.6000])\n"
          ]
        }
      ]
    },
    {
      "cell_type": "markdown",
      "source": [
        "## Мы видим, что модель на тестовой выборке предсказывает цену недвижимости в целом близко к реальным значениям, хотя иногда случаются сильные выбросы."
      ],
      "metadata": {
        "id": "y-2MZHFxutH2"
      }
    }
  ]
}