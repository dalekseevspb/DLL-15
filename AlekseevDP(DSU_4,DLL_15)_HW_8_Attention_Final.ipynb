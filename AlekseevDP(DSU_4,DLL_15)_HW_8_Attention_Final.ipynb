{
  "nbformat": 4,
  "nbformat_minor": 0,
  "metadata": {
    "colab": {
      "provenance": [],
      "collapsed_sections": [
        "wFFQrcT-b3sl"
      ]
    },
    "kernelspec": {
      "name": "python3",
      "display_name": "Python 3"
    },
    "language_info": {
      "name": "python"
    },
    "gpuClass": "standard",
    "accelerator": "GPU"
  },
  "cells": [
    {
      "cell_type": "markdown",
      "source": [
        "## AlekseevDP(DSU-4,DLL-15)_HW#8_Внимание.\n",
        "\n",
        "Задание:\n",
        "- Возьмите англо-русскую пару фраз (https://www.manythings.org/anki/)\n",
        "\n",
        "- Обучите на них seq2seq with attention:\n",
        "  - На основе MLP \n",
        "  - На основе скалярного произведения\n",
        "  \n",
        "- Оцените качество\n"
      ],
      "metadata": {
        "id": "qs43GIpSCdMA"
      }
    },
    {
      "cell_type": "code",
      "execution_count": 1,
      "metadata": {
        "id": "l72U8N4ZCbyu"
      },
      "outputs": [],
      "source": [
        "%matplotlib inline"
      ]
    },
    {
      "cell_type": "code",
      "source": [
        "from io import open\n",
        "import unicodedata\n",
        "import string\n",
        "import re\n",
        "import random\n",
        "import math\n",
        "\n",
        "import torch\n",
        "import torch.nn as nn\n",
        "from torch import optim\n",
        "import torch.nn.functional as F\n",
        "\n",
        "import warnings\n",
        "warnings.simplefilter(\"ignore\", UserWarning)\n",
        "\n",
        "device = torch.device(\"cuda\" if torch.cuda.is_available() else \"cpu\")\n",
        "CUDA_LAUNCH_BLOCKING = \"1\"\n",
        "device"
      ],
      "metadata": {
        "colab": {
          "base_uri": "https://localhost:8080/"
        },
        "id": "mCzxVlyEG_WE",
        "outputId": "d14a1c24-bbcc-41f8-ab9a-67dc844a631b"
      },
      "execution_count": 2,
      "outputs": [
        {
          "output_type": "execute_result",
          "data": {
            "text/plain": [
              "device(type='cuda')"
            ]
          },
          "metadata": {},
          "execution_count": 2
        }
      ]
    },
    {
      "cell_type": "code",
      "source": [
        "# !wget https://www.manythings.org/anki/rus-eng.zip\n",
        "# !unzip rus-eng.zip"
      ],
      "metadata": {
        "id": "ByZwfI0JG_T3"
      },
      "execution_count": null,
      "outputs": []
    },
    {
      "cell_type": "markdown",
      "source": [
        "## Файл https://www.manythings.org/anki/rus-eng.zip потребовал предобработки в программе Anki, а именно - удаления колонки со служебной информацией (номер  карточки перевода, автор и т.п.), иначе при загрузке корпуса возникала ошибка. Предобработанный файл: eng-rus_prepared_full.txt (для быстрого примера см. в репозитории Github файл 'eng-rus_prepared_example.txt')"
      ],
      "metadata": {
        "id": "KXhRJh3Ohr8q"
      }
    },
    {
      "cell_type": "code",
      "source": [
        "# переместим предобработанный файл в каталог '/data' и переименуем в 'eng-rus.txt'\n",
        "!mkdir '/content/data'\n",
        "# !mv eng-rus_prepared_example.txt '/content/data/eng-rus.txt'\n",
        "!mv eng-rus_prepared_full.txt '/content/data/eng-rus.txt'"
      ],
      "metadata": {
        "id": "tTv86giCG_Q7"
      },
      "execution_count": 3,
      "outputs": []
    },
    {
      "cell_type": "code",
      "source": [
        "!head -50 data/eng-rus.txt"
      ],
      "metadata": {
        "colab": {
          "base_uri": "https://localhost:8080/"
        },
        "id": "0easvWv5HxSv",
        "outputId": "6bbdde77-b7cb-4102-cc2f-3a53d1152615"
      },
      "execution_count": 4,
      "outputs": [
        {
          "output_type": "stream",
          "name": "stdout",
          "text": [
            "Go.\tМарш!\n",
            "Hi.\tЗдравствуйте.\n",
            "Run!\tБеги!\n",
            "Run.\tБеги!\n",
            "Who?\tКто?\n",
            "Wow!\tВот это да!\n",
            "Duck!\tПригнись!\n",
            "Fire!\tОгонь!\n",
            "Help!\tПомогите!\n",
            "Hide.\tПрячься.\n",
            "Jump!\tПрыгай!\n",
            "Jump.\tПрыгай!\n",
            "Stay.\tОставайся.\n",
            "Stop!\tСтой!\n",
            "Wait!\tПодожди!\n",
            "Wait.\tЖдите.\n",
            "Do it.\tСделай это.\n",
            "Go on.\tПродолжай.\n",
            "Hello!\tЗдравствуйте.\n",
            "Hurry!\tПоспешите.\n",
            "I ran.\tЯ бежал.\n",
            "I see.\tПонимаю.\n",
            "I try.\tЯ пытаюсь.\n",
            "I won!\tЯ победил!\n",
            "Oh no!\tО нет!\n",
            "Relax.\tРасслабьтесь.\n",
            "Shoot!\tСтреляй!\n",
            "Smile.\tУлыбочка.\n",
            "Sorry?\tИзвините?\n",
            "Attack!\tВ атаку!\n",
            "Buy it.\tКупите её.\n",
            "Cheers!\tЗа ваше здоровье!\n",
            "Eat it.\tСъешь это.\n",
            "Eat up.\tДоедай.\n",
            "Freeze!\tНи с места!\n",
            "Get up.\tВставай.\n",
            "Go now.\tА теперь уходи.\n",
            "Got it!\tПонял!\n",
            "Got it?\tПонял?\n",
            "He ran.\tОн бежал.\n",
            "Hop in.\tЗалезай.\n",
            "Hug me.\tОбними меня.\n",
            "I fell.\tЯ упал.\n",
            "I knit.\tЯ вяжу.\n",
            "I know.\tЯ знаю.\n",
            "I left.\tЯ ушёл.\n",
            "I lied.\tЯ солгал.\n",
            "I lost.\tЯ проиграл.\n",
            "I paid.\tЯ заплатил.\n",
            "I pass.\tЯ пас.\n"
          ]
        }
      ]
    },
    {
      "cell_type": "code",
      "source": [
        "SOS_token = 0\n",
        "EOS_token = 1\n",
        "\n",
        "class Lang:\n",
        "    def __init__(self, name):\n",
        "        self.name = name\n",
        "        self.word2index = {}\n",
        "        self.word2count = {}\n",
        "        self.index2word = {0: \"SOS\", 1: \"EOS\"}\n",
        "        self.n_words = 2  # Count SOS and EOS\n",
        "\n",
        "    def addSentence(self, sentence):\n",
        "        for word in sentence.split(' '):\n",
        "            self.addWord(word)\n",
        "\n",
        "    def addWord(self, word):\n",
        "        if word not in self.word2index:\n",
        "            self.word2index[word] = self.n_words\n",
        "            self.word2count[word] = 1\n",
        "            self.index2word[self.n_words] = word\n",
        "            self.n_words += 1\n",
        "        else:\n",
        "            self.word2count[word] += 1"
      ],
      "metadata": {
        "id": "CmMLUnBhHxPy"
      },
      "execution_count": 5,
      "outputs": []
    },
    {
      "cell_type": "markdown",
      "source": [
        "## Через библиотеку Unicodedata не удалось \"забороть\" кодировку предложений на русском языке, хотя кодировка UTF-8 включает в себя в т.ч. русские буквы (ошибка не возникала, но русскоязычная часть корпуса получалась всегда пустой - 0 фраз). Поэтому нашел альтернативный вариант - русские фразы переводить в транслит с использованием другой библиотеки (Unidecode):"
      ],
      "metadata": {
        "id": "-Zw-0lHtV7ga"
      }
    },
    {
      "cell_type": "code",
      "source": [
        "!pip install Unidecode"
      ],
      "metadata": {
        "colab": {
          "base_uri": "https://localhost:8080/"
        },
        "id": "RROLiYaiHxIz",
        "outputId": "aadd52db-a3cf-4478-f268-c1a67f06f519"
      },
      "execution_count": 6,
      "outputs": [
        {
          "output_type": "stream",
          "name": "stdout",
          "text": [
            "Looking in indexes: https://pypi.org/simple, https://us-python.pkg.dev/colab-wheels/public/simple/\n",
            "Collecting Unidecode\n",
            "  Downloading Unidecode-1.3.6-py3-none-any.whl (235 kB)\n",
            "\u001b[K     |████████████████████████████████| 235 kB 28.9 MB/s \n",
            "\u001b[?25hInstalling collected packages: Unidecode\n",
            "Successfully installed Unidecode-1.3.6\n"
          ]
        }
      ]
    },
    {
      "cell_type": "code",
      "source": [
        "from unidecode import unidecode"
      ],
      "metadata": {
        "id": "e9uAxoTkJ6st"
      },
      "execution_count": 7,
      "outputs": []
    },
    {
      "cell_type": "code",
      "source": [
        "def unicodeToAscii(s):\n",
        "    return ''.join(\n",
        "        # c for c in unicodedata.normalize('NFD', s)  # Turn a Unicode string to plain ASCII, \n",
        "        # if unicodedata.category(c) != 'Mn'          # thanks to http://stackoverflow.com/a/518232/2809427\n",
        "        c for c in unidecode(s)\n",
        ")\n",
        "\n",
        "# Lowercase, trim, and remove non-letter characters\n",
        "def normalizeString(s):\n",
        "    s = unicodeToAscii(s.lower().strip())\n",
        "    s = re.sub(r\"([.!?])\", r\" \\1\", s)\n",
        "    s = re.sub(r\"[^a-zA-Z.!?]+\", r\" \", s)\n",
        "    return s"
      ],
      "metadata": {
        "id": "2HoEh5pGJ6pk"
      },
      "execution_count": 8,
      "outputs": []
    },
    {
      "cell_type": "code",
      "source": [
        "def readLangs(lang1, lang2, reverse=False):\n",
        "    print(\"Reading lines...\")\n",
        "\n",
        "    # Read the file and split into lines\n",
        "    lines = open('data/%s-%s.txt' % (lang1, lang2), encoding='utf-8').\\\n",
        "        read().strip().split('\\n')\n",
        "\n",
        "    # Split every line into pairs and normalize\n",
        "    pairs = [[normalizeString(s) for s in l.split('\\t')] for l in lines]\n",
        "\n",
        "    # Reverse pairs, make Lang instances\n",
        "    if reverse:\n",
        "        pairs = [list(reversed(p)) for p in pairs]\n",
        "        input_lang = Lang(lang2)\n",
        "        output_lang = Lang(lang1)\n",
        "    else:\n",
        "        input_lang = Lang(lang1)\n",
        "        output_lang = Lang(lang2)\n",
        "\n",
        "    return input_lang, output_lang, pairs"
      ],
      "metadata": {
        "id": "fJLaQRMpLTyw"
      },
      "execution_count": 9,
      "outputs": []
    },
    {
      "cell_type": "markdown",
      "source": [
        "## На \"типовых\" префиксах начала предложений (из туториала/лекции) модель Seq2seq показывала хорошую точность предсказаний (лосс ниже 1.0), т.к. корпус был небольшой и предложения короткие. Поэтому с целью эксперимента задача была усложнена: увеличена длина предложения до 100 символов, а также добавлены новые префиксы начала предложений. Итоговый корпус для обучения модели составил 29743 фразы (см.ниже)."
      ],
      "metadata": {
        "id": "y5XjTYr3jI2i"
      }
    },
    {
      "cell_type": "code",
      "source": [
        "MAX_LENGTH = 100\n",
        "\n",
        "eng_prefixes = (\n",
        "    \"i am\", \"i m\",\n",
        "    \"he is\", \"he s\",\n",
        "    \"she is\", \"she s\",\n",
        "    \"you are\", \"you re\",\n",
        "    \"we are\", \"we re\",\n",
        "    \"they are\", \"they re\",\n",
        "    \"i can\", \"i can t\",\n",
        "    \"that is\", \"that s\",\n",
        "    \"we will\", \"we ll\",\n",
        "    \"i was\", \"he was\", \"she was\",\n",
        "    \"do you\", \"are you\",\n",
        "    \"i have\", \"i ve\", \"i had\", \"i d\",\n",
        "    \"what is\", \"what s\", \"what was\",\n",
        "    \"what do\", \"what did\",\n",
        "    \"we have\", \"we ve\",\n",
        "    \"i do\", \"i don t\",\n",
        "    \"did\", \"i ll\",\n",
        "    \"there is\", \"there s\",\n",
        "    \"how\", \"when\"\n",
        ")\n",
        "\n",
        "def filterPair(p):\n",
        "    return len(p[0].split(' ')) < MAX_LENGTH and \\\n",
        "        len(p[1].split(' ')) < MAX_LENGTH and \\\n",
        "        p[1].startswith(eng_prefixes)\n",
        "\n",
        "def filterPairs(pairs):\n",
        "    return [pair for pair in pairs if filterPair(pair)]"
      ],
      "metadata": {
        "id": "pbAbIeN7LTq4"
      },
      "execution_count": 10,
      "outputs": []
    },
    {
      "cell_type": "code",
      "source": [
        "def prepareData(lang1, lang2, reverse=False):\n",
        "    input_lang, output_lang, pairs = readLangs(lang1, lang2, reverse)\n",
        "    print(\"Read %s sentence pairs\" % len(pairs))\n",
        "    pairs = filterPairs(pairs)\n",
        "    print(\"Trimmed to %s sentence pairs\" % len(pairs))\n",
        "    print(\"Counting words...\")\n",
        "    for pair in pairs:\n",
        "        input_lang.addSentence(pair[0])\n",
        "        output_lang.addSentence(pair[1])\n",
        "    print(\"Counted words:\")\n",
        "    print(input_lang.name, input_lang.n_words)\n",
        "    print(output_lang.name, output_lang.n_words)\n",
        "    return input_lang, output_lang, pairs\n",
        "\n",
        "input_lang, output_lang, pairs = prepareData('eng', 'rus', True)\n",
        "print(random.choice(pairs))"
      ],
      "metadata": {
        "colab": {
          "base_uri": "https://localhost:8080/"
        },
        "id": "31ZdhRzPJ6mc",
        "outputId": "be58ff8e-28da-4e62-cd92-097126a2d7dc"
      },
      "execution_count": 11,
      "outputs": [
        {
          "output_type": "stream",
          "name": "stdout",
          "text": [
            "Reading lines...\n",
            "Read 746410 sentence pairs\n",
            "Trimmed to 29743 sentence pairs\n",
            "Counting words...\n",
            "Counted words:\n",
            "rus 13446\n",
            "eng 6084\n",
            "['u menia est neskol ko dollarov .', 'i have a few dollars .']\n"
          ]
        }
      ]
    },
    {
      "cell_type": "code",
      "source": [
        "print(random.choice(pairs))"
      ],
      "metadata": {
        "colab": {
          "base_uri": "https://localhost:8080/"
        },
        "id": "Sfc_KqarMn13",
        "outputId": "1132f902-c9c6-4638-ee76-ad8a7bc4edc3"
      },
      "execution_count": 12,
      "outputs": [
        {
          "output_type": "stream",
          "name": "stdout",
          "text": [
            "['skol ko stoit etot galstuk ?', 'how much does this tie cost ?']\n"
          ]
        }
      ]
    },
    {
      "cell_type": "markdown",
      "source": [
        "## 1. Реализация 'seq2seq with attention' на основе MLP (Multilayer Perceptron)"
      ],
      "metadata": {
        "id": "wFFQrcT-b3sl"
      }
    },
    {
      "cell_type": "markdown",
      "metadata": {
        "id": "vgtWqznCM9uH"
      },
      "source": [
        "The Encoder\n",
        "-----------\n",
        "\n",
        "\n",
        "\n"
      ]
    },
    {
      "cell_type": "code",
      "source": [
        "class EncoderRNN(nn.Module):\n",
        "    def __init__(self, input_size, hidden_size):\n",
        "        super(EncoderRNN, self).__init__()\n",
        "        self.hidden_size = hidden_size\n",
        "\n",
        "        self.embedding = nn.Embedding(input_size, hidden_size)\n",
        "        self.gru = nn.GRU(hidden_size, hidden_size)\n",
        "\n",
        "    def forward(self, input, hidden):\n",
        "        embedded = self.embedding(input).view(1, 1, -1)\n",
        "        output = embedded\n",
        "        output, hidden = self.gru(output, hidden)\n",
        "        return output, hidden\n",
        "\n",
        "    def initHidden(self):\n",
        "        return torch.zeros(1, 1, self.hidden_size, device=device)"
      ],
      "metadata": {
        "id": "ObuftFZIG_KV"
      },
      "execution_count": 13,
      "outputs": []
    },
    {
      "cell_type": "markdown",
      "metadata": {
        "id": "FwLTlgSyM9uK"
      },
      "source": [
        "The Decoder\n",
        "-----------\n",
        "\n",
        "\n"
      ]
    },
    {
      "cell_type": "code",
      "source": [
        "class AttnDecoderRNN(nn.Module):\n",
        "    def __init__(self, hidden_size, output_size, dropout_p=0.1, max_length=MAX_LENGTH):\n",
        "        super(AttnDecoderRNN, self).__init__()\n",
        "        self.hidden_size = hidden_size\n",
        "        self.output_size = output_size\n",
        "        self.dropout_p = dropout_p\n",
        "        self.max_length = max_length\n",
        "\n",
        "        self.embedding = nn.Embedding(self.output_size, self.hidden_size)\n",
        "        self.attn = nn.Linear(self.hidden_size * 2, self.max_length)\n",
        "        self.attn_combine = nn.Linear(self.hidden_size * 2, self.hidden_size)\n",
        "        self.dropout = nn.Dropout(self.dropout_p)\n",
        "        self.gru = nn.GRU(self.hidden_size, self.hidden_size)\n",
        "        self.out = nn.Linear(self.hidden_size, self.output_size)\n",
        "\n",
        "    def forward(self, input, hidden, encoder_outputs):\n",
        "        embedded = self.embedding(input).view(1, 1, -1)\n",
        "        embedded = self.dropout(embedded)\n",
        "\n",
        "        attn_weights = F.softmax(\n",
        "            self.attn(torch.cat((embedded[0], hidden[0]), 1)), dim=1)\n",
        "        attn_applied = torch.bmm(attn_weights.unsqueeze(0),\n",
        "                                 encoder_outputs.unsqueeze(0))\n",
        "\n",
        "        output = torch.cat((embedded[0], attn_applied[0]), 1)\n",
        "        output = self.attn_combine(output).unsqueeze(0)\n",
        "\n",
        "        output = F.relu(output)\n",
        "        output, hidden = self.gru(output, hidden)\n",
        "\n",
        "        output = F.log_softmax(self.out(output[0]), dim=1)\n",
        "        return output, hidden, attn_weights\n",
        "\n",
        "    def initHidden(self):\n",
        "        return torch.zeros(1, 1, self.hidden_size, device=device)"
      ],
      "metadata": {
        "id": "TcSfydjGOnFz"
      },
      "execution_count": 14,
      "outputs": []
    },
    {
      "cell_type": "code",
      "source": [
        "def indexesFromSentence(lang, sentence):\n",
        "    return [lang.word2index[word] for word in sentence.split(' ')]\n",
        "\n",
        "def tensorFromSentence(lang, sentence):\n",
        "    indexes = indexesFromSentence(lang, sentence)\n",
        "    indexes.append(EOS_token)\n",
        "    return torch.tensor(indexes, dtype=torch.long, device=device).view(-1, 1)\n",
        "\n",
        "def tensorsFromPair(pair):\n",
        "    input_tensor = tensorFromSentence(input_lang, pair[0])\n",
        "    target_tensor = tensorFromSentence(output_lang, pair[1])\n",
        "    return (input_tensor, target_tensor)"
      ],
      "metadata": {
        "id": "ZdFwSHt6Oma5"
      },
      "execution_count": 15,
      "outputs": []
    },
    {
      "cell_type": "code",
      "source": [
        "teacher_forcing_ratio = 0.5\n",
        "\n",
        "def train(input_tensor, target_tensor, encoder, decoder, encoder_optimizer, decoder_optimizer, criterion, max_length=MAX_LENGTH):\n",
        "    encoder_hidden = encoder.initHidden()\n",
        "\n",
        "    encoder_optimizer.zero_grad()\n",
        "    decoder_optimizer.zero_grad()\n",
        "\n",
        "    input_length = input_tensor.size(0)\n",
        "    target_length = target_tensor.size(0)\n",
        "\n",
        "    encoder_outputs = torch.zeros(max_length, encoder.hidden_size, device=device)\n",
        "\n",
        "    loss = 0\n",
        "\n",
        "    for ei in range(input_length):\n",
        "        encoder_output, encoder_hidden = encoder(\n",
        "            input_tensor[ei], encoder_hidden)\n",
        "        encoder_outputs[ei] = encoder_output[0, 0]\n",
        "\n",
        "    decoder_input = torch.tensor([[SOS_token]], device=device)\n",
        "\n",
        "    decoder_hidden = encoder_hidden\n",
        "\n",
        "    use_teacher_forcing = True if random.random() < teacher_forcing_ratio else False\n",
        "\n",
        "    if use_teacher_forcing:\n",
        "        # Teacher forcing: Feed the target as the next input\n",
        "        for di in range(target_length):\n",
        "            decoder_output, decoder_hidden, decoder_attention = decoder(\n",
        "                decoder_input, decoder_hidden, encoder_outputs)\n",
        "            loss += criterion(decoder_output, target_tensor[di])\n",
        "            decoder_input = target_tensor[di]  # Teacher forcing\n",
        "\n",
        "    else:\n",
        "        # Without teacher forcing: use its own predictions as the next input\n",
        "        for di in range(target_length):\n",
        "            decoder_output, decoder_hidden, decoder_attention = decoder(\n",
        "                decoder_input, decoder_hidden, encoder_outputs)\n",
        "            topv, topi = decoder_output.topk(1)\n",
        "            decoder_input = topi.squeeze().detach()  # detach from history as input\n",
        "\n",
        "            loss += criterion(decoder_output, target_tensor[di])\n",
        "            if decoder_input.item() == EOS_token:\n",
        "                break\n",
        "\n",
        "    loss.backward()\n",
        "\n",
        "    encoder_optimizer.step()\n",
        "    decoder_optimizer.step()\n",
        "\n",
        "    return loss.item() / target_length"
      ],
      "metadata": {
        "id": "Elj7K0RRO6GO"
      },
      "execution_count": 16,
      "outputs": []
    },
    {
      "cell_type": "code",
      "source": [
        "import time\n",
        "import math\n",
        "\n",
        "def asMinutes(s):\n",
        "    m = math.floor(s / 60)\n",
        "    s -= m * 60\n",
        "    return '%dm %ds' % (m, s)\n",
        "\n",
        "def timeSince(since, percent):\n",
        "    now = time.time()\n",
        "    s = now - since\n",
        "    es = s / (percent)\n",
        "    rs = es - s\n",
        "    return '%s (- %s)' % (asMinutes(s), asMinutes(rs))"
      ],
      "metadata": {
        "id": "FEsgDgKaO6DL"
      },
      "execution_count": 17,
      "outputs": []
    },
    {
      "cell_type": "code",
      "source": [
        "def trainIters(encoder, decoder, n_iters, print_every=1000, plot_every=100, learning_rate=0.01):\n",
        "    start = time.time()\n",
        "    # plot_losses = []\n",
        "    print_loss_total = 0  # Reset every print_every\n",
        "    # plot_loss_total = 0  # Reset every plot_every\n",
        "\n",
        "    encoder_optimizer = optim.SGD(encoder.parameters(), lr=learning_rate)\n",
        "    decoder_optimizer = optim.SGD(decoder.parameters(), lr=learning_rate)\n",
        "    training_pairs = [tensorsFromPair(random.choice(pairs))\n",
        "                      for i in range(n_iters)]\n",
        "    criterion = nn.NLLLoss()\n",
        "\n",
        "    for iter in range(1, n_iters + 1):\n",
        "        training_pair = training_pairs[iter - 1]\n",
        "        input_tensor = training_pair[0]\n",
        "        target_tensor = training_pair[1]\n",
        "\n",
        "        loss = train(input_tensor, target_tensor, encoder,\n",
        "                     decoder, encoder_optimizer, decoder_optimizer, criterion)\n",
        "        print_loss_total += loss\n",
        "        # plot_loss_total += loss\n",
        "\n",
        "        if iter % print_every == 0:\n",
        "            print_loss_avg = print_loss_total / print_every\n",
        "            print_loss_total = 0\n",
        "            print('%s (%d %d%%) %.4f' % (timeSince(start, iter / n_iters),\n",
        "                                         iter, iter / n_iters * 100, print_loss_avg))\n",
        "\n",
        "        # if iter % plot_every == 0:\n",
        "        #     plot_loss_avg = plot_loss_total / plot_every\n",
        "        #     plot_losses.append(plot_loss_avg)\n",
        "        #     plot_loss_total = 0\n",
        "\n",
        "    return "
      ],
      "metadata": {
        "id": "_3Xqv2VoPJZ0"
      },
      "execution_count": 18,
      "outputs": []
    },
    {
      "cell_type": "code",
      "source": [
        "def evaluate(encoder, decoder, sentence, max_length=MAX_LENGTH):\n",
        "    with torch.no_grad():\n",
        "        input_tensor = tensorFromSentence(input_lang, sentence)\n",
        "        input_length = input_tensor.size()[0]\n",
        "        encoder_hidden = encoder.initHidden()\n",
        "\n",
        "        encoder_outputs = torch.zeros(max_length, encoder.hidden_size, device=device)\n",
        "\n",
        "        for ei in range(input_length):\n",
        "            encoder_output, encoder_hidden = encoder(input_tensor[ei],\n",
        "                                                     encoder_hidden)\n",
        "            encoder_outputs[ei] += encoder_output[0, 0]\n",
        "\n",
        "        decoder_input = torch.tensor([[SOS_token]], device=device)  # SOS\n",
        "\n",
        "        decoder_hidden = encoder_hidden\n",
        "\n",
        "        decoded_words = []\n",
        "        decoder_attentions = torch.zeros(max_length, max_length)\n",
        "\n",
        "        for di in range(max_length):\n",
        "            decoder_output, decoder_hidden, decoder_attention = decoder(\n",
        "                decoder_input, decoder_hidden, encoder_outputs)\n",
        "            decoder_attentions[di] = decoder_attention.data\n",
        "            topv, topi = decoder_output.data.topk(1)\n",
        "            if topi.item() == EOS_token:\n",
        "                decoded_words.append('<EOS>')\n",
        "                break\n",
        "            else:\n",
        "                decoded_words.append(output_lang.index2word[topi.item()])\n",
        "\n",
        "            decoder_input = topi.squeeze().detach()\n",
        "\n",
        "        return decoded_words, decoder_attentions[:di + 1]"
      ],
      "metadata": {
        "id": "WUfpVDrcOmXx"
      },
      "execution_count": 19,
      "outputs": []
    },
    {
      "cell_type": "code",
      "source": [
        "def evaluateRandomly(encoder, decoder, n=10):\n",
        "    for i in range(n):\n",
        "        pair = random.choice(pairs)\n",
        "        print('>', pair[0])\n",
        "        print('=', pair[1])\n",
        "        output_words, attentions = evaluate(encoder, decoder, pair[0])\n",
        "        output_sentence = ' '.join(output_words)\n",
        "        print('<', output_sentence)\n",
        "        print('')"
      ],
      "metadata": {
        "id": "BkrGr-8pPfc3"
      },
      "execution_count": 20,
      "outputs": []
    },
    {
      "cell_type": "code",
      "source": [
        "hidden_size = 256\n",
        "encoder1 = EncoderRNN(input_lang.n_words, hidden_size).to(device)\n",
        "attn_decoder1 = AttnDecoderRNN(hidden_size, output_lang.n_words, dropout_p=0.1).to(device)\n",
        "\n",
        "trainIters(encoder1, attn_decoder1, 150000, print_every=5000)"
      ],
      "metadata": {
        "colab": {
          "base_uri": "https://localhost:8080/"
        },
        "id": "oAaRiXpAPjUL",
        "outputId": "4120cc65-756e-4419-b38a-aa71307f65bd"
      },
      "execution_count": 21,
      "outputs": [
        {
          "output_type": "stream",
          "name": "stdout",
          "text": [
            "1m 24s (- 40m 44s) (5000 3%) 3.7567\n",
            "2m 41s (- 37m 44s) (10000 6%) 3.2135\n",
            "4m 2s (- 36m 19s) (15000 10%) 2.9123\n",
            "5m 20s (- 34m 46s) (20000 13%) 2.7284\n",
            "6m 40s (- 33m 21s) (25000 16%) 2.5825\n",
            "7m 59s (- 31m 59s) (30000 20%) 2.4494\n",
            "9m 22s (- 30m 46s) (35000 23%) 2.3253\n",
            "10m 41s (- 29m 25s) (40000 26%) 2.2421\n",
            "12m 1s (- 28m 3s) (45000 30%) 2.1619\n",
            "13m 23s (- 26m 46s) (50000 33%) 2.1157\n",
            "14m 43s (- 25m 26s) (55000 36%) 2.0680\n",
            "16m 3s (- 24m 5s) (60000 40%) 1.9918\n",
            "17m 25s (- 22m 47s) (65000 43%) 1.9160\n",
            "18m 45s (- 21m 26s) (70000 46%) 1.8715\n",
            "20m 5s (- 20m 5s) (75000 50%) 1.7909\n",
            "21m 27s (- 18m 46s) (80000 53%) 1.7812\n",
            "22m 47s (- 17m 26s) (85000 56%) 1.7462\n",
            "24m 7s (- 16m 5s) (90000 60%) 1.7342\n",
            "25m 29s (- 14m 45s) (95000 63%) 1.7131\n",
            "26m 49s (- 13m 24s) (100000 66%) 1.6164\n",
            "28m 9s (- 12m 4s) (105000 70%) 1.6231\n",
            "29m 30s (- 10m 43s) (110000 73%) 1.6046\n",
            "30m 49s (- 9m 22s) (115000 76%) 1.5407\n",
            "32m 8s (- 8m 2s) (120000 80%) 1.5268\n",
            "33m 28s (- 6m 41s) (125000 83%) 1.5211\n",
            "34m 47s (- 5m 21s) (130000 86%) 1.5052\n",
            "36m 6s (- 4m 0s) (135000 90%) 1.5122\n",
            "37m 26s (- 2m 40s) (140000 93%) 1.4661\n",
            "38m 44s (- 1m 20s) (145000 96%) 1.4312\n",
            "40m 2s (- 0m 0s) (150000 100%) 1.4061\n"
          ]
        }
      ]
    },
    {
      "cell_type": "code",
      "source": [
        "evaluateRandomly(encoder1, attn_decoder1)"
      ],
      "metadata": {
        "colab": {
          "base_uri": "https://localhost:8080/"
        },
        "id": "O9b4NQtzPjQp",
        "outputId": "68a40cca-bca9-4577-a162-d6324239fcb7"
      },
      "execution_count": 24,
      "outputs": [
        {
          "output_type": "stream",
          "name": "stdout",
          "text": [
            "> podobnaia lest ni k chemu ne privediot .\n",
            "= that sort of flattery will get you nowhere .\n",
            "< that seems to make sure . <EOS>\n",
            "\n",
            "> mne prishlos ostat sia doma .\n",
            "= i had to stay home .\n",
            "< i had to stay home . <EOS>\n",
            "\n",
            "> chto ty sdelal s moimi ochkami ? minutu nazad oni byli zdes .\n",
            "= what did you do with my glasses ? they were here a minute ago .\n",
            "< what they they here you were doing with him with him here . <EOS>\n",
            "\n",
            "> kak dolgo ia spal ?\n",
            "= how long did i sleep ?\n",
            "< how long did i sleep ? <EOS>\n",
            "\n",
            "> kak ty etogo dobilsia ?\n",
            "= how did you pull that off ?\n",
            "< how did you get that ? <EOS>\n",
            "\n",
            "> on krasivyi .\n",
            "= he is handsome .\n",
            "< he is handsome . <EOS>\n",
            "\n",
            "> dumaesh tom pokhudel ?\n",
            "= do you think tom has lost weight ?\n",
            "< do you think tom is a ? <EOS>\n",
            "\n",
            "> ia reshil vypolnit rabotu nezavisimo ot togo kak tiazhelo eto moglo by byt .\n",
            "= i made up my mind to do the work no matter how hard it might be .\n",
            "< i made up to buy a job to buy up it it to to to . <EOS>\n",
            "\n",
            "> chego ty na samom dele khochesh ?\n",
            "= what do you really want ?\n",
            "< what do really really want ? <EOS>\n",
            "\n",
            "> tom tebe rasskazal ?\n",
            "= did tom tell you ?\n",
            "< did tom tell you ? <EOS>\n",
            "\n"
          ]
        }
      ]
    },
    {
      "cell_type": "markdown",
      "source": [
        "## 2. Реализация 'seq2seq with attention' на основе скалярного произведения (Dot Product Attention). Адаптировано с использованием туториала: https://github.com/spro/practical-pytorch/blob/c520c52e68e945d88fff563dba1c028b6ec0197b/seq2seq-translation/seq2seq-translation.ipynb"
      ],
      "metadata": {
        "id": "Eq_dWhXk0yfe"
      }
    },
    {
      "cell_type": "code",
      "source": [
        "import unicodedata\n",
        "import string\n",
        "import re\n",
        "import random\n",
        "import time\n",
        "import math\n",
        "\n",
        "import warnings\n",
        "warnings.simplefilter(\"ignore\", UserWarning)\n",
        "\n",
        "import torch\n",
        "import torch.nn as nn\n",
        "from torch.autograd import Variable\n",
        "from torch import optim\n",
        "import torch.nn.functional as F"
      ],
      "metadata": {
        "id": "cxUKr_5C8mDi"
      },
      "execution_count": 25,
      "outputs": []
    },
    {
      "cell_type": "code",
      "source": [
        "USE_CUDA = torch.cuda.is_available()\n",
        "USE_CUDA"
      ],
      "metadata": {
        "colab": {
          "base_uri": "https://localhost:8080/"
        },
        "id": "e7s51kJX7pzN",
        "outputId": "53443bdd-a2df-4e1a-ca06-284013f41574"
      },
      "execution_count": 26,
      "outputs": [
        {
          "output_type": "execute_result",
          "data": {
            "text/plain": [
              "True"
            ]
          },
          "metadata": {},
          "execution_count": 26
        }
      ]
    },
    {
      "cell_type": "code",
      "source": [
        "!nvidia-smi"
      ],
      "metadata": {
        "colab": {
          "base_uri": "https://localhost:8080/"
        },
        "id": "4dktEz6uS2EV",
        "outputId": "04bd6754-5d3a-453b-9936-0eb26dfc838d"
      },
      "execution_count": 27,
      "outputs": [
        {
          "output_type": "stream",
          "name": "stdout",
          "text": [
            "Thu Nov 24 20:19:25 2022       \n",
            "+-----------------------------------------------------------------------------+\n",
            "| NVIDIA-SMI 460.32.03    Driver Version: 460.32.03    CUDA Version: 11.2     |\n",
            "|-------------------------------+----------------------+----------------------+\n",
            "| GPU  Name        Persistence-M| Bus-Id        Disp.A | Volatile Uncorr. ECC |\n",
            "| Fan  Temp  Perf  Pwr:Usage/Cap|         Memory-Usage | GPU-Util  Compute M. |\n",
            "|                               |                      |               MIG M. |\n",
            "|===============================+======================+======================|\n",
            "|   0  Tesla T4            Off  | 00000000:00:04.0 Off |                    0 |\n",
            "| N/A   71C    P0    30W /  70W |   1264MiB / 15109MiB |      0%      Default |\n",
            "|                               |                      |                  N/A |\n",
            "+-------------------------------+----------------------+----------------------+\n",
            "                                                                               \n",
            "+-----------------------------------------------------------------------------+\n",
            "| Processes:                                                                  |\n",
            "|  GPU   GI   CI        PID   Type   Process name                  GPU Memory |\n",
            "|        ID   ID                                                   Usage      |\n",
            "|=============================================================================|\n",
            "+-----------------------------------------------------------------------------+\n"
          ]
        }
      ]
    },
    {
      "cell_type": "markdown",
      "metadata": {
        "id": "hKYd1Vg2arIu"
      },
      "source": [
        "## Turning training data into Tensors/Variables\n",
        "\n",
        "To train we need to turn the sentences into something the neural network can understand, which of course means numbers. Each sentence will be split into words and turned into a Tensor, where each word is replaced with the index (from the Lang indexes made earlier). While creating these tensors we will also append the EOS token to signal that the sentence is over.\n",
        "\n",
        "![](https://i.imgur.com/LzocpGH.png)\n",
        "\n",
        "A Tensor is a multi-dimensional array of numbers, defined with some type e.g. FloatTensor or LongTensor. In this case we'll be using LongTensor to represent an array of integer indexes.\n",
        "\n",
        "Trainable PyTorch modules take Variables as input, rather than plain Tensors. A Variable is basically a Tensor that is able to keep track of the graph state, which is what makes autograd (automatic calculation of backwards gradients) possible."
      ]
    },
    {
      "cell_type": "code",
      "source": [
        "# Return a list of indexes, one for each word in the sentence\n",
        "def indexes_from_sentence(lang, sentence):\n",
        "    return [lang.word2index[word] for word in sentence.split(' ')]\n",
        "\n",
        "def variable_from_sentence(lang, sentence):\n",
        "    indexes = indexes_from_sentence(lang, sentence)\n",
        "    indexes.append(EOS_token)\n",
        "    var = Variable(torch.LongTensor(indexes).view(-1, 1))\n",
        "\n",
        "    if USE_CUDA: var = var.cuda()\n",
        "    return var\n",
        "\n",
        "def variables_from_pair(pair):\n",
        "    input_variable = variable_from_sentence(input_lang, pair[0])\n",
        "    target_variable = variable_from_sentence(output_lang, pair[1])\n",
        "    return (input_variable, target_variable)"
      ],
      "metadata": {
        "id": "U39_Jws_8Sk_"
      },
      "execution_count": 28,
      "outputs": []
    },
    {
      "cell_type": "markdown",
      "metadata": {
        "id": "pxQG8CdAarIw"
      },
      "source": [
        "# Building the models"
      ]
    },
    {
      "cell_type": "markdown",
      "metadata": {
        "id": "XfkOAfERarIw"
      },
      "source": [
        "## The Encoder\n",
        "\n",
        "The encoder of a seq2seq network is a RNN that outputs some value for every word from the input sentence. For every input word the encoder outputs a vector and a hidden state, and uses the hidden state for the next input word."
      ]
    },
    {
      "cell_type": "code",
      "source": [
        "class EncoderRNN(nn.Module):\n",
        "    def __init__(self, input_size, hidden_size, n_layers=1):\n",
        "        super(EncoderRNN, self).__init__()\n",
        "        \n",
        "        self.input_size = input_size\n",
        "        self.hidden_size = hidden_size\n",
        "        self.n_layers = n_layers\n",
        "        \n",
        "        self.embedding = nn.Embedding(input_size, hidden_size)\n",
        "        self.gru = nn.GRU(hidden_size, hidden_size, n_layers)\n",
        "        \n",
        "    def forward(self, word_inputs, hidden):\n",
        "        # Note: we run this all at once (over the whole input sequence)\n",
        "        seq_len = len(word_inputs)\n",
        "        embedded = self.embedding(word_inputs).view(seq_len, 1, -1)\n",
        "        output, hidden = self.gru(embedded, hidden)\n",
        "        return output, hidden\n",
        "\n",
        "    def init_hidden(self):\n",
        "        hidden = Variable(torch.zeros(self.n_layers, 1, self.hidden_size))\n",
        "        if USE_CUDA: hidden = hidden.cuda()\n",
        "        return hidden"
      ],
      "metadata": {
        "id": "NSFfxsru8blZ"
      },
      "execution_count": 29,
      "outputs": []
    },
    {
      "cell_type": "markdown",
      "metadata": {
        "id": "FPZH_kCmarIy"
      },
      "source": [
        "## Attention Decoder"
      ]
    },
    {
      "cell_type": "markdown",
      "metadata": {
        "id": "nL9tqad8arI1"
      },
      "source": [
        "### Interpreting the Luong et al. model(s)"
      ]
    },
    {
      "cell_type": "markdown",
      "metadata": {
        "id": "JcuejxRBarI1"
      },
      "source": [
        "[Effective Approaches to Attention-based Neural Machine Translation](https://arxiv.org/abs/1508.04025) by Luong et al. describe a few more attention models that offer improvements and simplifications. They describe a few \"global attention\" models, the distinction between them being the way the attention scores are calculated.\n",
        "\n",
        "The general form of the attention calculation relies on the target (decoder) side hidden state and corresponding source (encoder) side state, normalized over all states to get values summing to 1:\n",
        "\n",
        "$$\n",
        "a_t(s) = align(h_t, \\bar h_s)  = \\dfrac{exp(score(h_t, \\bar h_s))}{\\sum_{s'} exp(score(h_t, \\bar h_{s'}))}\n",
        "$$\n",
        "\n",
        "The specific \"score\" function that compares two states is either *dot*, a simple dot product between the states; *general*, a a dot product between the decoder hidden state and a linear transform of the encoder state; or *concat*, a dot product between a new parameter $v_a$ and a linear transform of the states concatenated together.\n",
        "\n",
        "$$\n",
        "score(h_t, \\bar h_s) =\n",
        "\\begin{cases}\n",
        "h_t ^\\top \\bar h_s & dot \\\\\n",
        "h_t ^\\top \\textbf{W}_a \\bar h_s & general \\\\\n",
        "v_a ^\\top \\textbf{W}_a [ h_t ; \\bar h_s ] & concat\n",
        "\\end{cases}\n",
        "$$\n",
        "\n",
        "The modular definition of these scoring functions gives us an opportunity to build specific attention module that can switch between the different score methods. The input to this module is always the hidden state (of the decoder RNN) and set of encoder outputs."
      ]
    },
    {
      "cell_type": "code",
      "execution_count": 30,
      "metadata": {
        "collapsed": true,
        "id": "PneeXGCcarI1"
      },
      "outputs": [],
      "source": [
        "class Attn(nn.Module):\n",
        "    def __init__(self, method, hidden_size, max_length=MAX_LENGTH):\n",
        "        super(Attn, self).__init__()\n",
        "        \n",
        "        self.method = method\n",
        "        self.hidden_size = hidden_size\n",
        "        \n",
        "        if self.method == 'general':\n",
        "            self.attn = nn.Linear(self.hidden_size, hidden_size)\n",
        "\n",
        "        elif self.method == 'concat':\n",
        "            self.attn = nn.Linear(self.hidden_size * 2, hidden_size)\n",
        "            self.other = nn.Parameter(torch.FloatTensor(1, hidden_size))\n",
        "\n",
        "    def forward(self, hidden, encoder_outputs):\n",
        "        seq_len = len(encoder_outputs)\n",
        "\n",
        "        # Create variable to store attention energies\n",
        "        attn_energies = Variable(torch.zeros(seq_len)) # B x 1 x S\n",
        "        if USE_CUDA: attn_energies = attn_energies.cuda()\n",
        "\n",
        "        # Calculate energies for each encoder output\n",
        "        for i in range(seq_len):\n",
        "            attn_energies[i] = self.score(hidden, encoder_outputs[i])\n",
        "\n",
        "        # Normalize energies to weights in range 0 to 1, resize to 1 x 1 x seq_len\n",
        "        return F.softmax(attn_energies).unsqueeze(0).unsqueeze(0)\n",
        "    \n",
        "    def score(self, hidden, encoder_output):\n",
        "        \n",
        "        if self.method == 'dot':\n",
        "            # energy = hidden.dot(encoder_output)\n",
        "            energy = hidden@encoder_output.T\n",
        "            return energy\n",
        "        \n",
        "        elif self.method == 'general':\n",
        "            energy = self.attn(encoder_output)\n",
        "            # energy = hidden.dot(energy)\n",
        "            energy = hidden@energy.T\n",
        "            return energy\n",
        "        \n",
        "        elif self.method == 'concat':\n",
        "            energy = self.attn(torch.cat((hidden, encoder_output), 1))\n",
        "            # energy = self.other.dot(energy)\n",
        "            energy = self.other@energy.T\n",
        "            return energy"
      ]
    },
    {
      "cell_type": "markdown",
      "metadata": {
        "id": "u6wC4_p5arI2"
      },
      "source": [
        "Now we can build a decoder that plugs this Attn module in after the RNN to calculate attention weights, and apply those weights to the encoder outputs to get a context vector."
      ]
    },
    {
      "cell_type": "code",
      "execution_count": 31,
      "metadata": {
        "id": "oRA8XDQzarI2"
      },
      "outputs": [],
      "source": [
        "class AttnDecoderRNN(nn.Module):\n",
        "    def __init__(self, attn_model, hidden_size, output_size, n_layers=1, dropout_p=0.1):\n",
        "        super(AttnDecoderRNN, self).__init__()\n",
        "        \n",
        "        # Keep parameters for reference\n",
        "        self.attn_model = attn_model\n",
        "        self.hidden_size = hidden_size\n",
        "        self.output_size = output_size\n",
        "        self.n_layers = n_layers\n",
        "        self.dropout_p = dropout_p\n",
        "        \n",
        "        # Define layers\n",
        "        self.embedding = nn.Embedding(output_size, hidden_size)\n",
        "        self.gru = nn.GRU(hidden_size * 2, hidden_size, n_layers, dropout=dropout_p)\n",
        "        self.out = nn.Linear(hidden_size * 2, output_size)\n",
        "        \n",
        "        # Choose attention model\n",
        "        if attn_model != 'none':\n",
        "            self.attn = Attn(attn_model, hidden_size)\n",
        "    \n",
        "    def forward(self, word_input, last_context, last_hidden, encoder_outputs):\n",
        "        # Note: we run this one step at a time\n",
        "        \n",
        "        # Get the embedding of the current input word (last output word)\n",
        "        word_embedded = self.embedding(word_input).view(1, 1, -1) # S=1 x B x N\n",
        "        \n",
        "        # Combine embedded input word and last context, run through RNN\n",
        "        rnn_input = torch.cat((word_embedded, last_context.unsqueeze(0)), 2)\n",
        "        rnn_output, hidden = self.gru(rnn_input, last_hidden)\n",
        "\n",
        "        # Calculate attention from current RNN state and all encoder outputs; apply to encoder outputs\n",
        "        attn_weights = self.attn(rnn_output.squeeze(0), encoder_outputs)\n",
        "        context = attn_weights.bmm(encoder_outputs.transpose(0, 1)) # B x 1 x N\n",
        "        \n",
        "        # Final output layer (next word prediction) using the RNN hidden state and context vector\n",
        "        rnn_output = rnn_output.squeeze(0) # S=1 x B x N -> B x N\n",
        "        context = context.squeeze(1)       # B x S=1 x N -> B x N\n",
        "        output = F.log_softmax(self.out(torch.cat((rnn_output, context), 1)))\n",
        "        \n",
        "        # Return final output, hidden state, and attention weights (for visualization)\n",
        "        return output, context, hidden, attn_weights"
      ]
    },
    {
      "cell_type": "markdown",
      "metadata": {
        "id": "LEBlshpTarI3"
      },
      "source": [
        "### Testing the models\n",
        "\n",
        "To make sure the Encoder and Decoder model are working (and working together) we'll do a quick test with fake word inputs\n",
        "\n",
        "## Для тестирования модели оставим \"обычный\" dot-product (по условиям задачи) на 1-layer RNN, но остальные способы (general, concat) также работают и могут быть запущены альтернативно"
      ]
    },
    {
      "cell_type": "code",
      "execution_count": 41,
      "metadata": {
        "scrolled": false,
        "id": "fRcnyS6QarI3",
        "outputId": "f0b1d96c-2582-4cd6-bd3a-19aea8af5c22",
        "colab": {
          "base_uri": "https://localhost:8080/"
        }
      },
      "outputs": [
        {
          "output_type": "stream",
          "name": "stdout",
          "text": [
            "EncoderRNN(\n",
            "  (embedding): Embedding(10, 10)\n",
            "  (gru): GRU(10, 10)\n",
            ")\n",
            "AttnDecoderRNN(\n",
            "  (embedding): Embedding(10, 10)\n",
            "  (gru): GRU(20, 10, dropout=0.1)\n",
            "  (out): Linear(in_features=20, out_features=10, bias=True)\n",
            "  (attn): Attn()\n",
            ")\n",
            "torch.Size([1, 10]) torch.Size([1, 1, 10]) torch.Size([1, 1, 3])\n",
            "torch.Size([1, 10]) torch.Size([1, 1, 10]) torch.Size([1, 1, 3])\n",
            "torch.Size([1, 10]) torch.Size([1, 1, 10]) torch.Size([1, 1, 3])\n"
          ]
        }
      ],
      "source": [
        "encoder_test = EncoderRNN(10, 10, 1)\n",
        "decoder_test = AttnDecoderRNN('dot', 10, 10, 1) \n",
        "# decoder_test = AttnDecoderRNN('general', 10, 10, 2)\n",
        "# decoder_test = AttnDecoderRNN('concat', 10, 10, 2)\n",
        "print(encoder_test)\n",
        "print(decoder_test)\n",
        "\n",
        "encoder_hidden = encoder_test.init_hidden()\n",
        "word_input = Variable(torch.LongTensor([1, 2, 3]))\n",
        "if USE_CUDA:\n",
        "    encoder_test.cuda()\n",
        "    word_input = word_input.cuda()\n",
        "encoder_outputs, encoder_hidden = encoder_test(word_input, encoder_hidden)\n",
        "\n",
        "word_inputs = Variable(torch.LongTensor([1, 2, 3]))\n",
        "decoder_attns = torch.zeros(1, 3, 3)\n",
        "decoder_hidden = encoder_hidden\n",
        "decoder_context = Variable(torch.zeros(1, decoder_test.hidden_size))\n",
        "\n",
        "if USE_CUDA:\n",
        "    decoder_test.cuda()\n",
        "    word_inputs = word_inputs.cuda()\n",
        "    decoder_context = decoder_context.cuda()\n",
        "\n",
        "for i in range(3):\n",
        "    decoder_output, decoder_context, decoder_hidden, decoder_attn = decoder_test(word_inputs[i], decoder_context, decoder_hidden, encoder_outputs)\n",
        "    print(decoder_output.size(), decoder_hidden.size(), decoder_attn.size())\n",
        "    decoder_attns[0, i] = decoder_attn.squeeze(0).cpu().data"
      ]
    },
    {
      "cell_type": "markdown",
      "metadata": {
        "id": "K1nb027LarI4"
      },
      "source": [
        "# Training\n",
        "\n",
        "## Defining a training iteration\n",
        "\n",
        "To train we first run the input sentence through the encoder word by word, and keep track of every output and the latest hidden state. Next the decoder is given the last hidden state of the decoder as its first hidden state, and the `<SOS>` token as its first input. From there we iterate to predict a next token from the decoder.\n",
        "\n",
        "### Teacher Forcing and Scheduled Sampling\n",
        "\n",
        "\"Teacher Forcing\", or maximum likelihood sampling, means using the real target outputs as each next input when training. The alternative is using the decoder's own guess as the next input. Using teacher forcing may cause the network to converge faster, but [when the trained network is exploited, it may exhibit instability](http://minds.jacobs-university.de/sites/default/files/uploads/papers/ESNTutorialRev.pdf).\n",
        "\n",
        "You can observe outputs of teacher-forced networks that read with coherent grammar but wander far from the correct translation - you could think of it as having learned how to listen to the teacher's instructions, without learning how to venture out on its own.\n",
        "\n",
        "The solution to the teacher-forcing \"problem\" is known as [Scheduled Sampling](https://arxiv.org/abs/1506.03099), which simply alternates between using the target values and predicted values when training. We will randomly choose to use teacher forcing with an if statement while training - sometimes we'll feed use real target as the input (ignoring the decoder's output), sometimes we'll use the decoder's output."
      ]
    },
    {
      "cell_type": "code",
      "source": [
        "teacher_forcing_ratio = 0.5\n",
        "clip = 5.0\n",
        "\n",
        "def train(input_variable, target_variable, encoder, decoder, encoder_optimizer, decoder_optimizer, criterion, max_length=MAX_LENGTH):\n",
        "\n",
        "    # Zero gradients of both optimizers\n",
        "    encoder_optimizer.zero_grad()\n",
        "    decoder_optimizer.zero_grad()\n",
        "    loss = 0 # Added onto for each word\n",
        "\n",
        "    # Get size of input and target sentences\n",
        "    input_length = input_variable.size()[0]\n",
        "    target_length = target_variable.size()[0]\n",
        "\n",
        "    # Run words through encoder\n",
        "    encoder_hidden = encoder.init_hidden()\n",
        "    encoder_outputs, encoder_hidden = encoder(input_variable, encoder_hidden)\n",
        "    \n",
        "    # Prepare input and output variables\n",
        "    decoder_input = Variable(torch.LongTensor([[SOS_token]]))\n",
        "    decoder_context = Variable(torch.zeros(1, decoder.hidden_size))\n",
        "    decoder_hidden = encoder_hidden # Use last hidden state from encoder to start decoder\n",
        "    if USE_CUDA:\n",
        "        decoder_input = decoder_input.cuda()\n",
        "        decoder_context = decoder_context.cuda()\n",
        "\n",
        "    # Choose whether to use teacher forcing\n",
        "    use_teacher_forcing = random.random() < teacher_forcing_ratio\n",
        "    if use_teacher_forcing:\n",
        "        \n",
        "        # Teacher forcing: Use the ground-truth target as the next input\n",
        "        for di in range(target_length):\n",
        "            decoder_output, decoder_context, decoder_hidden, decoder_attention = decoder(decoder_input, decoder_context, decoder_hidden, encoder_outputs)\n",
        "            loss += criterion(decoder_output, target_variable[di])\n",
        "            decoder_input = target_variable[di] # Next target is next input\n",
        "\n",
        "    else:\n",
        "        # Without teacher forcing: use network's own prediction as the next input\n",
        "        for di in range(target_length):\n",
        "            decoder_output, decoder_context, decoder_hidden, decoder_attention = decoder(decoder_input, decoder_context, decoder_hidden, encoder_outputs)\n",
        "            loss += criterion(decoder_output, target_variable[di])\n",
        "            \n",
        "            # Get most likely word index (highest value) from output\n",
        "            topv, topi = decoder_output.data.topk(1)\n",
        "            ni = topi[0][0]\n",
        "            \n",
        "            decoder_input = Variable(torch.LongTensor([[ni]])) # Chosen word is next input\n",
        "            if USE_CUDA: decoder_input = decoder_input.cuda()\n",
        "\n",
        "            # Stop at end of sentence (not necessary when using known targets)\n",
        "            if ni == EOS_token: break\n",
        "\n",
        "    # Backpropagation\n",
        "    loss.backward()\n",
        "    torch.nn.utils.clip_grad_norm(encoder.parameters(), clip)\n",
        "    torch.nn.utils.clip_grad_norm(decoder.parameters(), clip)\n",
        "    encoder_optimizer.step()\n",
        "    decoder_optimizer.step()\n",
        "    \n",
        "    # return loss.data[0] / target_length\n",
        "    return loss.item() / target_length"
      ],
      "metadata": {
        "id": "6gCdRDwdSbNt"
      },
      "execution_count": 42,
      "outputs": []
    },
    {
      "cell_type": "markdown",
      "metadata": {
        "id": "umU-W8ZearI5"
      },
      "source": [
        "Finally helper functions to print time elapsed and estimated time remaining, given the current time and progress."
      ]
    },
    {
      "cell_type": "code",
      "source": [
        "def as_minutes(s):\n",
        "    m = math.floor(s / 60)\n",
        "    s -= m * 60\n",
        "    return '%dm %ds' % (m, s)\n",
        "\n",
        "def time_since(since, percent):\n",
        "    now = time.time()\n",
        "    s = now - since\n",
        "    es = s / (percent)\n",
        "    rs = es - s\n",
        "    return '%s (- %s)' % (as_minutes(s), as_minutes(rs))"
      ],
      "metadata": {
        "id": "LsxbTBFH9zC-"
      },
      "execution_count": 43,
      "outputs": []
    },
    {
      "cell_type": "markdown",
      "metadata": {
        "id": "Ixl9Hpn3arI6"
      },
      "source": [
        "## Running training\n",
        "\n",
        "With everything in place we can actually initialize a network and start training.\n",
        "\n",
        "To start, we initialize models, optimizers, and a loss function (criterion)."
      ]
    },
    {
      "cell_type": "markdown",
      "source": [
        "## Для реализации Attention'a оставим \"обычный\" dot-product (по условиям задачи)на 1-слойной RNN, но остальные способы (general, concat) также работают и могут быть запущены альтернативно"
      ],
      "metadata": {
        "id": "Qs5zI2MeoE6m"
      }
    },
    {
      "cell_type": "code",
      "source": [
        "attn_model = 'dot'\n",
        "# attn_model = 'general'\n",
        "# attn_model = 'concat'\n",
        "hidden_size = 256\n",
        "n_layers = 1\n",
        "dropout_p = 0.1\n",
        "\n",
        "# Initialize models\n",
        "encoder = EncoderRNN(input_lang.n_words, hidden_size, n_layers)\n",
        "decoder = AttnDecoderRNN(attn_model, hidden_size, output_lang.n_words, n_layers, dropout_p=dropout_p)\n",
        "\n",
        "# Move models to GPU\n",
        "if USE_CUDA:\n",
        "    encoder.cuda()\n",
        "    decoder.cuda()\n",
        "\n",
        "# Initialize optimizers and criterion\n",
        "learning_rate = 0.01\n",
        "encoder_optimizer = optim.SGD(encoder.parameters(), lr=learning_rate)\n",
        "decoder_optimizer = optim.SGD(decoder.parameters(), lr=learning_rate)\n",
        "criterion = nn.NLLLoss()"
      ],
      "metadata": {
        "id": "zbSoxZuvSbK4"
      },
      "execution_count": 45,
      "outputs": []
    },
    {
      "cell_type": "markdown",
      "metadata": {
        "id": "ptdg1AxdarI7"
      },
      "source": [
        "Then set up variables for plotting and tracking progress:"
      ]
    },
    {
      "cell_type": "code",
      "source": [
        "# Configuring training\n",
        "n_epochs = 150000\n",
        "plot_every = 200\n",
        "print_every = 5000\n",
        "\n",
        "# Keep track of time elapsed and running averages\n",
        "start = time.time()\n",
        "plot_losses = []\n",
        "print_loss_total = 0 # Reset every print_every\n",
        "plot_loss_total = 0 # Reset every plot_every"
      ],
      "metadata": {
        "id": "s6bPoI2v_z--"
      },
      "execution_count": 46,
      "outputs": []
    },
    {
      "cell_type": "markdown",
      "metadata": {
        "id": "fwQ40KQSarI8"
      },
      "source": [
        "To actually train, we call the train function many times, printing a summary as we go.\n",
        "\n",
        "*Note:* If you run this notebook you can train, interrupt the kernel, evaluate, and continue training later. You can comment out the lines above where the encoder and decoder are initialized (so they aren't reset) or simply run the notebook starting from the following cell."
      ]
    },
    {
      "cell_type": "code",
      "source": [
        "# Begin!\n",
        "for epoch in range(1, n_epochs + 1):\n",
        "    \n",
        "    # Get training data for this cycle\n",
        "    training_pair = variables_from_pair(random.choice(pairs))\n",
        "    input_variable = training_pair[0]\n",
        "    target_variable = training_pair[1]\n",
        "\n",
        "    # Run the train function\n",
        "    loss = train(input_variable, target_variable, encoder, decoder, encoder_optimizer, decoder_optimizer, criterion)\n",
        "\n",
        "    # Keep track of loss\n",
        "    print_loss_total += loss\n",
        "    plot_loss_total += loss\n",
        "\n",
        "    if epoch == 0: continue\n",
        "\n",
        "    if epoch % print_every == 0:\n",
        "        print_loss_avg = print_loss_total / print_every\n",
        "        print_loss_total = 0\n",
        "        print_summary = '%s (%d %d%%) %.4f' % (time_since(start, epoch / n_epochs), epoch, epoch / n_epochs * 100, print_loss_avg)\n",
        "        print(print_summary)\n",
        "\n",
        "    if epoch % plot_every == 0:\n",
        "        plot_loss_avg = plot_loss_total / plot_every\n",
        "        plot_losses.append(plot_loss_avg)\n",
        "        plot_loss_total = 0"
      ],
      "metadata": {
        "colab": {
          "base_uri": "https://localhost:8080/"
        },
        "id": "xPR7eXJl_z7-",
        "outputId": "f3f6cc20-46bc-40de-f813-5883007896ad"
      },
      "execution_count": 47,
      "outputs": [
        {
          "output_type": "stream",
          "name": "stdout",
          "text": [
            "1m 50s (- 53m 35s) (5000 3%) 3.8429\n",
            "3m 35s (- 50m 14s) (10000 6%) 3.5375\n",
            "5m 23s (- 48m 31s) (15000 10%) 3.3571\n",
            "7m 12s (- 46m 48s) (20000 13%) 3.2059\n",
            "9m 3s (- 45m 17s) (25000 16%) 3.0601\n",
            "10m 52s (- 43m 30s) (30000 20%) 2.9869\n",
            "12m 42s (- 41m 46s) (35000 23%) 2.8659\n",
            "14m 31s (- 39m 56s) (40000 26%) 2.8056\n",
            "16m 21s (- 38m 11s) (45000 30%) 2.7461\n",
            "18m 10s (- 36m 21s) (50000 33%) 2.6509\n",
            "20m 1s (- 34m 35s) (55000 36%) 2.6273\n",
            "21m 50s (- 32m 46s) (60000 40%) 2.5452\n",
            "23m 41s (- 30m 59s) (65000 43%) 2.5135\n",
            "25m 30s (- 29m 9s) (70000 46%) 2.4555\n",
            "27m 21s (- 27m 21s) (75000 50%) 2.4157\n",
            "29m 10s (- 25m 31s) (80000 53%) 2.3764\n",
            "31m 0s (- 23m 42s) (85000 56%) 2.2978\n",
            "32m 51s (- 21m 54s) (90000 60%) 2.2754\n",
            "34m 41s (- 20m 5s) (95000 63%) 2.2426\n",
            "36m 33s (- 18m 16s) (100000 66%) 2.2429\n",
            "38m 24s (- 16m 27s) (105000 70%) 2.1531\n",
            "40m 18s (- 14m 39s) (110000 73%) 2.1666\n",
            "42m 9s (- 12m 49s) (115000 76%) 2.1300\n",
            "44m 2s (- 11m 0s) (120000 80%) 2.1091\n",
            "45m 53s (- 9m 10s) (125000 83%) 2.0428\n",
            "47m 45s (- 7m 20s) (130000 86%) 2.0212\n",
            "49m 36s (- 5m 30s) (135000 90%) 2.0067\n",
            "51m 27s (- 3m 40s) (140000 93%) 1.9936\n",
            "53m 17s (- 1m 50s) (145000 96%) 1.9734\n",
            "55m 9s (- 0m 0s) (150000 100%) 1.9266\n"
          ]
        }
      ]
    },
    {
      "cell_type": "markdown",
      "metadata": {
        "id": "8m2wK4gharI9"
      },
      "source": [
        "## Plotting training loss\n",
        "\n",
        "Plotting is done with matplotlib, using the array `plot_losses` that was created while training."
      ]
    },
    {
      "cell_type": "code",
      "source": [
        "import matplotlib.pyplot as plt\n",
        "import matplotlib.ticker as ticker\n",
        "import numpy as np\n",
        "%matplotlib inline\n",
        "\n",
        "def show_plot(points):\n",
        "    plt.figure()\n",
        "    fig, ax = plt.subplots()\n",
        "    loc = ticker.MultipleLocator(base=0.2) # put ticks at regular intervals\n",
        "    ax.yaxis.set_major_locator(loc)\n",
        "    plt.plot(points)\n",
        "\n",
        "show_plot(plot_losses)"
      ],
      "metadata": {
        "colab": {
          "base_uri": "https://localhost:8080/",
          "height": 284
        },
        "id": "fK5FKoa2u-Og",
        "outputId": "632841e6-df6c-46a8-f339-68e1073dd3c5"
      },
      "execution_count": 48,
      "outputs": [
        {
          "output_type": "display_data",
          "data": {
            "text/plain": [
              "<Figure size 432x288 with 0 Axes>"
            ]
          },
          "metadata": {}
        },
        {
          "output_type": "display_data",
          "data": {
            "text/plain": [
              "<Figure size 432x288 with 1 Axes>"
            ],
            "image/png": "[encoded data removed]"
          },
          "metadata": {
            "needs_background": "light"
          }
        }
      ]
    },
    {
      "cell_type": "markdown",
      "metadata": {
        "id": "yVm3amM8arI-"
      },
      "source": [
        "# Evaluating the network\n",
        "\n",
        "Evaluation is mostly the same as training, but there are no targets. Instead we always feed the decoder's predictions back to itself. Every time it predicts a word, we add it to the output string. If it predicts the EOS token we stop there. We also store the decoder's attention outputs for each step to display later."
      ]
    },
    {
      "cell_type": "code",
      "source": [
        "def evaluate(sentence, max_length=MAX_LENGTH):\n",
        "    input_variable = variable_from_sentence(input_lang, sentence)\n",
        "    input_length = input_variable.size()[0]\n",
        "    \n",
        "    # Run through encoder\n",
        "    encoder_hidden = encoder.init_hidden()\n",
        "    encoder_outputs, encoder_hidden = encoder(input_variable, encoder_hidden)\n",
        "\n",
        "    # Create starting vectors for decoder\n",
        "    decoder_input = Variable(torch.LongTensor([[SOS_token]])) # SOS\n",
        "    decoder_context = Variable(torch.zeros(1, decoder.hidden_size))\n",
        "    if USE_CUDA:\n",
        "        decoder_input = decoder_input.cuda()\n",
        "        decoder_context = decoder_context.cuda()\n",
        "\n",
        "    decoder_hidden = encoder_hidden\n",
        "    \n",
        "    decoded_words = []\n",
        "    decoder_attentions = torch.zeros(max_length, max_length)\n",
        "    \n",
        "    # Run through decoder\n",
        "    for di in range(max_length):\n",
        "        decoder_output, decoder_context, decoder_hidden, decoder_attention = decoder(decoder_input, decoder_context, decoder_hidden, encoder_outputs)\n",
        "        decoder_attentions[di,:decoder_attention.size(2)] += decoder_attention.squeeze(0).squeeze(0).cpu().data\n",
        "\n",
        "        # Choose top word from output\n",
        "        topv, topi = decoder_output.data.topk(1)\n",
        "        ni = topi[0][0]\n",
        "        if ni == EOS_token:\n",
        "            decoded_words.append('<EOS>')\n",
        "            break\n",
        "        else:\n",
        "            # decoded_words.append(output_lang.index2word[ni])\n",
        "            decoded_words.append(output_lang.index2word[topi.item()])\n",
        "            \n",
        "        # Next input is chosen word\n",
        "        decoder_input = Variable(torch.LongTensor([[ni]]))\n",
        "        if USE_CUDA: decoder_input = decoder_input.cuda()\n",
        "    \n",
        "    return decoded_words, decoder_attentions[:di+1, :len(encoder_outputs)]"
      ],
      "metadata": {
        "id": "ANxACuLgAkQE"
      },
      "execution_count": 49,
      "outputs": []
    },
    {
      "cell_type": "markdown",
      "metadata": {
        "id": "kuVznpsearI_"
      },
      "source": [
        "We can evaluate random sentences from the training set and print out the input, target, and output to make some subjective quality judgements:"
      ]
    },
    {
      "cell_type": "code",
      "source": [
        "def evaluate_randomly(n=10):\n",
        "    for i in range(n):\n",
        "      pair = random.choice(pairs)\n",
        "    \n",
        "      output_words, decoder_attn = evaluate(pair[0])\n",
        "      output_sentence = ' '.join(output_words)\n",
        "    \n",
        "      print('>', pair[0])\n",
        "      print('=', pair[1])\n",
        "      print('<', output_sentence)\n",
        "      print('')"
      ],
      "metadata": {
        "id": "xWCzKhZVAkNI"
      },
      "execution_count": 50,
      "outputs": []
    },
    {
      "cell_type": "code",
      "source": [
        "evaluate_randomly()"
      ],
      "metadata": {
        "id": "y9keD59QAkJ-",
        "colab": {
          "base_uri": "https://localhost:8080/"
        },
        "outputId": "c5d6cac0-1bad-405c-ea55-83c691c03a50"
      },
      "execution_count": 52,
      "outputs": [
        {
          "output_type": "stream",
          "name": "stdout",
          "text": [
            "> chto ty delal proshloi noch iu ?\n",
            "= what did you do last night ?\n",
            "< what did you do last night ? <EOS>\n",
            "\n",
            "> vam nravitsia vasha novaia rabota ?\n",
            "= are you pleased with your new job ?\n",
            "< do you like your new job ? <EOS>\n",
            "\n",
            "> ia byl nemnogo emotsionalen .\n",
            "= i was a bit emotional .\n",
            "< i was a bit a bit . <EOS>\n",
            "\n",
            "> ia byl v depressii .\n",
            "= i was depressed .\n",
            "< i was at . <EOS>\n",
            "\n",
            "> ona vsegda kurit .\n",
            "= she is always smoking .\n",
            "< she is always . . <EOS>\n",
            "\n",
            "> u menia chetyre tuza .\n",
            "= i have four aces .\n",
            "< i have a . . <EOS>\n",
            "\n",
            "> kak by ia eto sdelal ?\n",
            "= how would i do that ?\n",
            "< how did i do that ? <EOS>\n",
            "\n",
            "> ty sobiraesh sia srubit vse eti derev ia ?\n",
            "= are you going to cut down all these trees ?\n",
            "< are you going to get the the the ? ? ? <EOS>\n",
            "\n",
            "> u menia net prichin otkazyvat sia ot moego plana .\n",
            "= there is no reason that i should give up my plan .\n",
            "< i have no no idea to the the the . . <EOS>\n",
            "\n",
            "> mne nado napisat pis mo . u tebia est bumaga ?\n",
            "= i have to write a letter . do you have some paper ?\n",
            "< what have i have to eat for the question ? <EOS>\n",
            "\n"
          ]
        }
      ]
    },
    {
      "cell_type": "markdown",
      "metadata": {
        "id": "L8-lc0HAarJA"
      },
      "source": [
        "# Visualizing attention\n",
        "\n",
        "A useful property of the attention mechanism is its highly interpretable outputs. Because it is used to weight specific encoder outputs of the input sequence, we can imagine looking where the network is focused most at each time step.\n",
        "\n",
        "You could simply run `plt.matshow(attentions)` to see attention output displayed as a matrix, with the columns being input steps and rows being output steps:"
      ]
    },
    {
      "cell_type": "code",
      "source": [
        "output_words, attentions = evaluate(\"chto ty delal proshloi noch iu ?\")\n",
        "plt.matshow(attentions.numpy())"
      ],
      "metadata": {
        "id": "M7P5SsoiAu6r",
        "colab": {
          "base_uri": "https://localhost:8080/",
          "height": 292
        },
        "outputId": "3e511f5e-c76e-4229-c0bc-edd8f1d05189"
      },
      "execution_count": 53,
      "outputs": [
        {
          "output_type": "execute_result",
          "data": {
            "text/plain": [
              "<matplotlib.image.AxesImage at 0x7f2c9f1f5f50>"
            ]
          },
          "metadata": {},
          "execution_count": 53
        },
        {
          "output_type": "display_data",
          "data": {
            "text/plain": [
              "<Figure size 288x288 with 1 Axes>"
            ],
            "image/png": "[encoded data removed]"
          },
          "metadata": {
            "needs_background": "light"
          }
        }
      ]
    },
    {
      "cell_type": "markdown",
      "metadata": {
        "id": "2rTIJgKDarJB"
      },
      "source": [
        "For a better viewing experience we will do the extra work of adding axes and labels:"
      ]
    },
    {
      "cell_type": "code",
      "source": [
        "def show_attention(input_sentence, output_words, attentions):\n",
        "    # Set up figure with colorbar\n",
        "    fig = plt.figure()\n",
        "    ax = fig.add_subplot(111)\n",
        "    cax = ax.matshow(attentions.numpy(), cmap='bone')\n",
        "    fig.colorbar(cax)\n",
        "\n",
        "    # Set up axes\n",
        "    ax.set_xticklabels([''] + input_sentence.split(' ') + ['<EOS>'], rotation=90)\n",
        "    ax.set_yticklabels([''] + output_words)\n",
        "\n",
        "    # Show label at every tick\n",
        "    ax.xaxis.set_major_locator(ticker.MultipleLocator(1))\n",
        "    ax.yaxis.set_major_locator(ticker.MultipleLocator(1))\n",
        "\n",
        "    plt.show()\n",
        "    plt.close()"
      ],
      "metadata": {
        "id": "EqWnivdhLhHm"
      },
      "execution_count": 54,
      "outputs": []
    },
    {
      "cell_type": "code",
      "source": [
        "def evaluateAndShowAttention(input_sentence_):\n",
        "    output_words, attentions = evaluate(input_sentence_)\n",
        "    print('input =', input_sentence_)\n",
        "    print('output =', ' '.join(output_words))\n",
        "    show_attention(input_sentence_, output_words, attentions)"
      ],
      "metadata": {
        "id": "Z_U8VrRnCXSn"
      },
      "execution_count": 55,
      "outputs": []
    },
    {
      "cell_type": "code",
      "source": [
        "evaluateAndShowAttention(\"chto ty delal proshloi noch iu ?\")"
      ],
      "metadata": {
        "id": "IRZiKqJTA7sL",
        "colab": {
          "base_uri": "https://localhost:8080/",
          "height": 336
        },
        "outputId": "733161b7-6187-43fb-9b71-c77cd58c7900"
      },
      "execution_count": 56,
      "outputs": [
        {
          "output_type": "stream",
          "name": "stdout",
          "text": [
            "input = chto ty delal proshloi noch iu ?\n",
            "output = what did you do last night ? <EOS>\n"
          ]
        },
        {
          "output_type": "display_data",
          "data": {
            "text/plain": [
              "<Figure size 432x288 with 2 Axes>"
            ],
            "image/png": "[encoded data removed]"
          },
          "metadata": {
            "needs_background": "light"
          }
        }
      ]
    },
    {
      "cell_type": "code",
      "source": [
        "evaluateAndShowAttention(\"u menia net prichin otkazyvat sia ot moego plana .\")"
      ],
      "metadata": {
        "colab": {
          "base_uri": "https://localhost:8080/",
          "height": 345
        },
        "id": "D8kQ44nCPWcO",
        "outputId": "02e8fcbd-7eb7-4066-aa5f-e1004257430d"
      },
      "execution_count": 58,
      "outputs": [
        {
          "output_type": "stream",
          "name": "stdout",
          "text": [
            "input = u menia net prichin otkazyvat sia ot moego plana .\n",
            "output = i have no no idea to the the the . . <EOS>\n"
          ]
        },
        {
          "output_type": "display_data",
          "data": {
            "text/plain": [
              "<Figure size 432x288 with 2 Axes>"
            ],
            "image/png": "[encoded data removed]"
          },
          "metadata": {
            "needs_background": "light"
          }
        }
      ]
    },
    {
      "cell_type": "markdown",
      "source": [
        "## Общий вывод по сравнению вариантов - MLP отработал качественнее (быстрее и с меньшим лоссом), визуально качество перевода также было выше у MLP:\n",
        "## 1. Multilayer Perceptron: 40m 2s (150000 100%) 1.4061\n",
        "## 2. Dot-product Attention @1-layer RNN: 55m 9s (150000 100%) 1.9266\n",
        "\n",
        "## Возможно, более высокого качества модели seq2seq на Dot-Product Attention удалось бы добиться с увеличением количества слоев в RNN (>=2) или с использованием других способов обработки скрытого состояния ('general' или 'concat')."
      ],
      "metadata": {
        "id": "PlZ16wikrFYc"
      }
    }
  ]
}